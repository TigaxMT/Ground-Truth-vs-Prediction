{
 "cells": [
  {
   "cell_type": "markdown",
   "metadata": {},
   "source": [
    "# Titanic"
   ]
  },
  {
   "cell_type": "markdown",
   "metadata": {},
   "source": [
    "## Descrição dos Dados"
   ]
  },
  {
   "cell_type": "code",
   "execution_count": 1695,
   "metadata": {
    "scrolled": true
   },
   "outputs": [
    {
     "data": {
      "text/html": [
       "<div>\n",
       "<style scoped>\n",
       "    .dataframe tbody tr th:only-of-type {\n",
       "        vertical-align: middle;\n",
       "    }\n",
       "\n",
       "    .dataframe tbody tr th {\n",
       "        vertical-align: top;\n",
       "    }\n",
       "\n",
       "    .dataframe thead th {\n",
       "        text-align: right;\n",
       "    }\n",
       "</style>\n",
       "<table border=\"1\" class=\"dataframe\">\n",
       "  <thead>\n",
       "    <tr style=\"text-align: right;\">\n",
       "      <th></th>\n",
       "      <th>Variável</th>\n",
       "      <th>Definição</th>\n",
       "      <th>Chave</th>\n",
       "    </tr>\n",
       "  </thead>\n",
       "  <tbody>\n",
       "    <tr>\n",
       "      <th>0</th>\n",
       "      <td>survived</td>\n",
       "      <td>Sobrevivência</td>\n",
       "      <td>0 = Não, 1 = Sim</td>\n",
       "    </tr>\n",
       "    <tr>\n",
       "      <th>1</th>\n",
       "      <td>pclass</td>\n",
       "      <td>Classe do Bilhete</td>\n",
       "      <td>1 = 1ª, 2 = 2ª, 3 = 3ª</td>\n",
       "    </tr>\n",
       "    <tr>\n",
       "      <th>2</th>\n",
       "      <td>sex</td>\n",
       "      <td>Sexo</td>\n",
       "      <td>Sem info</td>\n",
       "    </tr>\n",
       "    <tr>\n",
       "      <th>3</th>\n",
       "      <td>Age</td>\n",
       "      <td>Idade</td>\n",
       "      <td>Sem info</td>\n",
       "    </tr>\n",
       "    <tr>\n",
       "      <th>4</th>\n",
       "      <td>sibsp</td>\n",
       "      <td>num. de irmãos / cônjuges</td>\n",
       "      <td>Sem info</td>\n",
       "    </tr>\n",
       "    <tr>\n",
       "      <th>5</th>\n",
       "      <td>parch</td>\n",
       "      <td>num. de pais / filhos</td>\n",
       "      <td>Sem info</td>\n",
       "    </tr>\n",
       "    <tr>\n",
       "      <th>6</th>\n",
       "      <td>ticket</td>\n",
       "      <td>Número do bilhete</td>\n",
       "      <td>Sem info</td>\n",
       "    </tr>\n",
       "    <tr>\n",
       "      <th>7</th>\n",
       "      <td>fare</td>\n",
       "      <td>Preço do bilhete</td>\n",
       "      <td>Sem info</td>\n",
       "    </tr>\n",
       "    <tr>\n",
       "      <th>8</th>\n",
       "      <td>cabin</td>\n",
       "      <td>Número da Cabine</td>\n",
       "      <td>Sem info</td>\n",
       "    </tr>\n",
       "    <tr>\n",
       "      <th>9</th>\n",
       "      <td>embarked</td>\n",
       "      <td>Porto de Embarcação</td>\n",
       "      <td>C = Cherbourg, Q = Queenstown, S = Southampton</td>\n",
       "    </tr>\n",
       "  </tbody>\n",
       "</table>\n",
       "</div>"
      ],
      "text/plain": [
       "   Variável                  Definição  \\\n",
       "0  survived              Sobrevivência   \n",
       "1    pclass          Classe do Bilhete   \n",
       "2       sex                       Sexo   \n",
       "3       Age                      Idade   \n",
       "4     sibsp  num. de irmãos / cônjuges   \n",
       "5     parch      num. de pais / filhos   \n",
       "6    ticket          Número do bilhete   \n",
       "7      fare           Preço do bilhete   \n",
       "8     cabin           Número da Cabine   \n",
       "9  embarked        Porto de Embarcação   \n",
       "\n",
       "                                            Chave  \n",
       "0                                0 = Não, 1 = Sim  \n",
       "1                          1 = 1ª, 2 = 2ª, 3 = 3ª  \n",
       "2                                        Sem info  \n",
       "3                                        Sem info  \n",
       "4                                        Sem info  \n",
       "5                                        Sem info  \n",
       "6                                        Sem info  \n",
       "7                                        Sem info  \n",
       "8                                        Sem info  \n",
       "9  C = Cherbourg, Q = Queenstown, S = Southampton  "
      ]
     },
     "execution_count": 1695,
     "metadata": {},
     "output_type": "execute_result"
    }
   ],
   "source": [
    "import pandas as pd\n",
    "import numpy as np\n",
    "\n",
    "\n",
    "desc = pd.DataFrame({\n",
    "    \"Variável\": [\"survived\", \"pclass\", \n",
    "                 \"sex\", \"Age\", \"sibsp\", \n",
    "                 \"parch\", \"ticket\", \"fare\",\n",
    "                 \"cabin\", \"embarked\"],\n",
    "    \n",
    "    \"Definição\": [\"Sobrevivência\", \"Classe do Bilhete\", \n",
    "                   \"Sexo\", \"Idade\", \"num. de irmãos / cônjuges\",\n",
    "                   \"num. de pais / filhos\", \"Número do bilhete\",\n",
    "                   \"Preço do bilhete\", \"Número da Cabine\", \"Porto de Embarcação\"],\n",
    "    \n",
    "    \"Chave\": [\"0 = Não, 1 = Sim\", \"1 = 1ª, 2 = 2ª, 3 = 3ª\",\n",
    "            np.nan, np.nan, np.nan, np.nan, np.nan, np.nan, np.nan,\n",
    "            \"C = Cherbourg, Q = Queenstown, S = Southampton\"]\n",
    "})\n",
    "\n",
    "desc.fillna(\"Sem info\")"
   ]
  },
  {
   "cell_type": "markdown",
   "metadata": {},
   "source": [
    "Neste caso todas as variáveis são explicativas exceto a **survived**, porque é a nossa resposta (target)."
   ]
  },
  {
   "cell_type": "markdown",
   "metadata": {},
   "source": [
    "## Importar datasets"
   ]
  },
  {
   "cell_type": "code",
   "execution_count": 1696,
   "metadata": {},
   "outputs": [],
   "source": [
    "df_train = pd.read_csv(\"train.csv\")\n",
    "df_test = pd.read_csv(\"test.csv\")\n"
   ]
  },
  {
   "cell_type": "markdown",
   "metadata": {},
   "source": [
    "### Dataset de Treino"
   ]
  },
  {
   "cell_type": "code",
   "execution_count": 1697,
   "metadata": {},
   "outputs": [
    {
     "data": {
      "text/html": [
       "<div>\n",
       "<style scoped>\n",
       "    .dataframe tbody tr th:only-of-type {\n",
       "        vertical-align: middle;\n",
       "    }\n",
       "\n",
       "    .dataframe tbody tr th {\n",
       "        vertical-align: top;\n",
       "    }\n",
       "\n",
       "    .dataframe thead th {\n",
       "        text-align: right;\n",
       "    }\n",
       "</style>\n",
       "<table border=\"1\" class=\"dataframe\">\n",
       "  <thead>\n",
       "    <tr style=\"text-align: right;\">\n",
       "      <th></th>\n",
       "      <th>PassengerId</th>\n",
       "      <th>Survived</th>\n",
       "      <th>Pclass</th>\n",
       "      <th>Name</th>\n",
       "      <th>Sex</th>\n",
       "      <th>Age</th>\n",
       "      <th>SibSp</th>\n",
       "      <th>Parch</th>\n",
       "      <th>Ticket</th>\n",
       "      <th>Fare</th>\n",
       "      <th>Cabin</th>\n",
       "      <th>Embarked</th>\n",
       "    </tr>\n",
       "  </thead>\n",
       "  <tbody>\n",
       "    <tr>\n",
       "      <th>0</th>\n",
       "      <td>1</td>\n",
       "      <td>0</td>\n",
       "      <td>3</td>\n",
       "      <td>Braund, Mr. Owen Harris</td>\n",
       "      <td>male</td>\n",
       "      <td>22.0</td>\n",
       "      <td>1</td>\n",
       "      <td>0</td>\n",
       "      <td>A/5 21171</td>\n",
       "      <td>7.2500</td>\n",
       "      <td>NaN</td>\n",
       "      <td>S</td>\n",
       "    </tr>\n",
       "    <tr>\n",
       "      <th>1</th>\n",
       "      <td>2</td>\n",
       "      <td>1</td>\n",
       "      <td>1</td>\n",
       "      <td>Cumings, Mrs. John Bradley (Florence Briggs Th...</td>\n",
       "      <td>female</td>\n",
       "      <td>38.0</td>\n",
       "      <td>1</td>\n",
       "      <td>0</td>\n",
       "      <td>PC 17599</td>\n",
       "      <td>71.2833</td>\n",
       "      <td>C85</td>\n",
       "      <td>C</td>\n",
       "    </tr>\n",
       "    <tr>\n",
       "      <th>2</th>\n",
       "      <td>3</td>\n",
       "      <td>1</td>\n",
       "      <td>3</td>\n",
       "      <td>Heikkinen, Miss. Laina</td>\n",
       "      <td>female</td>\n",
       "      <td>26.0</td>\n",
       "      <td>0</td>\n",
       "      <td>0</td>\n",
       "      <td>STON/O2. 3101282</td>\n",
       "      <td>7.9250</td>\n",
       "      <td>NaN</td>\n",
       "      <td>S</td>\n",
       "    </tr>\n",
       "    <tr>\n",
       "      <th>3</th>\n",
       "      <td>4</td>\n",
       "      <td>1</td>\n",
       "      <td>1</td>\n",
       "      <td>Futrelle, Mrs. Jacques Heath (Lily May Peel)</td>\n",
       "      <td>female</td>\n",
       "      <td>35.0</td>\n",
       "      <td>1</td>\n",
       "      <td>0</td>\n",
       "      <td>113803</td>\n",
       "      <td>53.1000</td>\n",
       "      <td>C123</td>\n",
       "      <td>S</td>\n",
       "    </tr>\n",
       "    <tr>\n",
       "      <th>4</th>\n",
       "      <td>5</td>\n",
       "      <td>0</td>\n",
       "      <td>3</td>\n",
       "      <td>Allen, Mr. William Henry</td>\n",
       "      <td>male</td>\n",
       "      <td>35.0</td>\n",
       "      <td>0</td>\n",
       "      <td>0</td>\n",
       "      <td>373450</td>\n",
       "      <td>8.0500</td>\n",
       "      <td>NaN</td>\n",
       "      <td>S</td>\n",
       "    </tr>\n",
       "    <tr>\n",
       "      <th>...</th>\n",
       "      <td>...</td>\n",
       "      <td>...</td>\n",
       "      <td>...</td>\n",
       "      <td>...</td>\n",
       "      <td>...</td>\n",
       "      <td>...</td>\n",
       "      <td>...</td>\n",
       "      <td>...</td>\n",
       "      <td>...</td>\n",
       "      <td>...</td>\n",
       "      <td>...</td>\n",
       "      <td>...</td>\n",
       "    </tr>\n",
       "    <tr>\n",
       "      <th>886</th>\n",
       "      <td>887</td>\n",
       "      <td>0</td>\n",
       "      <td>2</td>\n",
       "      <td>Montvila, Rev. Juozas</td>\n",
       "      <td>male</td>\n",
       "      <td>27.0</td>\n",
       "      <td>0</td>\n",
       "      <td>0</td>\n",
       "      <td>211536</td>\n",
       "      <td>13.0000</td>\n",
       "      <td>NaN</td>\n",
       "      <td>S</td>\n",
       "    </tr>\n",
       "    <tr>\n",
       "      <th>887</th>\n",
       "      <td>888</td>\n",
       "      <td>1</td>\n",
       "      <td>1</td>\n",
       "      <td>Graham, Miss. Margaret Edith</td>\n",
       "      <td>female</td>\n",
       "      <td>19.0</td>\n",
       "      <td>0</td>\n",
       "      <td>0</td>\n",
       "      <td>112053</td>\n",
       "      <td>30.0000</td>\n",
       "      <td>B42</td>\n",
       "      <td>S</td>\n",
       "    </tr>\n",
       "    <tr>\n",
       "      <th>888</th>\n",
       "      <td>889</td>\n",
       "      <td>0</td>\n",
       "      <td>3</td>\n",
       "      <td>Johnston, Miss. Catherine Helen \"Carrie\"</td>\n",
       "      <td>female</td>\n",
       "      <td>NaN</td>\n",
       "      <td>1</td>\n",
       "      <td>2</td>\n",
       "      <td>W./C. 6607</td>\n",
       "      <td>23.4500</td>\n",
       "      <td>NaN</td>\n",
       "      <td>S</td>\n",
       "    </tr>\n",
       "    <tr>\n",
       "      <th>889</th>\n",
       "      <td>890</td>\n",
       "      <td>1</td>\n",
       "      <td>1</td>\n",
       "      <td>Behr, Mr. Karl Howell</td>\n",
       "      <td>male</td>\n",
       "      <td>26.0</td>\n",
       "      <td>0</td>\n",
       "      <td>0</td>\n",
       "      <td>111369</td>\n",
       "      <td>30.0000</td>\n",
       "      <td>C148</td>\n",
       "      <td>C</td>\n",
       "    </tr>\n",
       "    <tr>\n",
       "      <th>890</th>\n",
       "      <td>891</td>\n",
       "      <td>0</td>\n",
       "      <td>3</td>\n",
       "      <td>Dooley, Mr. Patrick</td>\n",
       "      <td>male</td>\n",
       "      <td>32.0</td>\n",
       "      <td>0</td>\n",
       "      <td>0</td>\n",
       "      <td>370376</td>\n",
       "      <td>7.7500</td>\n",
       "      <td>NaN</td>\n",
       "      <td>Q</td>\n",
       "    </tr>\n",
       "  </tbody>\n",
       "</table>\n",
       "<p>891 rows × 12 columns</p>\n",
       "</div>"
      ],
      "text/plain": [
       "     PassengerId  Survived  Pclass  \\\n",
       "0              1         0       3   \n",
       "1              2         1       1   \n",
       "2              3         1       3   \n",
       "3              4         1       1   \n",
       "4              5         0       3   \n",
       "..           ...       ...     ...   \n",
       "886          887         0       2   \n",
       "887          888         1       1   \n",
       "888          889         0       3   \n",
       "889          890         1       1   \n",
       "890          891         0       3   \n",
       "\n",
       "                                                  Name     Sex   Age  SibSp  \\\n",
       "0                              Braund, Mr. Owen Harris    male  22.0      1   \n",
       "1    Cumings, Mrs. John Bradley (Florence Briggs Th...  female  38.0      1   \n",
       "2                               Heikkinen, Miss. Laina  female  26.0      0   \n",
       "3         Futrelle, Mrs. Jacques Heath (Lily May Peel)  female  35.0      1   \n",
       "4                             Allen, Mr. William Henry    male  35.0      0   \n",
       "..                                                 ...     ...   ...    ...   \n",
       "886                              Montvila, Rev. Juozas    male  27.0      0   \n",
       "887                       Graham, Miss. Margaret Edith  female  19.0      0   \n",
       "888           Johnston, Miss. Catherine Helen \"Carrie\"  female   NaN      1   \n",
       "889                              Behr, Mr. Karl Howell    male  26.0      0   \n",
       "890                                Dooley, Mr. Patrick    male  32.0      0   \n",
       "\n",
       "     Parch            Ticket     Fare Cabin Embarked  \n",
       "0        0         A/5 21171   7.2500   NaN        S  \n",
       "1        0          PC 17599  71.2833   C85        C  \n",
       "2        0  STON/O2. 3101282   7.9250   NaN        S  \n",
       "3        0            113803  53.1000  C123        S  \n",
       "4        0            373450   8.0500   NaN        S  \n",
       "..     ...               ...      ...   ...      ...  \n",
       "886      0            211536  13.0000   NaN        S  \n",
       "887      0            112053  30.0000   B42        S  \n",
       "888      2        W./C. 6607  23.4500   NaN        S  \n",
       "889      0            111369  30.0000  C148        C  \n",
       "890      0            370376   7.7500   NaN        Q  \n",
       "\n",
       "[891 rows x 12 columns]"
      ]
     },
     "execution_count": 1697,
     "metadata": {},
     "output_type": "execute_result"
    }
   ],
   "source": [
    "df_train"
   ]
  },
  {
   "cell_type": "markdown",
   "metadata": {},
   "source": [
    "### Dataset de Teste"
   ]
  },
  {
   "cell_type": "code",
   "execution_count": 1698,
   "metadata": {},
   "outputs": [
    {
     "data": {
      "text/html": [
       "<div>\n",
       "<style scoped>\n",
       "    .dataframe tbody tr th:only-of-type {\n",
       "        vertical-align: middle;\n",
       "    }\n",
       "\n",
       "    .dataframe tbody tr th {\n",
       "        vertical-align: top;\n",
       "    }\n",
       "\n",
       "    .dataframe thead th {\n",
       "        text-align: right;\n",
       "    }\n",
       "</style>\n",
       "<table border=\"1\" class=\"dataframe\">\n",
       "  <thead>\n",
       "    <tr style=\"text-align: right;\">\n",
       "      <th></th>\n",
       "      <th>PassengerId</th>\n",
       "      <th>Pclass</th>\n",
       "      <th>Name</th>\n",
       "      <th>Sex</th>\n",
       "      <th>Age</th>\n",
       "      <th>SibSp</th>\n",
       "      <th>Parch</th>\n",
       "      <th>Ticket</th>\n",
       "      <th>Fare</th>\n",
       "      <th>Cabin</th>\n",
       "      <th>Embarked</th>\n",
       "    </tr>\n",
       "  </thead>\n",
       "  <tbody>\n",
       "    <tr>\n",
       "      <th>0</th>\n",
       "      <td>892</td>\n",
       "      <td>3</td>\n",
       "      <td>Kelly, Mr. James</td>\n",
       "      <td>male</td>\n",
       "      <td>34.5</td>\n",
       "      <td>0</td>\n",
       "      <td>0</td>\n",
       "      <td>330911</td>\n",
       "      <td>7.8292</td>\n",
       "      <td>NaN</td>\n",
       "      <td>Q</td>\n",
       "    </tr>\n",
       "    <tr>\n",
       "      <th>1</th>\n",
       "      <td>893</td>\n",
       "      <td>3</td>\n",
       "      <td>Wilkes, Mrs. James (Ellen Needs)</td>\n",
       "      <td>female</td>\n",
       "      <td>47.0</td>\n",
       "      <td>1</td>\n",
       "      <td>0</td>\n",
       "      <td>363272</td>\n",
       "      <td>7.0000</td>\n",
       "      <td>NaN</td>\n",
       "      <td>S</td>\n",
       "    </tr>\n",
       "    <tr>\n",
       "      <th>2</th>\n",
       "      <td>894</td>\n",
       "      <td>2</td>\n",
       "      <td>Myles, Mr. Thomas Francis</td>\n",
       "      <td>male</td>\n",
       "      <td>62.0</td>\n",
       "      <td>0</td>\n",
       "      <td>0</td>\n",
       "      <td>240276</td>\n",
       "      <td>9.6875</td>\n",
       "      <td>NaN</td>\n",
       "      <td>Q</td>\n",
       "    </tr>\n",
       "    <tr>\n",
       "      <th>3</th>\n",
       "      <td>895</td>\n",
       "      <td>3</td>\n",
       "      <td>Wirz, Mr. Albert</td>\n",
       "      <td>male</td>\n",
       "      <td>27.0</td>\n",
       "      <td>0</td>\n",
       "      <td>0</td>\n",
       "      <td>315154</td>\n",
       "      <td>8.6625</td>\n",
       "      <td>NaN</td>\n",
       "      <td>S</td>\n",
       "    </tr>\n",
       "    <tr>\n",
       "      <th>4</th>\n",
       "      <td>896</td>\n",
       "      <td>3</td>\n",
       "      <td>Hirvonen, Mrs. Alexander (Helga E Lindqvist)</td>\n",
       "      <td>female</td>\n",
       "      <td>22.0</td>\n",
       "      <td>1</td>\n",
       "      <td>1</td>\n",
       "      <td>3101298</td>\n",
       "      <td>12.2875</td>\n",
       "      <td>NaN</td>\n",
       "      <td>S</td>\n",
       "    </tr>\n",
       "    <tr>\n",
       "      <th>...</th>\n",
       "      <td>...</td>\n",
       "      <td>...</td>\n",
       "      <td>...</td>\n",
       "      <td>...</td>\n",
       "      <td>...</td>\n",
       "      <td>...</td>\n",
       "      <td>...</td>\n",
       "      <td>...</td>\n",
       "      <td>...</td>\n",
       "      <td>...</td>\n",
       "      <td>...</td>\n",
       "    </tr>\n",
       "    <tr>\n",
       "      <th>413</th>\n",
       "      <td>1305</td>\n",
       "      <td>3</td>\n",
       "      <td>Spector, Mr. Woolf</td>\n",
       "      <td>male</td>\n",
       "      <td>NaN</td>\n",
       "      <td>0</td>\n",
       "      <td>0</td>\n",
       "      <td>A.5. 3236</td>\n",
       "      <td>8.0500</td>\n",
       "      <td>NaN</td>\n",
       "      <td>S</td>\n",
       "    </tr>\n",
       "    <tr>\n",
       "      <th>414</th>\n",
       "      <td>1306</td>\n",
       "      <td>1</td>\n",
       "      <td>Oliva y Ocana, Dona. Fermina</td>\n",
       "      <td>female</td>\n",
       "      <td>39.0</td>\n",
       "      <td>0</td>\n",
       "      <td>0</td>\n",
       "      <td>PC 17758</td>\n",
       "      <td>108.9000</td>\n",
       "      <td>C105</td>\n",
       "      <td>C</td>\n",
       "    </tr>\n",
       "    <tr>\n",
       "      <th>415</th>\n",
       "      <td>1307</td>\n",
       "      <td>3</td>\n",
       "      <td>Saether, Mr. Simon Sivertsen</td>\n",
       "      <td>male</td>\n",
       "      <td>38.5</td>\n",
       "      <td>0</td>\n",
       "      <td>0</td>\n",
       "      <td>SOTON/O.Q. 3101262</td>\n",
       "      <td>7.2500</td>\n",
       "      <td>NaN</td>\n",
       "      <td>S</td>\n",
       "    </tr>\n",
       "    <tr>\n",
       "      <th>416</th>\n",
       "      <td>1308</td>\n",
       "      <td>3</td>\n",
       "      <td>Ware, Mr. Frederick</td>\n",
       "      <td>male</td>\n",
       "      <td>NaN</td>\n",
       "      <td>0</td>\n",
       "      <td>0</td>\n",
       "      <td>359309</td>\n",
       "      <td>8.0500</td>\n",
       "      <td>NaN</td>\n",
       "      <td>S</td>\n",
       "    </tr>\n",
       "    <tr>\n",
       "      <th>417</th>\n",
       "      <td>1309</td>\n",
       "      <td>3</td>\n",
       "      <td>Peter, Master. Michael J</td>\n",
       "      <td>male</td>\n",
       "      <td>NaN</td>\n",
       "      <td>1</td>\n",
       "      <td>1</td>\n",
       "      <td>2668</td>\n",
       "      <td>22.3583</td>\n",
       "      <td>NaN</td>\n",
       "      <td>C</td>\n",
       "    </tr>\n",
       "  </tbody>\n",
       "</table>\n",
       "<p>418 rows × 11 columns</p>\n",
       "</div>"
      ],
      "text/plain": [
       "     PassengerId  Pclass                                          Name  \\\n",
       "0            892       3                              Kelly, Mr. James   \n",
       "1            893       3              Wilkes, Mrs. James (Ellen Needs)   \n",
       "2            894       2                     Myles, Mr. Thomas Francis   \n",
       "3            895       3                              Wirz, Mr. Albert   \n",
       "4            896       3  Hirvonen, Mrs. Alexander (Helga E Lindqvist)   \n",
       "..           ...     ...                                           ...   \n",
       "413         1305       3                            Spector, Mr. Woolf   \n",
       "414         1306       1                  Oliva y Ocana, Dona. Fermina   \n",
       "415         1307       3                  Saether, Mr. Simon Sivertsen   \n",
       "416         1308       3                           Ware, Mr. Frederick   \n",
       "417         1309       3                      Peter, Master. Michael J   \n",
       "\n",
       "        Sex   Age  SibSp  Parch              Ticket      Fare Cabin Embarked  \n",
       "0      male  34.5      0      0              330911    7.8292   NaN        Q  \n",
       "1    female  47.0      1      0              363272    7.0000   NaN        S  \n",
       "2      male  62.0      0      0              240276    9.6875   NaN        Q  \n",
       "3      male  27.0      0      0              315154    8.6625   NaN        S  \n",
       "4    female  22.0      1      1             3101298   12.2875   NaN        S  \n",
       "..      ...   ...    ...    ...                 ...       ...   ...      ...  \n",
       "413    male   NaN      0      0           A.5. 3236    8.0500   NaN        S  \n",
       "414  female  39.0      0      0            PC 17758  108.9000  C105        C  \n",
       "415    male  38.5      0      0  SOTON/O.Q. 3101262    7.2500   NaN        S  \n",
       "416    male   NaN      0      0              359309    8.0500   NaN        S  \n",
       "417    male   NaN      1      1                2668   22.3583   NaN        C  \n",
       "\n",
       "[418 rows x 11 columns]"
      ]
     },
     "execution_count": 1698,
     "metadata": {},
     "output_type": "execute_result"
    }
   ],
   "source": [
    "df_test"
   ]
  },
  {
   "cell_type": "markdown",
   "metadata": {},
   "source": [
    "## Verificar por dados faltantes\n",
    "### Via mapa de calor (heatmap)\n"
   ]
  },
  {
   "cell_type": "code",
   "execution_count": 1699,
   "metadata": {},
   "outputs": [
    {
     "data": {
      "text/plain": [
       "<matplotlib.axes._subplots.AxesSubplot at 0x1cfd6eb5288>"
      ]
     },
     "execution_count": 1699,
     "metadata": {},
     "output_type": "execute_result"
    },
    {
     "data": {
      "image/png": "[encoded data removed]",
      "text/plain": [
       "<Figure size 720x504 with 2 Axes>"
      ]
     },
     "metadata": {},
     "output_type": "display_data"
    }
   ],
   "source": [
    "import matplotlib.pyplot as plt\n",
    "import seaborn as sns\n",
    "%matplotlib inline\n",
    "plt.style.use(\"ggplot\")\n",
    "\n",
    "plt.figure(figsize=(10, 7))\n",
    "sns.heatmap(df_train.isnull())"
   ]
  },
  {
   "cell_type": "markdown",
   "metadata": {},
   "source": [
    "No dataset de treino faltam bastantes idades, e assim por alto, esta é uma variável bem importante para tirar conclusões.<br> No caso da variável Cabin, talvez seja interessante imputar(atribuir valores às amostras nulas), porque provavelmente quem tem um bilhete de classe mais alta, deveria ficar nas cabines mais próximas da superficie (logo mais probabilidade de sobreviver?)<br><br> Vamos ver como está o dataset de teste"
   ]
  },
  {
   "cell_type": "code",
   "execution_count": 1700,
   "metadata": {},
   "outputs": [
    {
     "data": {
      "text/plain": [
       "<matplotlib.axes._subplots.AxesSubplot at 0x1cfd53f0a08>"
      ]
     },
     "execution_count": 1700,
     "metadata": {},
     "output_type": "execute_result"
    },
    {
     "data": {
      "image/png": "[encoded data removed]",
      "text/plain": [
       "<Figure size 720x504 with 2 Axes>"
      ]
     },
     "metadata": {},
     "output_type": "display_data"
    }
   ],
   "source": [
    "plt.figure(figsize=(10, 7))\n",
    "sns.heatmap(df_train.isnull())"
   ]
  },
  {
   "cell_type": "markdown",
   "metadata": {},
   "source": [
    "A mesma coisa que no dataset de treino"
   ]
  },
  {
   "cell_type": "markdown",
   "metadata": {},
   "source": [
    "### Via info"
   ]
  },
  {
   "cell_type": "code",
   "execution_count": 1701,
   "metadata": {},
   "outputs": [
    {
     "name": "stdout",
     "output_type": "stream",
     "text": [
      "<class 'pandas.core.frame.DataFrame'>\n",
      "RangeIndex: 891 entries, 0 to 890\n",
      "Data columns (total 12 columns):\n",
      " #   Column       Non-Null Count  Dtype  \n",
      "---  ------       --------------  -----  \n",
      " 0   PassengerId  891 non-null    int64  \n",
      " 1   Survived     891 non-null    int64  \n",
      " 2   Pclass       891 non-null    int64  \n",
      " 3   Name         891 non-null    object \n",
      " 4   Sex          891 non-null    object \n",
      " 5   Age          714 non-null    float64\n",
      " 6   SibSp        891 non-null    int64  \n",
      " 7   Parch        891 non-null    int64  \n",
      " 8   Ticket       891 non-null    object \n",
      " 9   Fare         891 non-null    float64\n",
      " 10  Cabin        204 non-null    object \n",
      " 11  Embarked     889 non-null    object \n",
      "dtypes: float64(2), int64(5), object(5)\n",
      "memory usage: 83.7+ KB\n"
     ]
    }
   ],
   "source": [
    "df_train.info()"
   ]
  },
  {
   "cell_type": "markdown",
   "metadata": {},
   "source": [
    "Temos 891 entries(amostras).<br> \n",
    "* A variável <u>Age(idade)</u> tem apenas dados de 714 amostras, sendo que os restantes são NaN e não faz sentido assumir que significa que a idade é nula.<br>\n",
    "    * **Observação**: Poderá fazer sentido ter idade nula caso sejam considerados bebés com < de 1 ano.\n",
    "\n",
    "<br><br>\n",
    "* Há um variável categórica, <u>Cabin</u>, que só temos informação de 204 amostras. Esta mostra a identificação da cabin onde a amostra ficou, também não faz sentido ser nula, pois todos os passageiros necessitariam de ter uma.\n",
    "\n",
    "<br><br>\n",
    "* Por fim, a variável <u>Embarked</u> tem apenas 3 valores faltantes, sendo que esta variável armazena o local onde a amostra embarcou, o valor nulo pode significar que não embarcou ? Ou será apenas uma falha na coleta dos dados?\n",
    "<br><br>\n",
    "\n",
    "**Resumidamente**: As variáveis Cabin e Embarked terão os valores nulos preenchidos (seja pela média, moda ou outra técnica aplicada).<br> Já a Idade farei possivelmente 2 testes lá mais à frente: um onde analiso cada caso e atribuo a idade mais correta (com base em amostras idênticas) e outro que é simplesmente deixar a idade como 0. A forma que me faça obter um melhor resultado será a mantida."
   ]
  },
  {
   "cell_type": "markdown",
   "metadata": {},
   "source": [
    "# Análise Exploratória\n",
    "\n",
    "## PClass e Survived\n",
    "Aqui vamos comparar como a classe do bilhete influência na mortalidade"
   ]
  },
  {
   "cell_type": "code",
   "execution_count": 1702,
   "metadata": {},
   "outputs": [
    {
     "data": {
      "text/plain": [
       "Text(0, 0.5, 'Sobrevivência')"
      ]
     },
     "execution_count": 1702,
     "metadata": {},
     "output_type": "execute_result"
    },
    {
     "data": {
      "image/png": "[encoded data removed]",
      "text/plain": [
       "<Figure size 720x504 with 1 Axes>"
      ]
     },
     "metadata": {},
     "output_type": "display_data"
    }
   ],
   "source": [
    "plt.figure(figsize=(10,7))\n",
    "sns.barplot(df_train[\"Pclass\"], df_train[\"Survived\"])\n",
    "plt.xlabel(\"Classe dos Bilhetes\")\n",
    "plt.ylabel(\"Sobrevivência\")"
   ]
  },
  {
   "cell_type": "markdown",
   "metadata": {},
   "source": [
    "1 significa **primeira classe**, já que 0 significa <u> não sobreviveu </u> e 1 que <u>sobreviveu</u>, podemos constatar que a 1ª classe teve muito mais sobreviventes ($\\approx 0.62 $).<br><br>\n",
    "A 2ª classe já caiu para $\\approx 0.48$ e a 3ª classe é que tem menos sobreviventes, com $\\approx 0.25$.\n",
    "<br><br>\n",
    "Verifiquemos de forma analítica:"
   ]
  },
  {
   "cell_type": "code",
   "execution_count": 1703,
   "metadata": {},
   "outputs": [],
   "source": [
    "def survival_ratio(pclass):\n",
    "    \"\"\" Função que calcula a taxa de sobrvivência de cada classe\"\"\"\n",
    "    survived = df_train[ (df_train[\"Pclass\"]==pclass) & (df_train[\"Survived\"]==1)][\"Pclass\"].count()\n",
    "    total = df_train[ df_train[\"Pclass\"]==pclass ][\"Pclass\"].count()\n",
    "    \n",
    "    return (survived / total)"
   ]
  },
  {
   "cell_type": "code",
   "execution_count": 1704,
   "metadata": {},
   "outputs": [],
   "source": [
    "def survival_std(pclass):\n",
    "    survived_df = df_train[ (df_train[\"Pclass\"]==pclass) & (df_train[\"Survived\"]==1)][\"Pclass\"]\n",
    "    mean_survived = survival_ratio(pclass)\n",
    "    total = df_train[ df_train[\"Pclass\"]==pclass ][\"Pclass\"].count()\n",
    "    \n",
    "    return np.sqrt( (survived_df.iloc[0] - mean_survived)**2 / total)"
   ]
  },
  {
   "cell_type": "code",
   "execution_count": 1705,
   "metadata": {},
   "outputs": [
    {
     "name": "stdout",
     "output_type": "stream",
     "text": [
      "Média de sobrevivência, 1ª classe: 0.63\n",
      "Média de sobrevivência, 2ª classe: 0.47\n",
      "Média de sobrevivência, 3ª classe: 0.24\n"
     ]
    }
   ],
   "source": [
    "print(\"Média de sobrevivência, 1ª classe: %.2f\" % survival_ratio(1))\n",
    "print(\"Média de sobrevivência, 2ª classe: %.2f\" % survival_ratio(2))\n",
    "print(\"Média de sobrevivência, 3ª classe: %.2f\" % survival_ratio(3))"
   ]
  },
  {
   "cell_type": "code",
   "execution_count": 1706,
   "metadata": {},
   "outputs": [
    {
     "name": "stdout",
     "output_type": "stream",
     "text": [
      "Desvio padrão na taxa de sobrevivência, 1ª classe: 0.03\n",
      "Desvio padrão na taxa de sobrevivência, 2ª classe: 0.11\n",
      "Desvio padrão na taxa de sobrevivência, 3ª classe: 0.12\n"
     ]
    }
   ],
   "source": [
    "print(\"Desvio padrão na taxa de sobrevivência, 1ª classe: %.2f\" % survival_std(1))\n",
    "print(\"Desvio padrão na taxa de sobrevivência, 2ª classe: %.2f\" % survival_std(2))\n",
    "print(\"Desvio padrão na taxa de sobrevivência, 3ª classe: %.2f\" % survival_std(3))"
   ]
  },
  {
   "cell_type": "markdown",
   "metadata": {},
   "source": [
    "Pode-se confirmar que quanto <u>maior a classe</u> **mais** pessoas **sobrevivem**.<br>\n",
    "No caso da 1ª classe pode-se ver pelo desvio padrão que a taxa de sobrevivência não foge muito da média (maioria das amostras de 1ª classe sobrevivem). "
   ]
  },
  {
   "cell_type": "markdown",
   "metadata": {},
   "source": [
    "## PClass realmente é importante para a conclusão da sobrevivência?\n",
    "\n",
    "E se fizessemos um teste de hipótese? Em que:<br>\n",
    "$H_0:$ A classe não importa para a sobrevivência.<br>\n",
    "$H_1:$ Quanto maior a classe maior a probabilidade de sobreviver.\n",
    "<br><br>\n",
    "Portanto $H_0 = 0$ e $H_1 \\neq 0$"
   ]
  },
  {
   "cell_type": "code",
   "execution_count": 1707,
   "metadata": {},
   "outputs": [
    {
     "name": "stdout",
     "output_type": "stream",
     "text": [
      "1ª classe média de sobrevivencia: 0.63\n",
      "3ª classe média de sobrevivencia: 0.24\n"
     ]
    }
   ],
   "source": [
    "# Selecionar 50 samples\n",
    "import random\n",
    "\n",
    "first = df_train[ df_train[\"Pclass\"] == 1]\n",
    "second = df_train[ df_train[\"Pclass\"] == 2]\n",
    "third = df_train[ df_train[\"Pclass\"] == 3]\n",
    "\n",
    "print(\"1ª classe média de sobrevivencia: %.2f\" % np.mean(first[\"Survived\"]))\n",
    "print(\"3ª classe média de sobrevivencia: %.2f\" % np.mean(third[\"Survived\"]))"
   ]
  },
  {
   "cell_type": "code",
   "execution_count": 1708,
   "metadata": {},
   "outputs": [
    {
     "name": "stdout",
     "output_type": "stream",
     "text": [
      "Valor P: 1.480396E-24\n",
      "T-statistic: 10.624\n"
     ]
    }
   ],
   "source": [
    "#from scipy.stats import ttest_ind\n",
    "from statsmodels.stats.weightstats import ttest_ind\n",
    "\n",
    "tset, pval, deg_freedom = ttest_ind(first[\"Survived\"].values, third[\"Survived\"].values)\n",
    "\n",
    "print(\"Valor P: %E\" % pval)\n",
    "print(\"T-statistic: %.3f\" % tset)"
   ]
  },
  {
   "cell_type": "code",
   "execution_count": 1709,
   "metadata": {},
   "outputs": [
    {
     "data": {
      "text/plain": [
       "-0.33966793665005257"
      ]
     },
     "execution_count": 1709,
     "metadata": {},
     "output_type": "execute_result"
    }
   ],
   "source": [
    "df_train[\"Survived\"].corr(df_train[\"Pclass\"], method=\"spearman\")"
   ]
  },
  {
   "cell_type": "markdown",
   "metadata": {},
   "source": [
    "O nosso `ttest_ind` comparou as médias de sobreviência da 1ª classe, $\\approx 0.64$ (classe mais alta) e da 3ª classe, $\\approx 0.24$ (classe mais baixa). E pudemos observar que o valor-p é extremamente baixo, fazendo-nos rejeitar a $H_0$: A classe não importa para a sobrevivência.<br> E aceitar que faz diferença sim!<br><br>\n",
    "A correlação mostra que há alguma dependência sim (de forma negativa, ou seja, descrescem ambas), mas não tão forte quanto a diferença nas médias vistas acima."
   ]
  },
  {
   "cell_type": "code",
   "execution_count": 1710,
   "metadata": {},
   "outputs": [
    {
     "data": {
      "text/plain": [
       "0.33966793665005257"
      ]
     },
     "execution_count": 1710,
     "metadata": {},
     "output_type": "execute_result"
    }
   ],
   "source": [
    "df_train[\"Pclass_inv\"] = df_train[\"Pclass\"].apply(lambda x: 1 if x == 3 else ( 3 if x == 1 else 2))\n",
    "df_train[\"Survived\"].corr(df_train[\"Pclass_inv\"], method=\"spearman\")"
   ]
  },
  {
   "cell_type": "markdown",
   "metadata": {},
   "source": [
    "Isto é novamente a correlação! Contudo eu troquei as classes para uma ordem que faz mais sentido matematicamente em que 1 é a classe mais baixa e 3 a mais alta.<br>\n",
    "Assim podemos observar que à medida que a classe aumenta (aumentando o nível da classe) a taxa de sobrevivência aumentará também! Dessa forma faz mais sentido para nós (ou para mim)."
   ]
  },
  {
   "cell_type": "code",
   "execution_count": 1711,
   "metadata": {},
   "outputs": [],
   "source": [
    "df_train.drop([\"Pclass_inv\"], axis=1, inplace=True)"
   ]
  },
  {
   "cell_type": "markdown",
   "metadata": {},
   "source": [
    "## PClass e Sexo\n",
    "\n",
    "Verificar qual a classe mais abundante em cada sexo."
   ]
  },
  {
   "cell_type": "code",
   "execution_count": 1712,
   "metadata": {},
   "outputs": [
    {
     "data": {
      "text/plain": [
       "Text(0, 0.5, 'Classe')"
      ]
     },
     "execution_count": 1712,
     "metadata": {},
     "output_type": "execute_result"
    },
    {
     "data": {
      "image/png": "[encoded data removed]",
      "text/plain": [
       "<Figure size 576x360 with 1 Axes>"
      ]
     },
     "metadata": {},
     "output_type": "display_data"
    }
   ],
   "source": [
    "plt.figure(figsize=(8,5))\n",
    "sns.barplot(x=\"Sex\", y=\"Pclass\",\n",
    "            data=df_train.replace(\n",
    "                {\"Sex\": {\"male\": \"masculino\",\n",
    "                         \"female\": \"feminino\"}}\n",
    "            )\n",
    "           )\n",
    "plt.xlabel(\"Sexo\")\n",
    "plt.ylabel(\"Classe\")"
   ]
  },
  {
   "cell_type": "code",
   "execution_count": 1713,
   "metadata": {},
   "outputs": [
    {
     "name": "stdout",
     "output_type": "stream",
     "text": [
      "Média da classe nas pessoas de sexo masculino: 2.390\n",
      "Média da classe nas pessoas de sexo feminino: 2.159\n",
      "\n"
     ]
    }
   ],
   "source": [
    "print(\"Média da classe nas pessoas de sexo masculino: %.3f\" % \n",
    "      df_train[ df_train[\"Sex\"] == \"male\"][\"Pclass\"].mean())\n",
    "\n",
    "print(\"Média da classe nas pessoas de sexo feminino: %.3f\\n\" % \n",
    "      df_train[ df_train[\"Sex\"] == \"female\"][\"Pclass\"].mean())"
   ]
  },
  {
   "cell_type": "code",
   "execution_count": 1714,
   "metadata": {},
   "outputs": [
    {
     "data": {
      "text/plain": [
       "<matplotlib.legend.Legend at 0x1cfdabf0e08>"
      ]
     },
     "execution_count": 1714,
     "metadata": {},
     "output_type": "execute_result"
    },
    {
     "data": {
      "image/png": "[encoded data removed]",
      "text/plain": [
       "<Figure size 576x360 with 2 Axes>"
      ]
     },
     "metadata": {},
     "output_type": "display_data"
    }
   ],
   "source": [
    "fig, ax= plt.subplots(1,2, figsize=(8,5))\n",
    "class_males = []\n",
    "class_females = []\n",
    "\n",
    "# Separar masculino e feminino por classes\n",
    "for i in range(1,4):\n",
    "    class_males.append( df_train[(df_train[\"Sex\"]== \"male\") & \n",
    "                                 (df_train[\"Pclass\"]==i)][\"Pclass\"].count() )\n",
    "    \n",
    "    class_females.append( df_train[(df_train[\"Sex\"]== \"female\") & \n",
    "                                 (df_train[\"Pclass\"]==i)][\"Pclass\"].count() )\n",
    "\n",
    "\n",
    "# Variável com as classes únicas\n",
    "classes = np.sort(df_train[\"Pclass\"].unique())\n",
    "    \n",
    "# Criar gráfico Contagem em função da classe\n",
    "ax[0].bar(x= classes, height=class_males,\n",
    "          label=\"Masculino\", color=\"limegreen\")\n",
    "\n",
    "ax[1].bar(x=classes, height=class_females,\n",
    "          label=\"Feminino\", color=\"cornflowerblue\")\n",
    "\n",
    "\n",
    "# Colocar valores por cima das barras (contagem de sexo masculino e feminio, por classes)\n",
    "for i, v in enumerate(class_males):\n",
    "    ax[0].text(classes[i] - .15, v+3, str(v), color='darkgreen')\n",
    "\n",
    "for i, v in enumerate(class_females):\n",
    "    ax[1].text(classes[i] - .15, v+1, str(v), color='navy')\n",
    "\n",
    "fig.legend()"
   ]
  },
  {
   "cell_type": "code",
   "execution_count": 1715,
   "metadata": {},
   "outputs": [
    {
     "name": "stdout",
     "output_type": "stream",
     "text": [
      "Número de pessoas de sexo masculino: 577\n",
      "Número de pessoas de sexo feminino: 314\n",
      "\n",
      "Sexo masculino 1ª classe: 122-21%\n",
      "Sexo masculino 2ª classe: 108-18%\n",
      "Sexo masculino 3ª classe: 347-60%\n",
      "\n",
      "Sexo feminino 1ª classe: 94-29%\n",
      "Sexo feminino 2ª classe: 76-24%\n",
      "Sexo feminino 3ª classe: 144-45%\n"
     ]
    }
   ],
   "source": [
    "num_male = sum(class_males)\n",
    "num_female = sum(class_females)\n",
    "\n",
    "print(\"Número de pessoas de sexo masculino: %d\" % num_male)\n",
    "print(\"Número de pessoas de sexo feminino: %d\\n\" % num_female)\n",
    "\n",
    "\n",
    "print(\"Sexo masculino 1ª classe: %d-%d%%\" % (class_males[0], (class_males[0]/num_male)*100))\n",
    "print(\"Sexo masculino 2ª classe: %d-%d%%\" % (class_males[1], (class_males[1]/num_male)*100))\n",
    "print(\"Sexo masculino 3ª classe: %d-%d%%\\n\" % (class_males[2], (class_males[2]/num_male)*100))\n",
    "\n",
    "print(\"Sexo feminino 1ª classe: %d-%d%%\" % (class_females[0], (class_females[0]/num_female)*100))\n",
    "print(\"Sexo feminino 2ª classe: %d-%d%%\" % (class_females[1], (class_females[1]/num_female)*100))\n",
    "print(\"Sexo feminino 3ª classe: %d-%d%%\" % (class_females[2], (class_females[2]/num_female)*100))"
   ]
  },
  {
   "cell_type": "markdown",
   "metadata": {},
   "source": [
    "Há 263 pessoas do sexo masculino a mais que pessoas do sexo feminino. No entanto o padrão mantém-se:\n",
    "* Grande maioria pertence à 3ª classe\n",
    "* Há sempre um pouco mais na 1ª classe comparativamente à 2ª classe"
   ]
  },
  {
   "cell_type": "code",
   "execution_count": 1716,
   "metadata": {},
   "outputs": [
    {
     "name": "stdout",
     "output_type": "stream",
     "text": [
      "Correlação entre Classe e Sexo: -0.132\n"
     ]
    }
   ],
   "source": [
    "# Converter os sexos feminino e masculino para 1 e 0\n",
    "for df in [df_train, df_test]:\n",
    "    df[\"Sex\"] = df[\"Sex\"].apply(lambda x: 1 if x == \"female\" else 0)\n",
    "\n",
    "print(\"Correlação entre Classe e Sexo: %.3f\" % df_train[\"Pclass\"].corr(df_train[\"Sex\"]))"
   ]
  },
  {
   "cell_type": "markdown",
   "metadata": {},
   "source": [
    "Correlação pequena entre ambos, em conjunto ao que observarmos acima, podemos concluir que ambos são independentes um do outro."
   ]
  },
  {
   "cell_type": "markdown",
   "metadata": {},
   "source": [
    "## PClass e SibSp\n",
    "Vamos ver que relação há entre a classe da amostra e o número de irmãos/cônjugues"
   ]
  },
  {
   "cell_type": "code",
   "execution_count": 1717,
   "metadata": {},
   "outputs": [
    {
     "data": {
      "text/plain": [
       "Pclass   \n",
       "1       0    137\n",
       "        1     71\n",
       "        2      5\n",
       "        3      3\n",
       "2       0    120\n",
       "        1     55\n",
       "        2      8\n",
       "        3      1\n",
       "3       0    351\n",
       "        1     83\n",
       "        4     18\n",
       "        2     15\n",
       "        3     12\n",
       "        8      7\n",
       "        5      5\n",
       "Name: SibSp, dtype: int64"
      ]
     },
     "execution_count": 1717,
     "metadata": {},
     "output_type": "execute_result"
    }
   ],
   "source": [
    "df_train.groupby(\"Pclass\")[\"SibSp\"].apply(lambda x: x.value_counts())"
   ]
  },
  {
   "cell_type": "code",
   "execution_count": 1718,
   "metadata": {},
   "outputs": [
    {
     "data": {
      "text/plain": [
       "3    491\n",
       "1    216\n",
       "2    184\n",
       "Name: Pclass, dtype: int64"
      ]
     },
     "execution_count": 1718,
     "metadata": {},
     "output_type": "execute_result"
    }
   ],
   "source": [
    "df_train[\"Pclass\"].value_counts()"
   ]
  },
  {
   "cell_type": "markdown",
   "metadata": {},
   "source": [
    "1ª Classe - 216 pessoas onde 137 foram sem qualquer irmã(o)/cônjugue<br>\n",
    "2ª Classe - 184 pessoas onde 120 foram sem qualquer irmã(o)/cônjugue<br>\n",
    "3ª Classe - 491 pessoas onde 351 foram sem qualquer irmã(o)/cônjugue<br>\n",
    "<br><br>\n",
    "Bem podemos ver que maioria das pessoas de cada classe não vai acompanhado por um(a) companheiro(a) ou então por um irmão/irmã.<br>"
   ]
  },
  {
   "cell_type": "code",
   "execution_count": 1719,
   "metadata": {},
   "outputs": [
    {
     "data": {
      "image/png": "[encoded data removed]",
      "text/plain": [
       "<Figure size 720x432 with 3 Axes>"
      ]
     },
     "metadata": {},
     "output_type": "display_data"
    }
   ],
   "source": [
    "fig, ax = plt.subplots(1,3, figsize=(10,6))\n",
    "\n",
    "sns.distplot(df_train[df_train[\"Pclass\"]==1][\"SibSp\"], ax=ax[0], color=\"red\", label=\"Classe 1\")\n",
    "sns.distplot(df_train[df_train[\"Pclass\"]==2][\"SibSp\"], ax=ax[1], color=\"blue\", label=\"Classe 2\")\n",
    "sns.distplot(df_train[df_train[\"Pclass\"]==3][\"SibSp\"], ax=ax[2], color=\"purple\", label=\"Classe 3\")\n",
    "\n",
    "fig.legend(loc=\"center right\")\n",
    "\n",
    "# Mudar os labels do eixo x\n",
    "for i in range(len(ax)):\n",
    "    ax[i].xaxis.label.set_text(\"Número irmãos/cônjugues\")\n"
   ]
  },
  {
   "cell_type": "markdown",
   "metadata": {},
   "source": [
    "O gráfico comprova o que disse! A esmagadora maioria vai \"sozinho\". No entanto podemos reparar que a classe mais baixa tem algumas amostras a levar mais de 3 irmãos/cônjugues (até 8).<br>\n",
    "Podemos pensar que a 3ª classe é mais económica, logo seria uma boa opção para aqueles que não tivessem tantas posses. E em 1912 métodos contraceptivos deveria ser algo escasso e, provavelmente, só pessoas com mais capacidades monetárias teriam esse privilégio. Assim podemos concluir que era comum as famílias carenciadas terem mais filhos, por isso o número de irmãos/cônjugues seja superior na 3ª classe.  "
   ]
  },
  {
   "cell_type": "code",
   "execution_count": 1720,
   "metadata": {},
   "outputs": [
    {
     "name": "stdout",
     "output_type": "stream",
     "text": [
      "Correlação entre Classe e Sexo: 0.083\n"
     ]
    }
   ],
   "source": [
    "print(\"Correlação entre Classe e Sexo: %.3f\" % df_train[\"Pclass\"].corr(df_train[\"SibSp\"]))"
   ]
  },
  {
   "cell_type": "markdown",
   "metadata": {},
   "source": [
    "Como seria de esperar não há qualquer dependência entre estas variáveis"
   ]
  },
  {
   "cell_type": "markdown",
   "metadata": {},
   "source": [
    "## Pclass e Parch\n",
    "\n",
    "Vamos verificar a relação que há entre as classes e as amostras terem pais/filhos abordo"
   ]
  },
  {
   "cell_type": "code",
   "execution_count": 1721,
   "metadata": {},
   "outputs": [
    {
     "name": "stderr",
     "output_type": "stream",
     "text": [
      "c:\\users\\tigax\\appdata\\local\\programs\\python\\python37\\lib\\site-packages\\seaborn\\distributions.py:369: UserWarning: Default bandwidth for data is 0; skipping density estimation.\n",
      "  warnings.warn(msg, UserWarning)\n",
      "c:\\users\\tigax\\appdata\\local\\programs\\python\\python37\\lib\\site-packages\\seaborn\\distributions.py:369: UserWarning: Default bandwidth for data is 0; skipping density estimation.\n",
      "  warnings.warn(msg, UserWarning)\n"
     ]
    },
    {
     "data": {
      "image/png": "[encoded data removed]",
      "text/plain": [
       "<Figure size 720x432 with 3 Axes>"
      ]
     },
     "metadata": {},
     "output_type": "display_data"
    }
   ],
   "source": [
    "fig, ax = plt.subplots(1,3, figsize=(10,6))\n",
    "\n",
    "sns.distplot(df_train[df_train[\"Pclass\"]==1][\"Parch\"], ax=ax[0], color=\"red\", label=\"Classe 1\")\n",
    "sns.distplot(df_train[df_train[\"Pclass\"]==2][\"Parch\"], ax=ax[1], color=\"blue\", label=\"Classe 2\")\n",
    "sns.distplot(df_train[df_train[\"Pclass\"]==3][\"Parch\"], ax=ax[2], color=\"purple\", label=\"Classe 3\")\n",
    "\n",
    "fig.legend(loc=\"center right\")\n",
    "\n",
    "# Mudar os labels do eixo x\n",
    "for i in range(len(ax)):\n",
    "    ax[i].xaxis.label.set_text(\"Número pais/filhos\")"
   ]
  },
  {
   "cell_type": "markdown",
   "metadata": {},
   "source": [
    "Podiamos fazer mais testes, mas não me pareça que seja um variável interessante testar com as classes.<<br>\n",
    "Simplesmente podemos ver que é bem idêntico ao número de irmãos/cônjugues, onde a esmagadora maioria em ambas as classes, vão sem pais e/ou filhos."
   ]
  },
  {
   "cell_type": "code",
   "execution_count": 1722,
   "metadata": {},
   "outputs": [
    {
     "name": "stdout",
     "output_type": "stream",
     "text": [
      "Correlação entre Classe e Sexo: 0.018\n"
     ]
    }
   ],
   "source": [
    "print(\"Correlação entre Classe e Sexo: %.3f\" % df_train[\"Pclass\"].corr(df_train[\"Parch\"]))"
   ]
  },
  {
   "cell_type": "markdown",
   "metadata": {},
   "source": [
    "E a correlação é igualmente \"nula\", basicamente não há dependência entre a classe de uma amostra e o número de filhos/pais que levam a bordo"
   ]
  },
  {
   "cell_type": "markdown",
   "metadata": {},
   "source": [
    "# Pausa para transformar dados\n",
    "Bem todas as variáveis quantitativas e que estão completas (sem valores faltantes) já foram testadas em relação ao Pclass.<br>\n",
    "Portanto agora temos de transformar as variáveis categóricas/qualitativas e também imputar valores."
   ]
  },
  {
   "cell_type": "markdown",
   "metadata": {},
   "source": [
    "## Imputar Idades\n",
    "\n",
    "Temos 714 idades, ou seja, 177 idades faltantes. Vamos analisar as amostras que têm idades em falta."
   ]
  },
  {
   "cell_type": "code",
   "execution_count": 1723,
   "metadata": {
    "scrolled": true
   },
   "outputs": [
    {
     "data": {
      "text/html": [
       "<div>\n",
       "<style scoped>\n",
       "    .dataframe tbody tr th:only-of-type {\n",
       "        vertical-align: middle;\n",
       "    }\n",
       "\n",
       "    .dataframe tbody tr th {\n",
       "        vertical-align: top;\n",
       "    }\n",
       "\n",
       "    .dataframe thead th {\n",
       "        text-align: right;\n",
       "    }\n",
       "</style>\n",
       "<table border=\"1\" class=\"dataframe\">\n",
       "  <thead>\n",
       "    <tr style=\"text-align: right;\">\n",
       "      <th></th>\n",
       "      <th>PassengerId</th>\n",
       "      <th>Survived</th>\n",
       "      <th>Pclass</th>\n",
       "      <th>Name</th>\n",
       "      <th>Sex</th>\n",
       "      <th>Age</th>\n",
       "      <th>SibSp</th>\n",
       "      <th>Parch</th>\n",
       "      <th>Ticket</th>\n",
       "      <th>Fare</th>\n",
       "      <th>Cabin</th>\n",
       "      <th>Embarked</th>\n",
       "    </tr>\n",
       "  </thead>\n",
       "  <tbody>\n",
       "    <tr>\n",
       "      <th>5</th>\n",
       "      <td>6</td>\n",
       "      <td>0</td>\n",
       "      <td>3</td>\n",
       "      <td>Moran, Mr. James</td>\n",
       "      <td>0</td>\n",
       "      <td>NaN</td>\n",
       "      <td>0</td>\n",
       "      <td>0</td>\n",
       "      <td>330877</td>\n",
       "      <td>8.4583</td>\n",
       "      <td>NaN</td>\n",
       "      <td>Q</td>\n",
       "    </tr>\n",
       "    <tr>\n",
       "      <th>17</th>\n",
       "      <td>18</td>\n",
       "      <td>1</td>\n",
       "      <td>2</td>\n",
       "      <td>Williams, Mr. Charles Eugene</td>\n",
       "      <td>0</td>\n",
       "      <td>NaN</td>\n",
       "      <td>0</td>\n",
       "      <td>0</td>\n",
       "      <td>244373</td>\n",
       "      <td>13.0000</td>\n",
       "      <td>NaN</td>\n",
       "      <td>S</td>\n",
       "    </tr>\n",
       "    <tr>\n",
       "      <th>19</th>\n",
       "      <td>20</td>\n",
       "      <td>1</td>\n",
       "      <td>3</td>\n",
       "      <td>Masselmani, Mrs. Fatima</td>\n",
       "      <td>1</td>\n",
       "      <td>NaN</td>\n",
       "      <td>0</td>\n",
       "      <td>0</td>\n",
       "      <td>2649</td>\n",
       "      <td>7.2250</td>\n",
       "      <td>NaN</td>\n",
       "      <td>C</td>\n",
       "    </tr>\n",
       "    <tr>\n",
       "      <th>26</th>\n",
       "      <td>27</td>\n",
       "      <td>0</td>\n",
       "      <td>3</td>\n",
       "      <td>Emir, Mr. Farred Chehab</td>\n",
       "      <td>0</td>\n",
       "      <td>NaN</td>\n",
       "      <td>0</td>\n",
       "      <td>0</td>\n",
       "      <td>2631</td>\n",
       "      <td>7.2250</td>\n",
       "      <td>NaN</td>\n",
       "      <td>C</td>\n",
       "    </tr>\n",
       "    <tr>\n",
       "      <th>28</th>\n",
       "      <td>29</td>\n",
       "      <td>1</td>\n",
       "      <td>3</td>\n",
       "      <td>O'Dwyer, Miss. Ellen \"Nellie\"</td>\n",
       "      <td>1</td>\n",
       "      <td>NaN</td>\n",
       "      <td>0</td>\n",
       "      <td>0</td>\n",
       "      <td>330959</td>\n",
       "      <td>7.8792</td>\n",
       "      <td>NaN</td>\n",
       "      <td>Q</td>\n",
       "    </tr>\n",
       "    <tr>\n",
       "      <th>...</th>\n",
       "      <td>...</td>\n",
       "      <td>...</td>\n",
       "      <td>...</td>\n",
       "      <td>...</td>\n",
       "      <td>...</td>\n",
       "      <td>...</td>\n",
       "      <td>...</td>\n",
       "      <td>...</td>\n",
       "      <td>...</td>\n",
       "      <td>...</td>\n",
       "      <td>...</td>\n",
       "      <td>...</td>\n",
       "    </tr>\n",
       "    <tr>\n",
       "      <th>859</th>\n",
       "      <td>860</td>\n",
       "      <td>0</td>\n",
       "      <td>3</td>\n",
       "      <td>Razi, Mr. Raihed</td>\n",
       "      <td>0</td>\n",
       "      <td>NaN</td>\n",
       "      <td>0</td>\n",
       "      <td>0</td>\n",
       "      <td>2629</td>\n",
       "      <td>7.2292</td>\n",
       "      <td>NaN</td>\n",
       "      <td>C</td>\n",
       "    </tr>\n",
       "    <tr>\n",
       "      <th>863</th>\n",
       "      <td>864</td>\n",
       "      <td>0</td>\n",
       "      <td>3</td>\n",
       "      <td>Sage, Miss. Dorothy Edith \"Dolly\"</td>\n",
       "      <td>1</td>\n",
       "      <td>NaN</td>\n",
       "      <td>8</td>\n",
       "      <td>2</td>\n",
       "      <td>CA. 2343</td>\n",
       "      <td>69.5500</td>\n",
       "      <td>NaN</td>\n",
       "      <td>S</td>\n",
       "    </tr>\n",
       "    <tr>\n",
       "      <th>868</th>\n",
       "      <td>869</td>\n",
       "      <td>0</td>\n",
       "      <td>3</td>\n",
       "      <td>van Melkebeke, Mr. Philemon</td>\n",
       "      <td>0</td>\n",
       "      <td>NaN</td>\n",
       "      <td>0</td>\n",
       "      <td>0</td>\n",
       "      <td>345777</td>\n",
       "      <td>9.5000</td>\n",
       "      <td>NaN</td>\n",
       "      <td>S</td>\n",
       "    </tr>\n",
       "    <tr>\n",
       "      <th>878</th>\n",
       "      <td>879</td>\n",
       "      <td>0</td>\n",
       "      <td>3</td>\n",
       "      <td>Laleff, Mr. Kristo</td>\n",
       "      <td>0</td>\n",
       "      <td>NaN</td>\n",
       "      <td>0</td>\n",
       "      <td>0</td>\n",
       "      <td>349217</td>\n",
       "      <td>7.8958</td>\n",
       "      <td>NaN</td>\n",
       "      <td>S</td>\n",
       "    </tr>\n",
       "    <tr>\n",
       "      <th>888</th>\n",
       "      <td>889</td>\n",
       "      <td>0</td>\n",
       "      <td>3</td>\n",
       "      <td>Johnston, Miss. Catherine Helen \"Carrie\"</td>\n",
       "      <td>1</td>\n",
       "      <td>NaN</td>\n",
       "      <td>1</td>\n",
       "      <td>2</td>\n",
       "      <td>W./C. 6607</td>\n",
       "      <td>23.4500</td>\n",
       "      <td>NaN</td>\n",
       "      <td>S</td>\n",
       "    </tr>\n",
       "  </tbody>\n",
       "</table>\n",
       "<p>177 rows × 12 columns</p>\n",
       "</div>"
      ],
      "text/plain": [
       "     PassengerId  Survived  Pclass                                      Name  \\\n",
       "5              6         0       3                          Moran, Mr. James   \n",
       "17            18         1       2              Williams, Mr. Charles Eugene   \n",
       "19            20         1       3                   Masselmani, Mrs. Fatima   \n",
       "26            27         0       3                   Emir, Mr. Farred Chehab   \n",
       "28            29         1       3             O'Dwyer, Miss. Ellen \"Nellie\"   \n",
       "..           ...       ...     ...                                       ...   \n",
       "859          860         0       3                          Razi, Mr. Raihed   \n",
       "863          864         0       3         Sage, Miss. Dorothy Edith \"Dolly\"   \n",
       "868          869         0       3               van Melkebeke, Mr. Philemon   \n",
       "878          879         0       3                        Laleff, Mr. Kristo   \n",
       "888          889         0       3  Johnston, Miss. Catherine Helen \"Carrie\"   \n",
       "\n",
       "     Sex  Age  SibSp  Parch      Ticket     Fare Cabin Embarked  \n",
       "5      0  NaN      0      0      330877   8.4583   NaN        Q  \n",
       "17     0  NaN      0      0      244373  13.0000   NaN        S  \n",
       "19     1  NaN      0      0        2649   7.2250   NaN        C  \n",
       "26     0  NaN      0      0        2631   7.2250   NaN        C  \n",
       "28     1  NaN      0      0      330959   7.8792   NaN        Q  \n",
       "..   ...  ...    ...    ...         ...      ...   ...      ...  \n",
       "859    0  NaN      0      0        2629   7.2292   NaN        C  \n",
       "863    1  NaN      8      2    CA. 2343  69.5500   NaN        S  \n",
       "868    0  NaN      0      0      345777   9.5000   NaN        S  \n",
       "878    0  NaN      0      0      349217   7.8958   NaN        S  \n",
       "888    1  NaN      1      2  W./C. 6607  23.4500   NaN        S  \n",
       "\n",
       "[177 rows x 12 columns]"
      ]
     },
     "execution_count": 1723,
     "metadata": {},
     "output_type": "execute_result"
    }
   ],
   "source": [
    "df_train[df_train[\"Age\"].isnull()]"
   ]
  },
  {
   "cell_type": "markdown",
   "metadata": {},
   "source": [
    "### Classes e Idades"
   ]
  },
  {
   "cell_type": "code",
   "execution_count": 1724,
   "metadata": {},
   "outputs": [
    {
     "name": "stdout",
     "output_type": "stream",
     "text": [
      "Correlação entre as classes e as idades: -0.369\n"
     ]
    }
   ],
   "source": [
    "print(\"Correlação entre as classes e as idades: %.3f\" % df_train[\"Pclass\"].corr(df_train[\"Age\"]))"
   ]
  },
  {
   "cell_type": "markdown",
   "metadata": {},
   "source": [
    "Ok, temos alguma correlação entre a classe e as idades. Aqui temos de entender o porquê de ser negativo.<br>"
   ]
  },
  {
   "cell_type": "code",
   "execution_count": 1725,
   "metadata": {},
   "outputs": [
    {
     "data": {
      "text/plain": [
       "<matplotlib.axes._subplots.AxesSubplot at 0x1cfdce0af48>"
      ]
     },
     "execution_count": 1725,
     "metadata": {},
     "output_type": "execute_result"
    },
    {
     "data": {
      "image/png": "[encoded data removed]",
      "text/plain": [
       "<Figure size 432x288 with 1 Axes>"
      ]
     },
     "metadata": {},
     "output_type": "display_data"
    }
   ],
   "source": [
    "sns.boxplot(df_train[\"Pclass\"], df_train[\"Age\"])"
   ]
  },
  {
   "cell_type": "markdown",
   "metadata": {},
   "source": [
    "Os interquartis(Q1 ao Q3) têm a grande concentração de amostras. Portanto 1ª classe 29-48 anos; 2ª classe 23-35 anos; 3ª classe 19-31 anos.<br>\n",
    "Encontrámos o padrão e dá para ver o porquê de ser uma correlação negativa. Se olharmos para as boxplots a primeira é a mais alta, a do meio baixou um pouquinho e a última é a mais baixa, ou seja, se traçássemos uma reta pelas boxplots teriamos um declive negativo<br>\n",
    "Os valores das idades vão baixando consoante a classe"
   ]
  },
  {
   "cell_type": "markdown",
   "metadata": {},
   "source": [
    "### Irmãos/Cônjugues e Idades"
   ]
  },
  {
   "cell_type": "code",
   "execution_count": 1726,
   "metadata": {},
   "outputs": [
    {
     "data": {
      "text/plain": [
       "<matplotlib.axes._subplots.AxesSubplot at 0x1cfdccf9708>"
      ]
     },
     "execution_count": 1726,
     "metadata": {},
     "output_type": "execute_result"
    },
    {
     "data": {
      "image/png": "[encoded data removed]",
      "text/plain": [
       "<Figure size 432x288 with 1 Axes>"
      ]
     },
     "metadata": {},
     "output_type": "display_data"
    }
   ],
   "source": [
    "sns.boxplot(df_train[\"SibSp\"], df_train[\"Age\"])"
   ]
  },
  {
   "cell_type": "code",
   "execution_count": 1727,
   "metadata": {},
   "outputs": [
    {
     "name": "stdout",
     "output_type": "stream",
     "text": [
      "Correlação entre os irmãos/cônjugues e as idades: -0.308\n"
     ]
    }
   ],
   "source": [
    "print(\"Correlação entre os irmãos/cônjugues e as idades: %.3f\" % df_train[\"SibSp\"].corr(df_train[\"Age\"]))"
   ]
  },
  {
   "cell_type": "markdown",
   "metadata": {},
   "source": [
    "Novamente correlação negativa (idêntica às classes):<br>\n",
    "0  irmãos/cônjugues - 22 a 40 anos<br>\n",
    "1  irmãos/cônjugues - 20 a 40 anos<br>\n",
    "2  irmãos/cônjugues - 16 a 37 anos<br>\n",
    "3  irmãos/cônjugues - 3 a 22 anos<br>\n",
    "4  irmãos/cônjugues - 5 a 9 anos<br>\n",
    "5  irmãos/cônjugues - 10 a 15 anos<br>"
   ]
  },
  {
   "cell_type": "markdown",
   "metadata": {},
   "source": [
    "Já se vai perceber porque estou a fazer esta análise, tudo para imputar dados com uma precisão razoável.\n",
    "\n",
    "Vamos criar grupos de idades com base nas classes e irmãos/cônjugues:<br>\n",
    "* Irmãos/Cônjugues:\n",
    "    * Grupo 1 - 20 aos 40 anos\n",
    "    * Grupo 2 - 10 aos 19 anos\n",
    "    * Grupo 3 - 3 aos 9 anos\n",
    "* Classes:\n",
    "    * Grupo 1 - 29 aos 48 anos\n",
    "    * Grupo 2 - 23 aos 35 anos\n",
    "    * Grupo 3 - 19 aos 31 anos\n",
    "    \n",
    "Com estes 2 grupos podemos criar um grupo total de certa forma.\n",
    "* Grupo 1 - >= 35 anos -> Classe 1 e tem 0 ou 1 irmãos/cônjugues\n",
    "* Grupo 2 - >= 25 e < 35 -> Classe 2 e tem 0 ou 1 irmãos/cônjugues\n",
    "* Grupo 3 - < 25 -> Classe 3 e  tem > 1 irmãos/cônjugues\n",
    "\n",
    "Não são os grupos ideais mas assim já podemos conseguir uma média ou moda mais próxima das amostras idênticas às amostras faltantes"
   ]
  },
  {
   "cell_type": "markdown",
   "metadata": {},
   "source": [
    "### Preço do Bilhete e Idades\n",
    "\n",
    "Aqui usamos os grupos criados acima para ver os preços mais comuns"
   ]
  },
  {
   "cell_type": "code",
   "execution_count": 1728,
   "metadata": {},
   "outputs": [
    {
     "name": "stdout",
     "output_type": "stream",
     "text": [
      "Modas Grupo 1:  13.0 26.0\n",
      "Modas Grupo 2:  13.0\n",
      "Modas Grupo 3:  8.05\n",
      "\n",
      "Médias Grupo 1: 47.440\n",
      "Médias Grupo 2: 24.627\n",
      "Médias Grupo 3: 31.199\n"
     ]
    },
    {
     "name": "stderr",
     "output_type": "stream",
     "text": [
      "c:\\users\\tigax\\appdata\\local\\programs\\python\\python37\\lib\\site-packages\\ipykernel_launcher.py:11: VisibleDeprecationWarning: Creating an ndarray from ragged nested sequences (which is a list-or-tuple of lists-or-tuples-or ndarrays with different lengths or shapes) is deprecated. If you meant to do this, you must specify 'dtype=object' when creating the ndarray\n",
      "  # This is added back by InteractiveShellApp.init_path()\n",
      "c:\\users\\tigax\\appdata\\local\\programs\\python\\python37\\lib\\site-packages\\ipykernel_launcher.py:46: VisibleDeprecationWarning: Creating an ndarray from ragged nested sequences (which is a list-or-tuple of lists-or-tuples-or ndarrays with different lengths or shapes) is deprecated. If you meant to do this, you must specify 'dtype=object' when creating the ndarray\n"
     ]
    },
    {
     "data": {
      "image/png": "[encoded data removed]",
      "text/plain": [
       "<Figure size 720x432 with 3 Axes>"
      ]
     },
     "metadata": {},
     "output_type": "display_data"
    }
   ],
   "source": [
    "fig, ax = plt.subplots(1,3, figsize=(10,6))\n",
    "\n",
    "# Grupos\n",
    "group1 = df_train[df_train[\"Age\"]>=35]\n",
    "group2 = df_train[(df_train[\"Age\"]>=25)&(df_train[\"Age\"]< 35)]\n",
    "group3 = df_train[df_train[\"Age\"]<25]\n",
    "\n",
    "group_modes = np.array([\n",
    "    group1[\"Fare\"].mode().to_numpy(),\n",
    "    group2[\"Fare\"].mode().to_numpy(),\n",
    "    group3[\"Fare\"].mode().to_numpy()\n",
    "])\n",
    "\n",
    "group_means = np.array([\n",
    "    group1[\"Fare\"].mean(),\n",
    "    group2[\"Fare\"].mean(),\n",
    "    group3[\"Fare\"].mean()\n",
    "])\n",
    "\n",
    "\n",
    "print(\"Modas Grupo 1: \", *group_modes[0])\n",
    "print(\"Modas Grupo 2: \", *group_modes[1])\n",
    "print(\"Modas Grupo 3: \", *group_modes[2])\n",
    "\n",
    "print(\"\\nMédias Grupo 1: %.3f\" % group_means[0])\n",
    "print(\"Médias Grupo 2: %.3f\" % group_means[1])\n",
    "print(\"Médias Grupo 3: %.3f\" % group_means[2])\n",
    "\n",
    "\n",
    "sns.distplot(group1[\"Fare\"], ax=ax[0], color=\"red\", label=\"Grupo 1\")\n",
    "sns.distplot(group2[\"Fare\"], ax=ax[1], color=\"blue\", label=\"Grupo 2\")\n",
    "sns.distplot(group3[\"Fare\"], ax=ax[2], color=\"purple\", label=\"Grupo 3\")\n",
    "\n",
    "fig.legend(loc=\"center right\")\n",
    "\n",
    "# Mudar os labels do eixo x\n",
    "for i in range(len(ax)):\n",
    "    ax[i].xaxis.label.set_text(\"Preço do bilhete\")\n",
    "    ax[i].set_xlim(-1, 200)\n",
    "\n",
    "    \n",
    "# Criar médias e modas de cada grupo, mas agora da coluna Age\n",
    "group_modes = np.array([\n",
    "    group1[\"Age\"].mode().to_numpy(),\n",
    "    group2[\"Age\"].mode().to_numpy(),\n",
    "    group3[\"Age\"].mode().to_numpy()\n",
    "])\n",
    "\n",
    "group_means = np.array([\n",
    "    np.array([group1[\"Age\"].mean()]),\n",
    "    np.array([group2[\"Age\"].mean()]),\n",
    "    np.array([group3[\"Age\"].mean()])\n",
    "])"
   ]
  },
  {
   "cell_type": "markdown",
   "metadata": {},
   "source": [
    "Bem temos que as modas do grupo 1 são 13 e 26, grupo 2 é 13 e grupo 3 é 8.<br>\n",
    "Em relações a médias temos 47 por bilhete para o grupo 1, grupo 2 temos 25 por bilhete e grupo 3 com 31 por bilhete.<br><br>\n",
    "As médias dizem que o grupo 1 como tem muitas amostras da 1ª classe e vão todas sozinhas ou apenas com 1 irmão/cônjugue, pagam mais devido à classe.<br>\n",
    "Já o grupo 2 paga menos porque são de 2ª classe e ou vão sozinhos ou vão com 1 irmão/cônjugue, ou seja, classe mediana e poucas pessoas, o bilhete fica mais barato.<br>\n",
    "O grupo 3 é a classe mais económica contudo é aquela onde vão mais irmãos/cônjugues, por isso que a média é maior em relação à d do grupo 2.<br><br>\n",
    "\n",
    "**Na realidade não vou usar o preço do bilhete para separar ainda mais os grupos, acho que a classe e o número de irmãos/cônjugues já permite separar as amostras**"
   ]
  },
  {
   "cell_type": "code",
   "execution_count": 1729,
   "metadata": {},
   "outputs": [],
   "source": [
    "for df in [df_train, df_test]:\n",
    "    df[\"imput_ages_mode\"] = df[\"Age\"]\n",
    "    df[\"imput_ages_mean\"] = df[\"Age\"]\n",
    "\n",
    "def imput_ages(pclass, sibsp, age, group):\n",
    "    \"\"\"\n",
    "        pclass: É a classe da amostra\n",
    "        sibsp: É o número de irmãos/cônjugues da amostra\n",
    "        age: É a idade da amostra\n",
    "        group: lista com modas ou médias\n",
    "    \"\"\"\n",
    "    if not np.isnan(age):\n",
    "        return age\n",
    "    \n",
    "    if pclass == 1 or pclass == 2:\n",
    "        if sibsp == 0 or sibsp == 1:\n",
    "            return np.random.choice(group[pclass-1], 1).item()\n",
    "    \n",
    "    elif pclass == 3 and sibsp > 1:\n",
    "        return np.random.choice(group[pclass-1], 1).item()\n",
    "    \n",
    "    return np.random.choice( df_train[df_train[\"Pclass\"]==pclass][\"Age\"].mode(), 1).item()\n",
    "\n",
    "\n",
    "# imputar idades com base nas modas\n",
    "for df in [df_train, df_test]:\n",
    "    df[\"imput_ages_mode\"] = df_train.apply(\n",
    "       lambda x: imput_ages(x[\"Pclass\"], x[\"SibSp\"], x[\"Age\"], group_modes), axis=1\n",
    "    )\n",
    "\n",
    "# imputar com base nas médias\n",
    "for df in [df_train, df_test]:\n",
    "    df[\"imput_ages_mean\"] = df.apply(\n",
    "       lambda x: imput_ages(x[\"Pclass\"], x[\"SibSp\"], x[\"Age\"], group_means), axis=1\n",
    "    )\n",
    "\n",
    "# Converter todas as idades para inteiro\n",
    "for df in [df_train, df_test]:\n",
    "    df[\"imput_ages_mode\"] = df[\"imput_ages_mode\"].astype(int)\n",
    "    df[\"imput_ages_mean\"] = df[\"imput_ages_mean\"].astype(int)"
   ]
  },
  {
   "cell_type": "code",
   "execution_count": 1730,
   "metadata": {},
   "outputs": [
    {
     "data": {
      "text/plain": [
       "<matplotlib.legend.Legend at 0x1cfde280c08>"
      ]
     },
     "execution_count": 1730,
     "metadata": {},
     "output_type": "execute_result"
    },
    {
     "data": {
      "image/png": "[encoded data removed]",
      "text/plain": [
       "<Figure size 1008x432 with 3 Axes>"
      ]
     },
     "metadata": {},
     "output_type": "display_data"
    }
   ],
   "source": [
    "fig, ax = plt.subplots(1,3, figsize=(14,6))\n",
    "\n",
    "sns.distplot(df_train[\"Age\"].dropna(axis=0), ax=ax[0], color=\"red\", label=\"Idades Originais\")\n",
    "sns.distplot(df_train[\"imput_ages_mode\"], ax=ax[1], color=\"blue\", label=\"Idades Imputadas com moda\")\n",
    "sns.distplot(df_train[\"imput_ages_mean\"], ax=ax[2], color=\"purple\", label=\"Idades Imputadas com média\")\n",
    "\n",
    "fig.legend(loc=\"center right\")"
   ]
  },
  {
   "cell_type": "markdown",
   "metadata": {},
   "source": [
    "**O que se fez aqui?**<br><br>\n",
    "\n",
    "O que eu fiz aqui foi criar os 3 grupos:\n",
    "* group1 = Idades > 35\n",
    "* group2 = Idades >= 25 e Idades < 35\n",
    "* group3 = Idades < 25\n",
    "\n",
    "Após ter as amostras separadas no seu respetivo grupo, fui à procura das condições que permitiram criar estes grupos:\n",
    "* Tem classe 1 e tem apenas 0 ou 1 irmãos/cônjugues abordo ---> group1\n",
    "* Tem classe 2 e tem apenas 0 ou 1 irmãos/cônjugues abordo ---> group2\n",
    "* Tem classe 3 e tem mais que 1 irmão/cônjugue abordo ---> group3\n",
    "\n",
    "Assim localizei todas as amostras que batiam com essas 3 condições, e a idade introduzida foi com base na moda das amostras que cumpriam a mesma condição.\n",
    "Fiz exatamente o mesmo, só que em vez da moda usei a média. No fim fiquei com estas 2 colunas:"
   ]
  },
  {
   "cell_type": "markdown",
   "metadata": {},
   "source": [
    "Contudo ainda tenho mais 2 formas para imputar as idades em falta:\n",
    "* Fazer o mesmo, mas usar o número de pais/filhos para supor que aqueles que têm 1 pai/filho a acompanhar e têm a idade em falta, podem ter 0 anos (serem bebés).\n",
    "* Outra forma é usar uma floresta aleatória(algoritmo baseado em Árvores de Decisões) para prever qual a melhor idade para cada amostra. "
   ]
  },
  {
   "cell_type": "code",
   "execution_count": 1731,
   "metadata": {},
   "outputs": [
    {
     "name": "stdout",
     "output_type": "stream",
     "text": [
      "IDADES ORIGINAIS\n",
      "Média = 29.699\n",
      "Mediana = 28.000\n",
      "Moda = 24.000\n",
      "Variância = 211.019\n",
      "Desvio Padrão = 14.526\n"
     ]
    }
   ],
   "source": [
    "print(\"IDADES ORIGINAIS\")\n",
    "print(\"Média = %.3f\" % df_train[\"Age\"].mean())\n",
    "print(\"Mediana = %.3f\" % df_train[\"Age\"].median())\n",
    "print(\"Moda = %.3f\" % df_train[\"Age\"].mode())\n",
    "print(\"Variância = %.3f\" % df_train[\"Age\"].var())\n",
    "print(\"Desvio Padrão = %.3f\" % df_train[\"Age\"].std())"
   ]
  },
  {
   "cell_type": "code",
   "execution_count": 1732,
   "metadata": {},
   "outputs": [
    {
     "name": "stdout",
     "output_type": "stream",
     "text": [
      "IDADES IMPUTADAS COM MODA\n",
      "Média = 28.744\n",
      "Mediana = 26.000\n",
      "Moda = 22.000\n",
      "Variância = 178.364\n",
      "Desvio Padrão = 13.355\n"
     ]
    }
   ],
   "source": [
    "print(\"IDADES IMPUTADAS COM MODA\")\n",
    "print(\"Média = %.3f\" % df_train[\"imput_ages_mode\"].mean())\n",
    "print(\"Mediana = %.3f\" % df_train[\"imput_ages_mode\"].median())\n",
    "print(\"Moda = %.3f\" % df_train[\"imput_ages_mode\"].mode())\n",
    "print(\"Variância = %.3f\" % df_train[\"imput_ages_mode\"].var())\n",
    "print(\"Desvio Padrão = %.3f\" % df_train[\"imput_ages_mode\"].std())"
   ]
  },
  {
   "cell_type": "code",
   "execution_count": 1733,
   "metadata": {},
   "outputs": [
    {
     "name": "stdout",
     "output_type": "stream",
     "text": [
      "IDADES IMPUTADAS COM MÉDIA\n",
      "Média = 28.954\n",
      "Mediana = 26.000\n",
      "Moda = 22.000\n",
      "Variância = 188.770\n",
      "Desvio Padrão = 13.739\n"
     ]
    }
   ],
   "source": [
    "print(\"IDADES IMPUTADAS COM MÉDIA\")\n",
    "print(\"Média = %.3f\" % df_train[\"imput_ages_mean\"].mean())\n",
    "print(\"Mediana = %.3f\" % df_train[\"imput_ages_mean\"].median())\n",
    "print(\"Moda = %.3f\" % df_train[\"imput_ages_mean\"].mode())\n",
    "print(\"Variância = %.3f\" % df_train[\"imput_ages_mean\"].var())\n",
    "print(\"Desvio Padrão = %.3f\" % df_train[\"imput_ages_mean\"].std())"
   ]
  },
  {
   "cell_type": "markdown",
   "metadata": {},
   "source": [
    "Os valores mantiveram-se melhores do que estava à espera e ainda conseguimos reduzir um pouco a variância e desvio padrão."
   ]
  },
  {
   "cell_type": "code",
   "execution_count": 1734,
   "metadata": {},
   "outputs": [],
   "source": [
    "# Vou usar a coluna das modas apenas porque é que tem menos variância e desvio padrão\n",
    "for df in [df_train, df_test]:\n",
    "    df[\"imput_ages_babies\"] = df[\"imput_ages_mode\"]\n",
    "\n",
    "def imput_ages_babies(parch, age, default):\n",
    "    \"\"\"\n",
    "        parch: Número de filhos/pais da amostra\n",
    "        age: Idade da amostra\n",
    "        default: Valor atual da coluna imput_ages_babies\n",
    "    \"\"\"\n",
    "\n",
    "    if parch > 1.0 and np.isnan(age):\n",
    "        return 0\n",
    "    \n",
    "    return default\n",
    "\n",
    "for df in [df_train, df_test]:\n",
    "    df[\"imput_ages_babies\"] = df.apply(\n",
    "        lambda x: imput_ages_babies(x[\"Parch\"], x[\"Age\"], x[\"imput_ages_babies\"]),\n",
    "        axis=1\n",
    "\n",
    "    )"
   ]
  },
  {
   "cell_type": "code",
   "execution_count": 1735,
   "metadata": {},
   "outputs": [
    {
     "name": "stdout",
     "output_type": "stream",
     "text": [
      "<class 'pandas.core.frame.DataFrame'>\n",
      "RangeIndex: 891 entries, 0 to 890\n",
      "Data columns (total 15 columns):\n",
      " #   Column             Non-Null Count  Dtype  \n",
      "---  ------             --------------  -----  \n",
      " 0   PassengerId        891 non-null    int64  \n",
      " 1   Survived           891 non-null    int64  \n",
      " 2   Pclass             891 non-null    int64  \n",
      " 3   Name               891 non-null    object \n",
      " 4   Sex                891 non-null    int64  \n",
      " 5   Age                714 non-null    float64\n",
      " 6   SibSp              891 non-null    int64  \n",
      " 7   Parch              891 non-null    int64  \n",
      " 8   Ticket             891 non-null    object \n",
      " 9   Fare               891 non-null    float64\n",
      " 10  Cabin              204 non-null    object \n",
      " 11  Embarked           889 non-null    object \n",
      " 12  imput_ages_mode    891 non-null    int32  \n",
      " 13  imput_ages_mean    891 non-null    int32  \n",
      " 14  imput_ages_babies  891 non-null    int64  \n",
      "dtypes: float64(2), int32(2), int64(7), object(4)\n",
      "memory usage: 97.6+ KB\n"
     ]
    }
   ],
   "source": [
    "df_train.info()"
   ]
  },
  {
   "cell_type": "code",
   "execution_count": 1736,
   "metadata": {},
   "outputs": [
    {
     "name": "stdout",
     "output_type": "stream",
     "text": [
      "IDADES IMPUTADAS ONDE BEBÉS TÊM IDADE 0\n",
      "Média = 28.432\n",
      "Mediana = 26.000\n",
      "Moda = 22.000\n",
      "Variância = 188.974\n",
      "Desvio Padrão = 13.747\n"
     ]
    }
   ],
   "source": [
    "print(\"IDADES IMPUTADAS ONDE BEBÉS TÊM IDADE 0\")\n",
    "print(\"Média = %.3f\" % df_train[\"imput_ages_babies\"].mean())\n",
    "print(\"Mediana = %.3f\" % df_train[\"imput_ages_babies\"].median())\n",
    "print(\"Moda = %.3f\" % df_train[\"imput_ages_babies\"].mode())\n",
    "print(\"Variância = %.3f\" % df_train[\"imput_ages_babies\"].var())\n",
    "print(\"Desvio Padrão = %.3f\" % df_train[\"imput_ages_babies\"].std())"
   ]
  },
  {
   "cell_type": "markdown",
   "metadata": {},
   "source": [
    "Ficou extremamente idêntico ao da média!! A única coisa que feita: Foi pegar na coluna das idades imputadas com modas e substituir as idades de todas as amostras cujo número de pais/filhos superior a 1 E não tivessem idade, por 0.<br><br>\n",
    "Por enquanto a melhor coluna é a das modas já que as médias e esta nova terem desvio padrão mais elevado."
   ]
  },
  {
   "cell_type": "code",
   "execution_count": 1737,
   "metadata": {},
   "outputs": [],
   "source": [
    "# Usar a Regressão Random Forest para prever as idades em falta\n",
    "# Vamos usar apenas as variáveis completas e numéricas\n",
    "\n",
    "# Guardar as samples que têm idades\n",
    "df_rfr = df_train[df_train[\"Age\"].notnull()][[\"Survived\", \"Pclass\", \"Sex\", \"SibSp\", \"Parch\", \"Fare\", \"Age\"]]\n",
    "\n",
    "# Guardar as samples que estão com idade em falta, removendo a coluna Age\n",
    "df_missing = df_train[df_train[\"Age\"].isnull()][[\"Survived\", \"Pclass\", \"Sex\", \"SibSp\", \"Parch\", \"Fare\"]]"
   ]
  },
  {
   "cell_type": "code",
   "execution_count": 1738,
   "metadata": {},
   "outputs": [
    {
     "data": {
      "text/html": [
       "<div>\n",
       "<style scoped>\n",
       "    .dataframe tbody tr th:only-of-type {\n",
       "        vertical-align: middle;\n",
       "    }\n",
       "\n",
       "    .dataframe tbody tr th {\n",
       "        vertical-align: top;\n",
       "    }\n",
       "\n",
       "    .dataframe thead th {\n",
       "        text-align: right;\n",
       "    }\n",
       "</style>\n",
       "<table border=\"1\" class=\"dataframe\">\n",
       "  <thead>\n",
       "    <tr style=\"text-align: right;\">\n",
       "      <th></th>\n",
       "      <th>Survived</th>\n",
       "      <th>Pclass</th>\n",
       "      <th>Sex</th>\n",
       "      <th>SibSp</th>\n",
       "      <th>Parch</th>\n",
       "      <th>Fare</th>\n",
       "      <th>Age</th>\n",
       "    </tr>\n",
       "  </thead>\n",
       "  <tbody>\n",
       "    <tr>\n",
       "      <th>0</th>\n",
       "      <td>0</td>\n",
       "      <td>3</td>\n",
       "      <td>0</td>\n",
       "      <td>1</td>\n",
       "      <td>0</td>\n",
       "      <td>7.2500</td>\n",
       "      <td>22.0</td>\n",
       "    </tr>\n",
       "    <tr>\n",
       "      <th>1</th>\n",
       "      <td>1</td>\n",
       "      <td>1</td>\n",
       "      <td>1</td>\n",
       "      <td>1</td>\n",
       "      <td>0</td>\n",
       "      <td>71.2833</td>\n",
       "      <td>38.0</td>\n",
       "    </tr>\n",
       "    <tr>\n",
       "      <th>2</th>\n",
       "      <td>1</td>\n",
       "      <td>3</td>\n",
       "      <td>1</td>\n",
       "      <td>0</td>\n",
       "      <td>0</td>\n",
       "      <td>7.9250</td>\n",
       "      <td>26.0</td>\n",
       "    </tr>\n",
       "    <tr>\n",
       "      <th>3</th>\n",
       "      <td>1</td>\n",
       "      <td>1</td>\n",
       "      <td>1</td>\n",
       "      <td>1</td>\n",
       "      <td>0</td>\n",
       "      <td>53.1000</td>\n",
       "      <td>35.0</td>\n",
       "    </tr>\n",
       "    <tr>\n",
       "      <th>4</th>\n",
       "      <td>0</td>\n",
       "      <td>3</td>\n",
       "      <td>0</td>\n",
       "      <td>0</td>\n",
       "      <td>0</td>\n",
       "      <td>8.0500</td>\n",
       "      <td>35.0</td>\n",
       "    </tr>\n",
       "    <tr>\n",
       "      <th>...</th>\n",
       "      <td>...</td>\n",
       "      <td>...</td>\n",
       "      <td>...</td>\n",
       "      <td>...</td>\n",
       "      <td>...</td>\n",
       "      <td>...</td>\n",
       "      <td>...</td>\n",
       "    </tr>\n",
       "    <tr>\n",
       "      <th>885</th>\n",
       "      <td>0</td>\n",
       "      <td>3</td>\n",
       "      <td>1</td>\n",
       "      <td>0</td>\n",
       "      <td>5</td>\n",
       "      <td>29.1250</td>\n",
       "      <td>39.0</td>\n",
       "    </tr>\n",
       "    <tr>\n",
       "      <th>886</th>\n",
       "      <td>0</td>\n",
       "      <td>2</td>\n",
       "      <td>0</td>\n",
       "      <td>0</td>\n",
       "      <td>0</td>\n",
       "      <td>13.0000</td>\n",
       "      <td>27.0</td>\n",
       "    </tr>\n",
       "    <tr>\n",
       "      <th>887</th>\n",
       "      <td>1</td>\n",
       "      <td>1</td>\n",
       "      <td>1</td>\n",
       "      <td>0</td>\n",
       "      <td>0</td>\n",
       "      <td>30.0000</td>\n",
       "      <td>19.0</td>\n",
       "    </tr>\n",
       "    <tr>\n",
       "      <th>889</th>\n",
       "      <td>1</td>\n",
       "      <td>1</td>\n",
       "      <td>0</td>\n",
       "      <td>0</td>\n",
       "      <td>0</td>\n",
       "      <td>30.0000</td>\n",
       "      <td>26.0</td>\n",
       "    </tr>\n",
       "    <tr>\n",
       "      <th>890</th>\n",
       "      <td>0</td>\n",
       "      <td>3</td>\n",
       "      <td>0</td>\n",
       "      <td>0</td>\n",
       "      <td>0</td>\n",
       "      <td>7.7500</td>\n",
       "      <td>32.0</td>\n",
       "    </tr>\n",
       "  </tbody>\n",
       "</table>\n",
       "<p>714 rows × 7 columns</p>\n",
       "</div>"
      ],
      "text/plain": [
       "     Survived  Pclass  Sex  SibSp  Parch     Fare   Age\n",
       "0           0       3    0      1      0   7.2500  22.0\n",
       "1           1       1    1      1      0  71.2833  38.0\n",
       "2           1       3    1      0      0   7.9250  26.0\n",
       "3           1       1    1      1      0  53.1000  35.0\n",
       "4           0       3    0      0      0   8.0500  35.0\n",
       "..        ...     ...  ...    ...    ...      ...   ...\n",
       "885         0       3    1      0      5  29.1250  39.0\n",
       "886         0       2    0      0      0  13.0000  27.0\n",
       "887         1       1    1      0      0  30.0000  19.0\n",
       "889         1       1    0      0      0  30.0000  26.0\n",
       "890         0       3    0      0      0   7.7500  32.0\n",
       "\n",
       "[714 rows x 7 columns]"
      ]
     },
     "execution_count": 1738,
     "metadata": {},
     "output_type": "execute_result"
    }
   ],
   "source": [
    "df_rfr"
   ]
  },
  {
   "cell_type": "code",
   "execution_count": 1739,
   "metadata": {},
   "outputs": [
    {
     "data": {
      "text/html": [
       "<div>\n",
       "<style scoped>\n",
       "    .dataframe tbody tr th:only-of-type {\n",
       "        vertical-align: middle;\n",
       "    }\n",
       "\n",
       "    .dataframe tbody tr th {\n",
       "        vertical-align: top;\n",
       "    }\n",
       "\n",
       "    .dataframe thead th {\n",
       "        text-align: right;\n",
       "    }\n",
       "</style>\n",
       "<table border=\"1\" class=\"dataframe\">\n",
       "  <thead>\n",
       "    <tr style=\"text-align: right;\">\n",
       "      <th></th>\n",
       "      <th>Survived</th>\n",
       "      <th>Pclass</th>\n",
       "      <th>Sex</th>\n",
       "      <th>SibSp</th>\n",
       "      <th>Parch</th>\n",
       "      <th>Fare</th>\n",
       "    </tr>\n",
       "  </thead>\n",
       "  <tbody>\n",
       "    <tr>\n",
       "      <th>5</th>\n",
       "      <td>0</td>\n",
       "      <td>3</td>\n",
       "      <td>0</td>\n",
       "      <td>0</td>\n",
       "      <td>0</td>\n",
       "      <td>8.4583</td>\n",
       "    </tr>\n",
       "    <tr>\n",
       "      <th>17</th>\n",
       "      <td>1</td>\n",
       "      <td>2</td>\n",
       "      <td>0</td>\n",
       "      <td>0</td>\n",
       "      <td>0</td>\n",
       "      <td>13.0000</td>\n",
       "    </tr>\n",
       "    <tr>\n",
       "      <th>19</th>\n",
       "      <td>1</td>\n",
       "      <td>3</td>\n",
       "      <td>1</td>\n",
       "      <td>0</td>\n",
       "      <td>0</td>\n",
       "      <td>7.2250</td>\n",
       "    </tr>\n",
       "    <tr>\n",
       "      <th>26</th>\n",
       "      <td>0</td>\n",
       "      <td>3</td>\n",
       "      <td>0</td>\n",
       "      <td>0</td>\n",
       "      <td>0</td>\n",
       "      <td>7.2250</td>\n",
       "    </tr>\n",
       "    <tr>\n",
       "      <th>28</th>\n",
       "      <td>1</td>\n",
       "      <td>3</td>\n",
       "      <td>1</td>\n",
       "      <td>0</td>\n",
       "      <td>0</td>\n",
       "      <td>7.8792</td>\n",
       "    </tr>\n",
       "    <tr>\n",
       "      <th>...</th>\n",
       "      <td>...</td>\n",
       "      <td>...</td>\n",
       "      <td>...</td>\n",
       "      <td>...</td>\n",
       "      <td>...</td>\n",
       "      <td>...</td>\n",
       "    </tr>\n",
       "    <tr>\n",
       "      <th>859</th>\n",
       "      <td>0</td>\n",
       "      <td>3</td>\n",
       "      <td>0</td>\n",
       "      <td>0</td>\n",
       "      <td>0</td>\n",
       "      <td>7.2292</td>\n",
       "    </tr>\n",
       "    <tr>\n",
       "      <th>863</th>\n",
       "      <td>0</td>\n",
       "      <td>3</td>\n",
       "      <td>1</td>\n",
       "      <td>8</td>\n",
       "      <td>2</td>\n",
       "      <td>69.5500</td>\n",
       "    </tr>\n",
       "    <tr>\n",
       "      <th>868</th>\n",
       "      <td>0</td>\n",
       "      <td>3</td>\n",
       "      <td>0</td>\n",
       "      <td>0</td>\n",
       "      <td>0</td>\n",
       "      <td>9.5000</td>\n",
       "    </tr>\n",
       "    <tr>\n",
       "      <th>878</th>\n",
       "      <td>0</td>\n",
       "      <td>3</td>\n",
       "      <td>0</td>\n",
       "      <td>0</td>\n",
       "      <td>0</td>\n",
       "      <td>7.8958</td>\n",
       "    </tr>\n",
       "    <tr>\n",
       "      <th>888</th>\n",
       "      <td>0</td>\n",
       "      <td>3</td>\n",
       "      <td>1</td>\n",
       "      <td>1</td>\n",
       "      <td>2</td>\n",
       "      <td>23.4500</td>\n",
       "    </tr>\n",
       "  </tbody>\n",
       "</table>\n",
       "<p>177 rows × 6 columns</p>\n",
       "</div>"
      ],
      "text/plain": [
       "     Survived  Pclass  Sex  SibSp  Parch     Fare\n",
       "5           0       3    0      0      0   8.4583\n",
       "17          1       2    0      0      0  13.0000\n",
       "19          1       3    1      0      0   7.2250\n",
       "26          0       3    0      0      0   7.2250\n",
       "28          1       3    1      0      0   7.8792\n",
       "..        ...     ...  ...    ...    ...      ...\n",
       "859         0       3    0      0      0   7.2292\n",
       "863         0       3    1      8      2  69.5500\n",
       "868         0       3    0      0      0   9.5000\n",
       "878         0       3    0      0      0   7.8958\n",
       "888         0       3    1      1      2  23.4500\n",
       "\n",
       "[177 rows x 6 columns]"
      ]
     },
     "execution_count": 1739,
     "metadata": {},
     "output_type": "execute_result"
    }
   ],
   "source": [
    "df_missing"
   ]
  },
  {
   "cell_type": "markdown",
   "metadata": {},
   "source": [
    "Criei 2 novos DataFrames:\n",
    "* 1º são todas as amostras (714 amostras) que têm a idade definida, contudo só vou utilizar as variáveis explicativas numéricas e/ou que foram já tratadas\n",
    "* 2º são todas as amostras (177 amostras) que têm as idades em falta, utilizo as mesmas variáveis, mas retirei a Age porque iria estar vazia, já que estamos a tratar de preenchê-la"
   ]
  },
  {
   "cell_type": "code",
   "execution_count": 1740,
   "metadata": {},
   "outputs": [],
   "source": [
    "from sklearn.ensemble import RandomForestRegressor\n",
    "from sklearn.model_selection import train_test_split\n",
    "from sklearn.preprocessing import StandardScaler\n",
    "#from sklearn.decomposition import PCA\n",
    "from sklearn.svm import SVR\n",
    "from sklearn.pipeline import Pipeline\n",
    "\n",
    "X = df_rfr.drop([\"Age\"], axis=1).values\n",
    "y = df_rfr[\"Age\"]\n",
    "\n",
    "X_train, X_test, y_train, y_test = train_test_split(X, y, test_size=0.3)\n",
    "\n",
    "pipe_svr = Pipeline([\n",
    "    (\"scaler\", StandardScaler()),\n",
    "    #(\"dim_reduction\", PCA()),\n",
    "    (\"svr\", SVR(C=10.0, epsilon=0.3, tol=0.1))\n",
    "    #(\"rf\", RandomForestRegressor())\n",
    "])"
   ]
  },
  {
   "cell_type": "code",
   "execution_count": 1741,
   "metadata": {},
   "outputs": [
    {
     "data": {
      "text/plain": [
       "Pipeline(steps=[('scaler', StandardScaler()),\n",
       "                ('svr', SVR(C=10.0, epsilon=0.3, tol=0.1))])"
      ]
     },
     "execution_count": 1741,
     "metadata": {},
     "output_type": "execute_result"
    }
   ],
   "source": [
    "pipe_svr.fit(X_train, y_train)"
   ]
  },
  {
   "cell_type": "code",
   "execution_count": 1742,
   "metadata": {},
   "outputs": [],
   "source": [
    "# Vamos prever as idades\n",
    "pred_ages = pipe_svr.predict(df_missing.to_numpy()).astype(int)"
   ]
  },
  {
   "cell_type": "code",
   "execution_count": 1743,
   "metadata": {},
   "outputs": [
    {
     "name": "stdout",
     "output_type": "stream",
     "text": [
      "Score em prever dados de treino: 0.406\n",
      "Score em prever dados de teste: 0.252\n"
     ]
    }
   ],
   "source": [
    "print(\"Score em prever dados de treino: %.3f\" % pipe_svr.score(X_train, y_train))\n",
    "print(\"Score em prever dados de teste: %.3f\" % pipe_svr.score(X_test, y_test))"
   ]
  },
  {
   "cell_type": "code",
   "execution_count": 1744,
   "metadata": {},
   "outputs": [
    {
     "name": "stdout",
     "output_type": "stream",
     "text": [
      "Score em prever dados de treino: 0.754\n",
      "Score em prever dados de teste: 0.134\n"
     ]
    }
   ],
   "source": [
    "pipe_rfr = Pipeline([\n",
    "    (\"scaler\", StandardScaler()),\n",
    "    #(\"dim_reduction\", PCA()),\n",
    "    (\"rfr\", RandomForestRegressor(n_estimators=100))\n",
    "    #(\"rf\", RandomForestRegressor())\n",
    "])\n",
    "\n",
    "pipe_rfr.fit(X_train, y_train)\n",
    "\n",
    "# Vamos prever as idades\n",
    "pred_ages = pipe_rfr.predict(df_missing.to_numpy()).astype(int)\n",
    "\n",
    "print(\"Score em prever dados de treino: %.3f\" % pipe_rfr.score(X_train, y_train))\n",
    "print(\"Score em prever dados de teste: %.3f\" % pipe_rfr.score(X_test, y_test))"
   ]
  },
  {
   "cell_type": "code",
   "execution_count": 1745,
   "metadata": {},
   "outputs": [],
   "source": [
    "from sklearn.ensemble import VotingRegressor\n",
    "\n",
    "voting = VotingRegressor([\n",
    "    (\"pipe_svr\", pipe_svr),\n",
    "    (\"pipe_rfr\", pipe_rfr)\n",
    "])"
   ]
  },
  {
   "cell_type": "code",
   "execution_count": 1746,
   "metadata": {},
   "outputs": [
    {
     "data": {
      "text/plain": [
       "VotingRegressor(estimators=[('pipe_svr',\n",
       "                             Pipeline(steps=[('scaler', StandardScaler()),\n",
       "                                             ('svr',\n",
       "                                              SVR(C=10.0, epsilon=0.3,\n",
       "                                                  tol=0.1))])),\n",
       "                            ('pipe_rfr',\n",
       "                             Pipeline(steps=[('scaler', StandardScaler()),\n",
       "                                             ('rfr',\n",
       "                                              RandomForestRegressor())]))])"
      ]
     },
     "execution_count": 1746,
     "metadata": {},
     "output_type": "execute_result"
    }
   ],
   "source": [
    "voting.fit(X_train, y_train)"
   ]
  },
  {
   "cell_type": "code",
   "execution_count": 1747,
   "metadata": {},
   "outputs": [
    {
     "name": "stdout",
     "output_type": "stream",
     "text": [
      "Score em prever dados de treino: 0.640\n",
      "Score em prever dados de teste: 0.231\n"
     ]
    }
   ],
   "source": [
    "print(\"Score em prever dados de treino: %.3f\" % voting.score(X_train, y_train))\n",
    "print(\"Score em prever dados de teste: %.3f\" % voting.score(X_test, y_test))"
   ]
  },
  {
   "cell_type": "markdown",
   "metadata": {},
   "source": [
    "Os scores estão horríveis, muito variância (modelo a overfitar muito!) e mesmo já tento tentado um GridSearch não melhorou. Decidi então usar um algoritmo de votos e mesmo assim os scores estão péssimos como se pode ver acima.<br><br>\n",
    "De qualquer forma vamos aplicar as previsões no nosso dataset e comparar com as colunas de idades imputadas."
   ]
  },
  {
   "cell_type": "code",
   "execution_count": 1748,
   "metadata": {},
   "outputs": [],
   "source": [
    "pred_ages = voting.predict(df_missing.to_numpy()).astype(int)"
   ]
  },
  {
   "cell_type": "code",
   "execution_count": 1749,
   "metadata": {},
   "outputs": [],
   "source": [
    "df_train[\"imput_ages_predicted\"] = df_train[\"Age\"]\n",
    "\n",
    "df_train.loc[df_train[\"Age\"].isnull(), \"imput_ages_predicted\"] = pred_ages\n",
    "df_train[\"imput_ages_predicted\"] = df_train[\"imput_ages_predicted\"].astype(int)\n",
    "\n",
    "\n",
    "##### Fazer o mesmo para o df_test ######\n",
    "\n",
    "\n",
    "\n",
    "## Corrigir o único faltante em Fare\n",
    "# Apesar de não estar aqui eu filtrei as amostras por 3ª classe e com idades entre 50 a 70\n",
    "# só encontrei uma amostra que pagou 14.5 de bilhete, decidi então deixar este com 15\n",
    "df_test[\"Fare\"].fillna(15.0, inplace=True)\n",
    "\n",
    "# Guardar as samples que têm idades\n",
    "df_rfr = df_test[df_test[\"Age\"].notnull()][[\"Pclass\", \"Sex\", \"SibSp\", \"Parch\", \"Fare\", \"Age\"]]\n",
    "\n",
    "# Guardar as samples que estão com idade em falta, removendo a coluna Age\n",
    "df_missing = df_test[df_test[\"Age\"].isnull()][[\"Pclass\", \"Sex\", \"SibSp\", \"Parch\", \"Fare\"]]\n",
    "\n",
    "X = df_rfr.drop([\"Age\"], axis=1).values\n",
    "y = df_rfr[\"Age\"]\n",
    "\n",
    "X_train, X_test, y_train, y_test = train_test_split(X, y, test_size=0.3)\n",
    "\n",
    "pipe_svr = Pipeline([\n",
    "    (\"scaler\", StandardScaler()),\n",
    "    #(\"dim_reduction\", PCA()),\n",
    "    (\"svr\", SVR(C=10.0, epsilon=0.3, tol=0.1))\n",
    "    #(\"rf\", RandomForestRegressor())\n",
    "])\n",
    "\n",
    "pipe_svr.fit(X_train, y_train)\n",
    "\n",
    "# Vamos prever as idades\n",
    "pred_ages = pipe_svr.predict(df_missing.to_numpy()).astype(int)\n",
    "\n",
    "voting = VotingRegressor([\n",
    "    (\"pipe_svr\", pipe_svr),\n",
    "    (\"pipe_rfr\", pipe_rfr)\n",
    "])\n",
    "\n",
    "voting.fit(X_train, y_train)\n",
    "\n",
    "pred_ages = voting.predict(df_missing.to_numpy()).astype(int)\n",
    "\n",
    "df_test[\"imput_ages_predicted\"] = df_test[\"Age\"]\n",
    "\n",
    "df_test.loc[df_test[\"Age\"].isnull(), \"imput_ages_predicted\"] = pred_ages\n",
    "df_test[\"imput_ages_predicted\"] = df_test[\"imput_ages_predicted\"].astype(int)"
   ]
  },
  {
   "cell_type": "code",
   "execution_count": 1750,
   "metadata": {},
   "outputs": [
    {
     "name": "stdout",
     "output_type": "stream",
     "text": [
      "IDADES IMPUTADAS PREVISTAS\n",
      "Média = 29.148\n",
      "Mediana = 27.000\n",
      "Moda = 26.000\n",
      "Variância = 184.241\n",
      "Desvio Padrão = 13.574\n"
     ]
    }
   ],
   "source": [
    "print(\"IDADES IMPUTADAS PREVISTAS\")\n",
    "print(\"Média = %.3f\" % df_train[\"imput_ages_predicted\"].mean())\n",
    "print(\"Mediana = %.3f\" % df_train[\"imput_ages_predicted\"].median())\n",
    "print(\"Moda = %.3f\" % df_train[\"imput_ages_predicted\"].mode())\n",
    "print(\"Variância = %.3f\" % df_train[\"imput_ages_predicted\"].var())\n",
    "print(\"Desvio Padrão = %.3f\" % df_train[\"imput_ages_predicted\"].std())"
   ]
  },
  {
   "cell_type": "markdown",
   "metadata": {},
   "source": [
    "Continua a ter valores superiores às nossas idades substituídas pela moda. O que mudou mais foi a moda onde na nossa coluna de dados imputados por modas temos: moda 22<br>\n",
    "Aqui temos moda de 30, por isso que os restantes cálculos deram ligeiramente superiores.<br><br>\n",
    "**Lembro que os algoritmos utilizados para prever, aplicaram os cálculos no dataset original (sem as variáveis incompletas e/ou categóricas)! E apesar de ter tido uma performance muito baixa, retornou valores bem próximos aos que previ utilizando as medidas demoda/média.**<br><br>\n",
    "Será algo bom ou mau?<br><br><br>"
   ]
  },
  {
   "cell_type": "code",
   "execution_count": 1751,
   "metadata": {},
   "outputs": [
    {
     "name": "stdout",
     "output_type": "stream",
     "text": [
      "Variável 'imput_ages_mode'\n",
      "Coeficiente variação para 1ª classe = 36.299\n",
      "Coeficiente variação para 2ª classe = 45.631\n",
      "Coeficiente variação para 3ª classe = 44.022\n",
      "Mediana =  26.0\n",
      "Média =  28.744107744107744\n",
      "\n",
      "Variável 'imput_ages_predicted'\n",
      "Coeficiente variação para 1ª classe = 36.675\n",
      "Coeficiente variação para 2ª classe = 45.656\n",
      "Coeficiente variação para 3ª classe = 44.740\n",
      "Mediana =  27.0\n",
      "Média =  29.14814814814815\n"
     ]
    }
   ],
   "source": [
    "# Coeficiente de variância da variável \"imput_ages_mode\" para cada classe\n",
    "print(\"Variável 'imput_ages_mode'\")\n",
    "for i in range(1,4):\n",
    "    std = df_train[ df_train[\"Pclass\"] == i][\"imput_ages_mode\"].std()\n",
    "    mean = df_train[ df_train[\"Pclass\"] == i][\"imput_ages_mode\"].mean()\n",
    "    \n",
    "    print(\"Coeficiente variação para %dª classe = %.3f\" % (i, (std/mean) * 100))\n",
    "\n",
    "print(\"Mediana = \", np.median( df_train[\"imput_ages_mode\"].sort_values().values ) )\n",
    "print(\"Média = \", df_train[\"imput_ages_mode\"].mean() )\n",
    "\n",
    "print(\"\\nVariável 'imput_ages_predicted'\")\n",
    "# Coeficiente de variância da variável \"imput_ages_predicted\" para cada classe\n",
    "for i in range(1,4):\n",
    "    std = df_train[ df_train[\"Pclass\"] == i][\"imput_ages_predicted\"].std()\n",
    "    mean = df_train[ df_train[\"Pclass\"] == i][\"imput_ages_predicted\"].mean()\n",
    "    \n",
    "    print(\"Coeficiente variação para %dª classe = %.3f\" % (i, (std/mean) * 100))\n",
    "\n",
    "\n",
    "print(\"Mediana = \", np.median( df_train[\"imput_ages_predicted\"].sort_values().values ) )\n",
    "print(\"Média = \", df_train[\"imput_ages_predicted\"].mean() )"
   ]
  },
  {
   "cell_type": "markdown",
   "metadata": {},
   "source": [
    "Estava virado para aceitar que a medida da moda para imputar tinha sido a melhor, mas podemos ver que a mediana e a média estão mais próximas com os dados previstos o que pode querer dizer que temos menos outliers (eles influenciam a média, afastando-a da mediana).<br>\n",
    "O coeficiente de variação parece ligeiramente inferior em todas as classes exceto na 1ª.<br><br>\n",
    "Conclusão vou arriscar usar os valores previstos como as idades oficiais e todas as outras serão eliminadas."
   ]
  },
  {
   "cell_type": "markdown",
   "metadata": {},
   "source": [
    "Bem e com isto termino a análise da variável explicativa *Pclass*, ou seja, classe do bilhete comprado.<br>\n",
    "E sim a variável explicativa *Cabin* deve ter uma relação interessante com a Pclass, já que muito provavelmente as cabines mais próximas do topo (A,B,C etc) deveriam ser para a 1ª classe. Quanto mais para baixo as cabines, menor será a classe.<br>\n",
    "No entanto é preciso transformar essa variável categórica numa variável numérica e isso poderá trazer algumas dores de cabeça. Então para já ficamos assim e logo que estude a variável *Cabin* mostrarei a relação que tem com *Pclass*"
   ]
  },
  {
   "cell_type": "code",
   "execution_count": 1752,
   "metadata": {},
   "outputs": [],
   "source": [
    "## Vou colocar os valores da \"imput_ages_mode\" no \"Age\" e dropar todas as outras criadas\n",
    "\n",
    "for df in [df_train, df_test]:\n",
    "    df[\"Age\"] = df[\"imput_ages_predicted\"]\n",
    "    df.drop([\"imput_ages_mode\", \"imput_ages_mean\", \"imput_ages_babies\", \"imput_ages_predicted\"], axis=1, inplace=True)"
   ]
  },
  {
   "cell_type": "markdown",
   "metadata": {},
   "source": [
    "## Sexo e Survived\n",
    "\n",
    "Próxima variável que vou estudar é a \"Sex\", ela era inicialmente categórica nominal (\"M\" - masculino, \"F\" - Feminino)<br>\n",
    "Eu converti-os para números( 1 = feminino, 0 = masculino)"
   ]
  },
  {
   "cell_type": "code",
   "execution_count": 1753,
   "metadata": {},
   "outputs": [
    {
     "data": {
      "text/plain": [
       "<matplotlib.axes._subplots.AxesSubplot at 0x1cfde304b48>"
      ]
     },
     "execution_count": 1753,
     "metadata": {},
     "output_type": "execute_result"
    },
    {
     "data": {
      "image/png": "[encoded data removed]",
      "text/plain": [
       "<Figure size 720x360 with 1 Axes>"
      ]
     },
     "metadata": {},
     "output_type": "display_data"
    }
   ],
   "source": [
    "plt.figure(figsize=(10,5))\n",
    "sns.barplot(df_train[\"Sex\"], df_train[\"Survived\"])"
   ]
  },
  {
   "cell_type": "code",
   "execution_count": 1754,
   "metadata": {},
   "outputs": [
    {
     "name": "stdout",
     "output_type": "stream",
     "text": [
      "Número total de pessoas do sexo feminino:  314\n",
      "Número total de pessoas do sexo masculino:  577\n",
      "\n",
      "Número de pessoas do sexo feminino que sobreviveram:  233\n",
      "Número de pessoas do sexo masculino que sobreviveram:  109\n",
      "\n",
      "% de pessoas do sexo feminino que sobreviveram: 74.204%\n",
      "% de pessoas do sexo masculino que sobreviveram: 40.381%\n"
     ]
    }
   ],
   "source": [
    "# Número de pessoas de sexo feminino e masculino\n",
    "f_num = df_train[df_train[\"Sex\"]==1][\"Sex\"].count()\n",
    "m_num = df_train[df_train[\"Sex\"]==0][\"Sex\"].count()\n",
    "\n",
    "# Todas as pessoas de sexo feminino e masculino que sobreviveram\n",
    "f_survived = df_train[(df_train[\"Sex\"]==1)&(df_train[\"Survived\"]==1)][\"Sex\"].count()\n",
    "m_survived = df_train[(df_train[\"Sex\"]==0)&(df_train[\"Survived\"]==1)][\"Sex\"].count()\n",
    "\n",
    "# Percentagem de pessoas do sexo feminino e masculino que sobreviveram\n",
    "f_percent_survived = f_survived / f_num *100\n",
    "m_percent_survived = f_survived / m_num *100\n",
    "\n",
    "print(\"Número total de pessoas do sexo feminino: \", f_num)\n",
    "print(\"Número total de pessoas do sexo masculino: \", m_num)\n",
    "\n",
    "print(\"\\nNúmero de pessoas do sexo feminino que sobreviveram: \", f_survived)\n",
    "print(\"Número de pessoas do sexo masculino que sobreviveram: \", m_survived)\n",
    "\n",
    "print(\"\\n%% de pessoas do sexo feminino que sobreviveram: %.3f%%\" % f_percent_survived)\n",
    "print(\"%% de pessoas do sexo masculino que sobreviveram: %.3f%%\" % m_percent_survived)"
   ]
  },
  {
   "cell_type": "markdown",
   "metadata": {},
   "source": [
    "Mesmo havendo mais pessoas de sexo masculino do que de sexo feminino, o sexo feminino foi quem sobreviveu mais.<br>\n",
    "Uma suposição que podemos retirar daqui é que quando há alguma emergência as prioridades, normalmente. são: crianças, mulheres, homens e idosos (posso estar errado)<br><br>\n",
    "Sendo assim faz sentido mais pessoas do sexo feminino terem sobrevivido já que deveriam ter tido prioridade de evacuação."
   ]
  },
  {
   "cell_type": "markdown",
   "metadata": {},
   "source": [
    "Vou calcular a percentagem de sobrevivente menores de 18 anos, para ver se esta suposição torn-se mais forte"
   ]
  },
  {
   "cell_type": "code",
   "execution_count": 1755,
   "metadata": {},
   "outputs": [
    {
     "name": "stdout",
     "output_type": "stream",
     "text": [
      "Número total de pessoas menores de 18 anos:  124\n",
      "Número de pessoas menores de 18 anos que sobreviveram:  67\n",
      "% de pessoas menores de 18 anos que sobreviveram: 54.032%\n"
     ]
    }
   ],
   "source": [
    "c_num = df_train[df_train[\"Age\"]<18][\"Age\"].count()\n",
    "\n",
    "c_survived = df_train[(df_train[\"Age\"]<18)&(df_train[\"Survived\"]==1)][\"Age\"].count()\n",
    "\n",
    "c_percent_survived = c_survived / c_num *100\n",
    "\n",
    "print(\"Número total de pessoas menores de 18 anos: \", c_num)\n",
    "print(\"Número de pessoas menores de 18 anos que sobreviveram: \", c_survived)\n",
    "print(\"%% de pessoas menores de 18 anos que sobreviveram: %.3f%%\" % c_percent_survived)"
   ]
  },
  {
   "cell_type": "markdown",
   "metadata": {},
   "source": [
    "Menores de 18 anos, um pouco mais de metade sobreviveu. Vamos ver de 15 anos para baixo."
   ]
  },
  {
   "cell_type": "code",
   "execution_count": 1756,
   "metadata": {},
   "outputs": [
    {
     "name": "stdout",
     "output_type": "stream",
     "text": [
      "Número total de pessoas menores de 15 anos:  86\n",
      "Número de pessoas menores de 15 anos que sobreviveram:  49\n",
      "% de pessoas menores de 15 anos que sobreviveram: 56.977%\n"
     ]
    }
   ],
   "source": [
    "c_num = df_train[df_train[\"Age\"]<15][\"Age\"].count()\n",
    "\n",
    "c_survived = df_train[(df_train[\"Age\"]<15)&(df_train[\"Survived\"]==1)][\"Age\"].count()\n",
    "\n",
    "c_percent_survived = c_survived / c_num *100\n",
    "\n",
    "print(\"Número total de pessoas menores de 15 anos: \", c_num)\n",
    "print(\"Número de pessoas menores de 15 anos que sobreviveram: \", c_survived)\n",
    "print(\"%% de pessoas menores de 15 anos que sobreviveram: %.3f%%\" % c_percent_survived)"
   ]
  },
  {
   "cell_type": "markdown",
   "metadata": {},
   "source": [
    "Aumentou ligeiramente, mas nada demais. Podemos levar em consideração a suposição, mas não podemos apoiar-nos a 100% nela!<br><br>\n",
    "Podemos fazer um teste de hipótese:\n",
    "* Se há diferença entre a taxa de mortalidade entre sexo feminino e masculino"
   ]
  },
  {
   "cell_type": "code",
   "execution_count": 1757,
   "metadata": {},
   "outputs": [
    {
     "name": "stdout",
     "output_type": "stream",
     "text": [
      "Valor P = NAN\n"
     ]
    },
    {
     "name": "stderr",
     "output_type": "stream",
     "text": [
      "c:\\users\\tigax\\appdata\\local\\programs\\python\\python37\\lib\\site-packages\\numpy\\core\\fromnumeric.py:3622: RuntimeWarning: Degrees of freedom <= 0 for slice\n",
      "  **kwargs)\n",
      "c:\\users\\tigax\\appdata\\local\\programs\\python\\python37\\lib\\site-packages\\numpy\\core\\_methods.py:226: RuntimeWarning: invalid value encountered in double_scalars\n",
      "  ret = ret.dtype.type(ret / rcount)\n"
     ]
    }
   ],
   "source": [
    "from scipy.stats import ttest_1samp\n",
    "\n",
    "# média de sobrevivencia do sexo feminino\n",
    "f_mean = np.mean( df_train[ df_train[\"Sex\"]==1 ][\"Survived\"] )\n",
    "\n",
    "# Verificar se a média do sexo feminino está longe dos valores\n",
    "# de sobrevivencia do sexo masculino\n",
    "t_stats, p_val = ttest_1samp(m_survived, f_mean)\n",
    "print(\"Valor P = %E\" % p_val)"
   ]
  },
  {
   "cell_type": "markdown",
   "metadata": {},
   "source": [
    "Parece que os valores de sobrebvivência do teste masculino estão bem longe da média dos valores femininos.<br><br>\n",
    "Agora vamos testar se há diferença entre a sobrevivência do sexo masculino e feminino:<br>\n",
    "$H0:$ Não há diferença na sobreviência entre sexo feminino e masculino, $x = 0$ <br>\n",
    "$H1:$ Há sim diferença na sobreviência entre sexo feminino e masculino, $x \\neq 0$"
   ]
  },
  {
   "cell_type": "code",
   "execution_count": 1758,
   "metadata": {},
   "outputs": [
    {
     "name": "stdout",
     "output_type": "stream",
     "text": [
      "Valor P = 1.406066e-69\n"
     ]
    }
   ],
   "source": [
    "t_stats, p_val, deg_freedom = ttest_ind(df_train[df_train[\"Sex\"]==1][\"Survived\"], df_train[df_train[\"Sex\"]==0][\"Survived\"])\n",
    "\n",
    "print(\"Valor P = %e\" %  p_val)"
   ]
  },
  {
   "cell_type": "markdown",
   "metadata": {},
   "source": [
    "Bem eu diria que o valor p rejeita a hipótese nula. Logo há sim diferença entre a sobrevivencia do sexo masculino e feminino<br><br>\n",
    "Lembrando que `ttest_1samp` compara se a média da nossa matriz *m_survived* é igual à média da matriz *f_survived*<br>\n",
    "Já o `ttest_ind` calcula o quão significante é essa diferença entre os sexos e a sobrevivência."
   ]
  },
  {
   "cell_type": "markdown",
   "metadata": {},
   "source": [
    "# Voltámos para a análise exploratória"
   ]
  },
  {
   "cell_type": "markdown",
   "metadata": {},
   "source": [
    "## Sexo e SibSp\n",
    "\n",
    "Verificar relações entre Sexo e número de irmãos/cônjugues"
   ]
  },
  {
   "cell_type": "code",
   "execution_count": 1759,
   "metadata": {},
   "outputs": [
    {
     "name": "stderr",
     "output_type": "stream",
     "text": [
      "c:\\users\\tigax\\appdata\\local\\programs\\python\\python37\\lib\\site-packages\\seaborn\\distributions.py:369: UserWarning: Default bandwidth for data is 0; skipping density estimation.\n",
      "  warnings.warn(msg, UserWarning)\n"
     ]
    },
    {
     "data": {
      "text/plain": [
       "<matplotlib.legend.Legend at 0x1cfde7a4148>"
      ]
     },
     "execution_count": 1759,
     "metadata": {},
     "output_type": "execute_result"
    },
    {
     "data": {
      "image/png": "[encoded data removed]",
      "text/plain": [
       "<Figure size 720x360 with 2 Axes>"
      ]
     },
     "metadata": {},
     "output_type": "display_data"
    }
   ],
   "source": [
    "fig, ax = plt.subplots(1, 2, figsize=(10,5))\n",
    "\n",
    "gender = {\"0\": \"Masculino\", \"1\": \"Feminino\"}\n",
    "colors = [\"slateblue\", \"lightcoral\"]\n",
    "\n",
    "for i in range(0,2):\n",
    "    sns.distplot(df_train[df_train[\"Sex\"]==i][\"SibSp\"], ax=ax[i], label=gender[str(i)], color=colors[i])\n",
    "\n",
    "fig.legend()"
   ]
  },
  {
   "cell_type": "code",
   "execution_count": 1760,
   "metadata": {},
   "outputs": [
    {
     "name": "stdout",
     "output_type": "stream",
     "text": [
      "Sexo Masculino tem 434-75% amostras com 0 como número de irmãos/cônjugues\n",
      "Sexo Masculino tem 103-17% amostras com 1 como número de irmãos/cônjugues\n",
      "Sexo Masculino tem 15-2% amostras com 2 como número de irmãos/cônjugues\n",
      "Sexo Masculino tem 5-0% amostras com 3 como número de irmãos/cônjugues\n",
      "Sexo Masculino tem 12-2% amostras com 4 como número de irmãos/cônjugues\n",
      "Sexo Masculino tem 4-0% amostras com 5 como número de irmãos/cônjugues\n",
      "Sexo Masculino tem 0-0% amostras com 6 como número de irmãos/cônjugues\n",
      "Sexo Masculino tem 0-0% amostras com 7 como número de irmãos/cônjugues\n",
      "Sexo Masculino tem 4-0% amostras com 8 como número de irmãos/cônjugues\n",
      "\n",
      "Sexo Feminino tem 174-55% amostras com 0 como número de irmãos/cônjugues\n",
      "Sexo Feminino tem 106-33% amostras com 1 como número de irmãos/cônjugues\n",
      "Sexo Feminino tem 13-4% amostras com 2 como número de irmãos/cônjugues\n",
      "Sexo Feminino tem 11-3% amostras com 3 como número de irmãos/cônjugues\n",
      "Sexo Feminino tem 6-1% amostras com 4 como número de irmãos/cônjugues\n",
      "Sexo Feminino tem 1-0% amostras com 5 como número de irmãos/cônjugues\n",
      "Sexo Feminino tem 0-0% amostras com 6 como número de irmãos/cônjugues\n",
      "Sexo Feminino tem 0-0% amostras com 7 como número de irmãos/cônjugues\n",
      "Sexo Feminino tem 3-0% amostras com 8 como número de irmãos/cônjugues\n",
      "\n"
     ]
    }
   ],
   "source": [
    "for i in range(0,2):\n",
    "    # variável com o número total de amostras de um sexo\n",
    "    total = m_num if i == 0 else f_num\n",
    "    \n",
    "    for j in range(0,9):\n",
    "        count_sibs = df_train[(df_train[\"Sex\"]==i)&(df_train[\"SibSp\"]==j)][\"Sex\"].count()\n",
    "        \n",
    "        print(\"Sexo %s tem %d-%d%% amostras com %d como número de irmãos/cônjugues\" % (gender[str(i)], \n",
    "                                                                                     count_sibs, \n",
    "                                                                                     (count_sibs/total)*100,\n",
    "                                                                                     j))\n",
    "        \n",
    "    print()"
   ]
  },
  {
   "cell_type": "markdown",
   "metadata": {},
   "source": [
    "A maioria dos sexos tem foco em 0 irmãos/cônjugues e logo de seguida em apenas 1.<br>\n",
    "A única diferença é que o sexo masculino tem um diferença maior entre 0 e 1 irmãos/cônjuges($\\approx 58\\%$), já o sexo feminino tem apenas, $\\approx 22\\%$."
   ]
  },
  {
   "cell_type": "markdown",
   "metadata": {},
   "source": [
    "## Sexo e Parch\n",
    "\n",
    "Relação entre sexo e número de pais/filhos"
   ]
  },
  {
   "cell_type": "code",
   "execution_count": 1761,
   "metadata": {},
   "outputs": [
    {
     "name": "stderr",
     "output_type": "stream",
     "text": [
      "c:\\users\\tigax\\appdata\\local\\programs\\python\\python37\\lib\\site-packages\\seaborn\\distributions.py:369: UserWarning: Default bandwidth for data is 0; skipping density estimation.\n",
      "  warnings.warn(msg, UserWarning)\n"
     ]
    },
    {
     "data": {
      "text/plain": [
       "<matplotlib.legend.Legend at 0x1cfde909748>"
      ]
     },
     "execution_count": 1761,
     "metadata": {},
     "output_type": "execute_result"
    },
    {
     "data": {
      "image/png": "[encoded data removed]",
      "text/plain": [
       "<Figure size 720x360 with 2 Axes>"
      ]
     },
     "metadata": {},
     "output_type": "display_data"
    }
   ],
   "source": [
    "fig, ax = plt.subplots(1, 2, figsize=(10,5))\n",
    "\n",
    "gender = {\"0\": \"masculino\", \"1\": \"feminino\"}\n",
    "colors = [\"slateblue\", \"lightcoral\"]\n",
    "\n",
    "for i in range(0,2):\n",
    "    sns.distplot(df_train[df_train[\"Sex\"]==i][\"Parch\"], ax=ax[i], label=gender[str(i)], color=colors[i])\n",
    "\n",
    "fig.legend()"
   ]
  },
  {
   "cell_type": "code",
   "execution_count": 1762,
   "metadata": {},
   "outputs": [
    {
     "name": "stdout",
     "output_type": "stream",
     "text": [
      "Sexo masculino tem 484-83% amostras com 0 como número de irmãos/cônjugues\n",
      "Sexo masculino tem 58-10% amostras com 1 como número de irmãos/cônjugues\n",
      "Sexo masculino tem 31-5% amostras com 2 como número de irmãos/cônjugues\n",
      "Sexo masculino tem 1-0% amostras com 3 como número de irmãos/cônjugues\n",
      "Sexo masculino tem 2-0% amostras com 4 como número de irmãos/cônjugues\n",
      "Sexo masculino tem 1-0% amostras com 5 como número de irmãos/cônjugues\n",
      "\n",
      "Sexo feminino tem 194-61% amostras com 0 como número de irmãos/cônjugues\n",
      "Sexo feminino tem 60-19% amostras com 1 como número de irmãos/cônjugues\n",
      "Sexo feminino tem 49-15% amostras com 2 como número de irmãos/cônjugues\n",
      "Sexo feminino tem 4-1% amostras com 3 como número de irmãos/cônjugues\n",
      "Sexo feminino tem 2-0% amostras com 4 como número de irmãos/cônjugues\n",
      "Sexo feminino tem 4-1% amostras com 5 como número de irmãos/cônjugues\n",
      "\n"
     ]
    }
   ],
   "source": [
    "for i in range(0,2):\n",
    "    # variável com o número total de amostras de um sexo\n",
    "    total = m_num if i == 0 else f_num\n",
    "    \n",
    "    for j in range(0,6):\n",
    "        count_sibs = df_train[(df_train[\"Sex\"]==i)&(df_train[\"Parch\"]==j)][\"Sex\"].count()\n",
    "        \n",
    "        print(\"Sexo %s tem %d-%d%% amostras com %d como número de irmãos/cônjugues\" % (gender[str(i)], \n",
    "                                                                                     count_sibs, \n",
    "                                                                                     (count_sibs/total)*100,\n",
    "                                                                                     j))\n",
    "        \n",
    "    print()"
   ]
  },
  {
   "cell_type": "markdown",
   "metadata": {},
   "source": [
    "Tivemos um comportamento idêntico ao *SibSp*, foco sempre em 0 e 1, mas o sexo feminino não tem tanta diferença como o sexo masculino tem."
   ]
  },
  {
   "cell_type": "markdown",
   "metadata": {},
   "source": [
    "## Sexo e Idades\n",
    "\n",
    "Relação entre o sexo e a idade"
   ]
  },
  {
   "cell_type": "code",
   "execution_count": 1763,
   "metadata": {},
   "outputs": [
    {
     "name": "stdout",
     "output_type": "stream",
     "text": [
      "Correlação -0.117\n"
     ]
    }
   ],
   "source": [
    "print(\"Correlação %.3f\" % df_train[\"Sex\"].corr(df_train[\"Age\"]))"
   ]
  },
  {
   "cell_type": "code",
   "execution_count": 1764,
   "metadata": {},
   "outputs": [
    {
     "data": {
      "text/plain": [
       "<matplotlib.axes._subplots.AxesSubplot at 0x1cfdea3db48>"
      ]
     },
     "execution_count": 1764,
     "metadata": {},
     "output_type": "execute_result"
    },
    {
     "data": {
      "image/png": "[encoded data removed]",
      "text/plain": [
       "<Figure size 432x288 with 1 Axes>"
      ]
     },
     "metadata": {},
     "output_type": "display_data"
    }
   ],
   "source": [
    "sns.boxplot(data=df_train, x=\"Sex\", y=\"Age\")"
   ]
  },
  {
   "cell_type": "code",
   "execution_count": 1765,
   "metadata": {},
   "outputs": [
    {
     "name": "stdout",
     "output_type": "stream",
     "text": [
      "Interquartis sexo masculino\n",
      "\n",
      "1º Quartil = 22.000\n",
      "2º Quartil = 28.000\n",
      "3º Quartil = 38.000\n",
      "\n",
      "Interquartis sexo feminino\n",
      "\n",
      "1º Quartil = 19.000\n",
      "2º Quartil = 25.000\n",
      "3º Quartil = 35.000\n",
      "\n"
     ]
    }
   ],
   "source": [
    "for i in range(0,2):\n",
    "    first_q = np.quantile( df_train[(df_train[\"Sex\"]==i)][\"Age\"].to_numpy(), 0.25)\n",
    "    median = np.quantile( df_train[(df_train[\"Sex\"]==i)][\"Age\"].to_numpy(), 0.5)\n",
    "    third_q = np.quantile( df_train[(df_train[\"Sex\"]==i)][\"Age\"].to_numpy(), 0.75)\n",
    "    print(\"Interquartis sexo %s\\n\" % gender[str(i)])\n",
    "    print(\"1º Quartil = %.3f\" % first_q)\n",
    "    print(\"2º Quartil = %.3f\" % median)\n",
    "    print(\"3º Quartil = %.3f\" % third_q)\n",
    "    print()"
   ]
  },
  {
   "cell_type": "markdown",
   "metadata": {},
   "source": [
    "Observando os boxplots podemos verificar que a maior concentração de amostras está nos interquartis, mais especificamente entre o 1º e o 2º(mediana)<br>\n",
    "Podemos confirmar que as idades, com maior concentração, do sexo feminino são ligeiramente inferiores às do sexo masculino.<br><br>\n",
    "A correlação mostrou que estas não têm grande dependência."
   ]
  },
  {
   "cell_type": "code",
   "execution_count": 1766,
   "metadata": {},
   "outputs": [
    {
     "name": "stdout",
     "output_type": "stream",
     "text": [
      "<class 'pandas.core.frame.DataFrame'>\n",
      "RangeIndex: 891 entries, 0 to 890\n",
      "Data columns (total 12 columns):\n",
      " #   Column       Non-Null Count  Dtype  \n",
      "---  ------       --------------  -----  \n",
      " 0   PassengerId  891 non-null    int64  \n",
      " 1   Survived     891 non-null    int64  \n",
      " 2   Pclass       891 non-null    int64  \n",
      " 3   Name         891 non-null    object \n",
      " 4   Sex          891 non-null    int64  \n",
      " 5   Age          891 non-null    int32  \n",
      " 6   SibSp        891 non-null    int64  \n",
      " 7   Parch        891 non-null    int64  \n",
      " 8   Ticket       891 non-null    object \n",
      " 9   Fare         891 non-null    float64\n",
      " 10  Cabin        204 non-null    object \n",
      " 11  Embarked     889 non-null    object \n",
      "dtypes: float64(1), int32(1), int64(6), object(4)\n",
      "memory usage: 80.2+ KB\n"
     ]
    }
   ],
   "source": [
    "df_train.info()"
   ]
  },
  {
   "cell_type": "markdown",
   "metadata": {},
   "source": [
    "## Sexo e Preço do bilhete\n",
    "\n",
    "O quanto o sexo da amostra influência no preço do bilhete. "
   ]
  },
  {
   "cell_type": "code",
   "execution_count": 1767,
   "metadata": {},
   "outputs": [
    {
     "name": "stdout",
     "output_type": "stream",
     "text": [
      "Média do bilhete para o sexo masculino = 25.524\n",
      "Mediana do bilhete para o sexo masculino = 10.500\n",
      "Moda do bilhete para o sexo masculino = 8.050\n",
      "\n",
      "\n",
      "Média do bilhete para o sexo feminino = 44.480\n",
      "Mediana do bilhete para o sexo feminino = 23.000\n",
      "Moda do bilhete para o sexo feminino = 7.750\n",
      "\n",
      "\n"
     ]
    }
   ],
   "source": [
    "# Calcular média, moda e mediana para cada sexo\n",
    "for i in range(2):\n",
    "    print(\"Média do bilhete para o sexo %s = %.3f\" %(gender[str(i)], df_train[df_train[\"Sex\"]==i][\"Fare\"].mean()))\n",
    "    print(\"Mediana do bilhete para o sexo %s = %.3f\" %(gender[str(i)], df_train[df_train[\"Sex\"]==i][\"Fare\"].median()))\n",
    "    print(\"Moda do bilhete para o sexo %s = %.3f\" %(gender[str(i)], df_train[df_train[\"Sex\"]==i][\"Fare\"].mode()))\n",
    "    print(\"\\n\")"
   ]
  },
  {
   "cell_type": "markdown",
   "metadata": {},
   "source": [
    "A moda de ambos é bem próxima, contudo as médias estão altas e fogem da mediana, principlamente a do sexo feminino. Podemos ter alguns outliers a influenciar"
   ]
  },
  {
   "cell_type": "code",
   "execution_count": 1768,
   "metadata": {},
   "outputs": [
    {
     "data": {
      "text/plain": [
       "<matplotlib.axes._subplots.AxesSubplot at 0x1cfdea06048>"
      ]
     },
     "execution_count": 1768,
     "metadata": {},
     "output_type": "execute_result"
    },
    {
     "data": {
      "image/png": "[encoded data removed]",
      "text/plain": [
       "<Figure size 432x288 with 1 Axes>"
      ]
     },
     "metadata": {},
     "output_type": "display_data"
    }
   ],
   "source": [
    "sns.boxplot(df_train[\"Sex\"], df_train[\"Fare\"])"
   ]
  },
  {
   "cell_type": "code",
   "execution_count": 1769,
   "metadata": {},
   "outputs": [
    {
     "data": {
      "text/html": [
       "<div>\n",
       "<style scoped>\n",
       "    .dataframe tbody tr th:only-of-type {\n",
       "        vertical-align: middle;\n",
       "    }\n",
       "\n",
       "    .dataframe tbody tr th {\n",
       "        vertical-align: top;\n",
       "    }\n",
       "\n",
       "    .dataframe thead th {\n",
       "        text-align: right;\n",
       "    }\n",
       "</style>\n",
       "<table border=\"1\" class=\"dataframe\">\n",
       "  <thead>\n",
       "    <tr style=\"text-align: right;\">\n",
       "      <th></th>\n",
       "      <th>PassengerId</th>\n",
       "      <th>Survived</th>\n",
       "      <th>Pclass</th>\n",
       "      <th>Name</th>\n",
       "      <th>Sex</th>\n",
       "      <th>Age</th>\n",
       "      <th>SibSp</th>\n",
       "      <th>Parch</th>\n",
       "      <th>Ticket</th>\n",
       "      <th>Fare</th>\n",
       "      <th>Cabin</th>\n",
       "      <th>Embarked</th>\n",
       "    </tr>\n",
       "  </thead>\n",
       "  <tbody>\n",
       "    <tr>\n",
       "      <th>258</th>\n",
       "      <td>259</td>\n",
       "      <td>1</td>\n",
       "      <td>1</td>\n",
       "      <td>Ward, Miss. Anna</td>\n",
       "      <td>1</td>\n",
       "      <td>35</td>\n",
       "      <td>0</td>\n",
       "      <td>0</td>\n",
       "      <td>PC 17755</td>\n",
       "      <td>512.3292</td>\n",
       "      <td>NaN</td>\n",
       "      <td>C</td>\n",
       "    </tr>\n",
       "    <tr>\n",
       "      <th>679</th>\n",
       "      <td>680</td>\n",
       "      <td>1</td>\n",
       "      <td>1</td>\n",
       "      <td>Cardeza, Mr. Thomas Drake Martinez</td>\n",
       "      <td>0</td>\n",
       "      <td>36</td>\n",
       "      <td>0</td>\n",
       "      <td>1</td>\n",
       "      <td>PC 17755</td>\n",
       "      <td>512.3292</td>\n",
       "      <td>B51 B53 B55</td>\n",
       "      <td>C</td>\n",
       "    </tr>\n",
       "    <tr>\n",
       "      <th>737</th>\n",
       "      <td>738</td>\n",
       "      <td>1</td>\n",
       "      <td>1</td>\n",
       "      <td>Lesurer, Mr. Gustave J</td>\n",
       "      <td>0</td>\n",
       "      <td>35</td>\n",
       "      <td>0</td>\n",
       "      <td>0</td>\n",
       "      <td>PC 17755</td>\n",
       "      <td>512.3292</td>\n",
       "      <td>B101</td>\n",
       "      <td>C</td>\n",
       "    </tr>\n",
       "  </tbody>\n",
       "</table>\n",
       "</div>"
      ],
      "text/plain": [
       "     PassengerId  Survived  Pclass                                Name  Sex  \\\n",
       "258          259         1       1                    Ward, Miss. Anna    1   \n",
       "679          680         1       1  Cardeza, Mr. Thomas Drake Martinez    0   \n",
       "737          738         1       1              Lesurer, Mr. Gustave J    0   \n",
       "\n",
       "     Age  SibSp  Parch    Ticket      Fare        Cabin Embarked  \n",
       "258   35      0      0  PC 17755  512.3292          NaN        C  \n",
       "679   36      0      1  PC 17755  512.3292  B51 B53 B55        C  \n",
       "737   35      0      0  PC 17755  512.3292         B101        C  "
      ]
     },
     "execution_count": 1769,
     "metadata": {},
     "output_type": "execute_result"
    }
   ],
   "source": [
    "# Verificar as amostras com preços superiores a 500$\n",
    "df_train[df_train[\"Fare\"] > 500]"
   ]
  },
  {
   "cell_type": "code",
   "execution_count": 1770,
   "metadata": {},
   "outputs": [
    {
     "data": {
      "text/plain": [
       "259    1\n",
       "738    1\n",
       "680    1\n",
       "Name: PassengerId, dtype: int64"
      ]
     },
     "execution_count": 1770,
     "metadata": {},
     "output_type": "execute_result"
    }
   ],
   "source": [
    "df_train[(df_train[\"Pclass\"]==1)&(df_train[\"Ticket\"]==\"PC 17755\")][\"PassengerId\"].value_counts()"
   ]
  },
  {
   "cell_type": "markdown",
   "metadata": {},
   "source": [
    "Que interessante ... As pessoas que pagam 500 de bilhete, vão sozinhas, têm o mesmo bilhete e pagam exatamente 512.3292. Parecem-me outliers"
   ]
  },
  {
   "cell_type": "code",
   "execution_count": 1771,
   "metadata": {},
   "outputs": [],
   "source": [
    "# Índices das amostras a dropar\n",
    "index_drop = df_train[(df_train[\"Pclass\"]==1)&(df_train[\"Ticket\"]==\"PC 17755\")][\"PassengerId\"].index.to_list()\n",
    "\n",
    "df_train.drop(index=index_drop, axis=0, inplace=True)"
   ]
  },
  {
   "cell_type": "code",
   "execution_count": 1772,
   "metadata": {},
   "outputs": [
    {
     "data": {
      "text/plain": [
       "<matplotlib.axes._subplots.AxesSubplot at 0x1cfdfaef0c8>"
      ]
     },
     "execution_count": 1772,
     "metadata": {},
     "output_type": "execute_result"
    },
    {
     "data": {
      "image/png": "[encoded data removed]",
      "text/plain": [
       "<Figure size 432x288 with 1 Axes>"
      ]
     },
     "metadata": {},
     "output_type": "display_data"
    }
   ],
   "source": [
    "sns.boxplot(df_train[\"Sex\"], df_train[\"Fare\"])"
   ]
  },
  {
   "cell_type": "code",
   "execution_count": 1773,
   "metadata": {},
   "outputs": [
    {
     "data": {
      "text/html": [
       "<div>\n",
       "<style scoped>\n",
       "    .dataframe tbody tr th:only-of-type {\n",
       "        vertical-align: middle;\n",
       "    }\n",
       "\n",
       "    .dataframe tbody tr th {\n",
       "        vertical-align: top;\n",
       "    }\n",
       "\n",
       "    .dataframe thead th {\n",
       "        text-align: right;\n",
       "    }\n",
       "</style>\n",
       "<table border=\"1\" class=\"dataframe\">\n",
       "  <thead>\n",
       "    <tr style=\"text-align: right;\">\n",
       "      <th></th>\n",
       "      <th>PassengerId</th>\n",
       "      <th>Survived</th>\n",
       "      <th>Pclass</th>\n",
       "      <th>Name</th>\n",
       "      <th>Sex</th>\n",
       "      <th>Age</th>\n",
       "      <th>SibSp</th>\n",
       "      <th>Parch</th>\n",
       "      <th>Ticket</th>\n",
       "      <th>Fare</th>\n",
       "      <th>Cabin</th>\n",
       "      <th>Embarked</th>\n",
       "    </tr>\n",
       "  </thead>\n",
       "  <tbody>\n",
       "    <tr>\n",
       "      <th>27</th>\n",
       "      <td>28</td>\n",
       "      <td>0</td>\n",
       "      <td>1</td>\n",
       "      <td>Fortune, Mr. Charles Alexander</td>\n",
       "      <td>0</td>\n",
       "      <td>19</td>\n",
       "      <td>3</td>\n",
       "      <td>2</td>\n",
       "      <td>19950</td>\n",
       "      <td>263.0000</td>\n",
       "      <td>C23 C25 C27</td>\n",
       "      <td>S</td>\n",
       "    </tr>\n",
       "    <tr>\n",
       "      <th>88</th>\n",
       "      <td>89</td>\n",
       "      <td>1</td>\n",
       "      <td>1</td>\n",
       "      <td>Fortune, Miss. Mabel Helen</td>\n",
       "      <td>1</td>\n",
       "      <td>23</td>\n",
       "      <td>3</td>\n",
       "      <td>2</td>\n",
       "      <td>19950</td>\n",
       "      <td>263.0000</td>\n",
       "      <td>C23 C25 C27</td>\n",
       "      <td>S</td>\n",
       "    </tr>\n",
       "    <tr>\n",
       "      <th>118</th>\n",
       "      <td>119</td>\n",
       "      <td>0</td>\n",
       "      <td>1</td>\n",
       "      <td>Baxter, Mr. Quigg Edmond</td>\n",
       "      <td>0</td>\n",
       "      <td>24</td>\n",
       "      <td>0</td>\n",
       "      <td>1</td>\n",
       "      <td>PC 17558</td>\n",
       "      <td>247.5208</td>\n",
       "      <td>B58 B60</td>\n",
       "      <td>C</td>\n",
       "    </tr>\n",
       "    <tr>\n",
       "      <th>299</th>\n",
       "      <td>300</td>\n",
       "      <td>1</td>\n",
       "      <td>1</td>\n",
       "      <td>Baxter, Mrs. James (Helene DeLaudeniere Chaput)</td>\n",
       "      <td>1</td>\n",
       "      <td>50</td>\n",
       "      <td>0</td>\n",
       "      <td>1</td>\n",
       "      <td>PC 17558</td>\n",
       "      <td>247.5208</td>\n",
       "      <td>B58 B60</td>\n",
       "      <td>C</td>\n",
       "    </tr>\n",
       "    <tr>\n",
       "      <th>311</th>\n",
       "      <td>312</td>\n",
       "      <td>1</td>\n",
       "      <td>1</td>\n",
       "      <td>Ryerson, Miss. Emily Borie</td>\n",
       "      <td>1</td>\n",
       "      <td>18</td>\n",
       "      <td>2</td>\n",
       "      <td>2</td>\n",
       "      <td>PC 17608</td>\n",
       "      <td>262.3750</td>\n",
       "      <td>B57 B59 B63 B66</td>\n",
       "      <td>C</td>\n",
       "    </tr>\n",
       "    <tr>\n",
       "      <th>341</th>\n",
       "      <td>342</td>\n",
       "      <td>1</td>\n",
       "      <td>1</td>\n",
       "      <td>Fortune, Miss. Alice Elizabeth</td>\n",
       "      <td>1</td>\n",
       "      <td>24</td>\n",
       "      <td>3</td>\n",
       "      <td>2</td>\n",
       "      <td>19950</td>\n",
       "      <td>263.0000</td>\n",
       "      <td>C23 C25 C27</td>\n",
       "      <td>S</td>\n",
       "    </tr>\n",
       "    <tr>\n",
       "      <th>377</th>\n",
       "      <td>378</td>\n",
       "      <td>0</td>\n",
       "      <td>1</td>\n",
       "      <td>Widener, Mr. Harry Elkins</td>\n",
       "      <td>0</td>\n",
       "      <td>27</td>\n",
       "      <td>0</td>\n",
       "      <td>2</td>\n",
       "      <td>113503</td>\n",
       "      <td>211.5000</td>\n",
       "      <td>C82</td>\n",
       "      <td>C</td>\n",
       "    </tr>\n",
       "    <tr>\n",
       "      <th>380</th>\n",
       "      <td>381</td>\n",
       "      <td>1</td>\n",
       "      <td>1</td>\n",
       "      <td>Bidois, Miss. Rosalie</td>\n",
       "      <td>1</td>\n",
       "      <td>42</td>\n",
       "      <td>0</td>\n",
       "      <td>0</td>\n",
       "      <td>PC 17757</td>\n",
       "      <td>227.5250</td>\n",
       "      <td>NaN</td>\n",
       "      <td>C</td>\n",
       "    </tr>\n",
       "    <tr>\n",
       "      <th>438</th>\n",
       "      <td>439</td>\n",
       "      <td>0</td>\n",
       "      <td>1</td>\n",
       "      <td>Fortune, Mr. Mark</td>\n",
       "      <td>0</td>\n",
       "      <td>64</td>\n",
       "      <td>1</td>\n",
       "      <td>4</td>\n",
       "      <td>19950</td>\n",
       "      <td>263.0000</td>\n",
       "      <td>C23 C25 C27</td>\n",
       "      <td>S</td>\n",
       "    </tr>\n",
       "    <tr>\n",
       "      <th>527</th>\n",
       "      <td>528</td>\n",
       "      <td>0</td>\n",
       "      <td>1</td>\n",
       "      <td>Farthing, Mr. John</td>\n",
       "      <td>0</td>\n",
       "      <td>33</td>\n",
       "      <td>0</td>\n",
       "      <td>0</td>\n",
       "      <td>PC 17483</td>\n",
       "      <td>221.7792</td>\n",
       "      <td>C95</td>\n",
       "      <td>S</td>\n",
       "    </tr>\n",
       "    <tr>\n",
       "      <th>557</th>\n",
       "      <td>558</td>\n",
       "      <td>0</td>\n",
       "      <td>1</td>\n",
       "      <td>Robbins, Mr. Victor</td>\n",
       "      <td>0</td>\n",
       "      <td>33</td>\n",
       "      <td>0</td>\n",
       "      <td>0</td>\n",
       "      <td>PC 17757</td>\n",
       "      <td>227.5250</td>\n",
       "      <td>NaN</td>\n",
       "      <td>C</td>\n",
       "    </tr>\n",
       "    <tr>\n",
       "      <th>689</th>\n",
       "      <td>690</td>\n",
       "      <td>1</td>\n",
       "      <td>1</td>\n",
       "      <td>Madill, Miss. Georgette Alexandra</td>\n",
       "      <td>1</td>\n",
       "      <td>15</td>\n",
       "      <td>0</td>\n",
       "      <td>1</td>\n",
       "      <td>24160</td>\n",
       "      <td>211.3375</td>\n",
       "      <td>B5</td>\n",
       "      <td>S</td>\n",
       "    </tr>\n",
       "    <tr>\n",
       "      <th>700</th>\n",
       "      <td>701</td>\n",
       "      <td>1</td>\n",
       "      <td>1</td>\n",
       "      <td>Astor, Mrs. John Jacob (Madeleine Talmadge Force)</td>\n",
       "      <td>1</td>\n",
       "      <td>18</td>\n",
       "      <td>1</td>\n",
       "      <td>0</td>\n",
       "      <td>PC 17757</td>\n",
       "      <td>227.5250</td>\n",
       "      <td>C62 C64</td>\n",
       "      <td>C</td>\n",
       "    </tr>\n",
       "    <tr>\n",
       "      <th>716</th>\n",
       "      <td>717</td>\n",
       "      <td>1</td>\n",
       "      <td>1</td>\n",
       "      <td>Endres, Miss. Caroline Louise</td>\n",
       "      <td>1</td>\n",
       "      <td>38</td>\n",
       "      <td>0</td>\n",
       "      <td>0</td>\n",
       "      <td>PC 17757</td>\n",
       "      <td>227.5250</td>\n",
       "      <td>C45</td>\n",
       "      <td>C</td>\n",
       "    </tr>\n",
       "    <tr>\n",
       "      <th>730</th>\n",
       "      <td>731</td>\n",
       "      <td>1</td>\n",
       "      <td>1</td>\n",
       "      <td>Allen, Miss. Elisabeth Walton</td>\n",
       "      <td>1</td>\n",
       "      <td>29</td>\n",
       "      <td>0</td>\n",
       "      <td>0</td>\n",
       "      <td>24160</td>\n",
       "      <td>211.3375</td>\n",
       "      <td>B5</td>\n",
       "      <td>S</td>\n",
       "    </tr>\n",
       "    <tr>\n",
       "      <th>742</th>\n",
       "      <td>743</td>\n",
       "      <td>1</td>\n",
       "      <td>1</td>\n",
       "      <td>Ryerson, Miss. Susan Parker \"Suzette\"</td>\n",
       "      <td>1</td>\n",
       "      <td>21</td>\n",
       "      <td>2</td>\n",
       "      <td>2</td>\n",
       "      <td>PC 17608</td>\n",
       "      <td>262.3750</td>\n",
       "      <td>B57 B59 B63 B66</td>\n",
       "      <td>C</td>\n",
       "    </tr>\n",
       "    <tr>\n",
       "      <th>779</th>\n",
       "      <td>780</td>\n",
       "      <td>1</td>\n",
       "      <td>1</td>\n",
       "      <td>Robert, Mrs. Edward Scott (Elisabeth Walton Mc...</td>\n",
       "      <td>1</td>\n",
       "      <td>43</td>\n",
       "      <td>0</td>\n",
       "      <td>1</td>\n",
       "      <td>24160</td>\n",
       "      <td>211.3375</td>\n",
       "      <td>B3</td>\n",
       "      <td>S</td>\n",
       "    </tr>\n",
       "  </tbody>\n",
       "</table>\n",
       "</div>"
      ],
      "text/plain": [
       "     PassengerId  Survived  Pclass  \\\n",
       "27            28         0       1   \n",
       "88            89         1       1   \n",
       "118          119         0       1   \n",
       "299          300         1       1   \n",
       "311          312         1       1   \n",
       "341          342         1       1   \n",
       "377          378         0       1   \n",
       "380          381         1       1   \n",
       "438          439         0       1   \n",
       "527          528         0       1   \n",
       "557          558         0       1   \n",
       "689          690         1       1   \n",
       "700          701         1       1   \n",
       "716          717         1       1   \n",
       "730          731         1       1   \n",
       "742          743         1       1   \n",
       "779          780         1       1   \n",
       "\n",
       "                                                  Name  Sex  Age  SibSp  \\\n",
       "27                      Fortune, Mr. Charles Alexander    0   19      3   \n",
       "88                          Fortune, Miss. Mabel Helen    1   23      3   \n",
       "118                           Baxter, Mr. Quigg Edmond    0   24      0   \n",
       "299    Baxter, Mrs. James (Helene DeLaudeniere Chaput)    1   50      0   \n",
       "311                         Ryerson, Miss. Emily Borie    1   18      2   \n",
       "341                     Fortune, Miss. Alice Elizabeth    1   24      3   \n",
       "377                          Widener, Mr. Harry Elkins    0   27      0   \n",
       "380                              Bidois, Miss. Rosalie    1   42      0   \n",
       "438                                  Fortune, Mr. Mark    0   64      1   \n",
       "527                                 Farthing, Mr. John    0   33      0   \n",
       "557                                Robbins, Mr. Victor    0   33      0   \n",
       "689                  Madill, Miss. Georgette Alexandra    1   15      0   \n",
       "700  Astor, Mrs. John Jacob (Madeleine Talmadge Force)    1   18      1   \n",
       "716                      Endres, Miss. Caroline Louise    1   38      0   \n",
       "730                      Allen, Miss. Elisabeth Walton    1   29      0   \n",
       "742              Ryerson, Miss. Susan Parker \"Suzette\"    1   21      2   \n",
       "779  Robert, Mrs. Edward Scott (Elisabeth Walton Mc...    1   43      0   \n",
       "\n",
       "     Parch    Ticket      Fare            Cabin Embarked  \n",
       "27       2     19950  263.0000      C23 C25 C27        S  \n",
       "88       2     19950  263.0000      C23 C25 C27        S  \n",
       "118      1  PC 17558  247.5208          B58 B60        C  \n",
       "299      1  PC 17558  247.5208          B58 B60        C  \n",
       "311      2  PC 17608  262.3750  B57 B59 B63 B66        C  \n",
       "341      2     19950  263.0000      C23 C25 C27        S  \n",
       "377      2    113503  211.5000              C82        C  \n",
       "380      0  PC 17757  227.5250              NaN        C  \n",
       "438      4     19950  263.0000      C23 C25 C27        S  \n",
       "527      0  PC 17483  221.7792              C95        S  \n",
       "557      0  PC 17757  227.5250              NaN        C  \n",
       "689      1     24160  211.3375               B5        S  \n",
       "700      0  PC 17757  227.5250          C62 C64        C  \n",
       "716      0  PC 17757  227.5250              C45        C  \n",
       "730      0     24160  211.3375               B5        S  \n",
       "742      2  PC 17608  262.3750  B57 B59 B63 B66        C  \n",
       "779      1     24160  211.3375               B3        S  "
      ]
     },
     "execution_count": 1773,
     "metadata": {},
     "output_type": "execute_result"
    }
   ],
   "source": [
    "df_train[df_train[\"Fare\"]>=200]"
   ]
  },
  {
   "cell_type": "code",
   "execution_count": 1774,
   "metadata": {},
   "outputs": [
    {
     "data": {
      "text/plain": [
       "{'19950': 4,\n",
       " 'PC 17558': 2,\n",
       " 'PC 17608': 2,\n",
       " '113503': 1,\n",
       " 'PC 17757': 4,\n",
       " 'PC 17483': 1,\n",
       " '24160': 3}"
      ]
     },
     "execution_count": 1774,
     "metadata": {},
     "output_type": "execute_result"
    }
   ],
   "source": [
    "tickets_list = df_train[df_train[\"Fare\"]>=200][\"Ticket\"].to_list()\n",
    "\n",
    "tickets = {}\n",
    "\n",
    "for i in tickets_list:\n",
    "    if i in tickets.keys():\n",
    "        tickets[i] += 1\n",
    "    else:\n",
    "        tickets[i] = 1\n",
    "\n",
    "tickets"
   ]
  },
  {
   "cell_type": "markdown",
   "metadata": {},
   "source": [
    "Os tickets que têm mais que 1 SibSp e/ou Parch, podem até fazer algum sentido já que cada acompanhante terá o mesmo bilhete.<br>\n",
    "Aqueles que têm apenas 1 bilhete, não faz sentido pagar 200 por ele"
   ]
  },
  {
   "cell_type": "code",
   "execution_count": 1775,
   "metadata": {},
   "outputs": [
    {
     "data": {
      "text/html": [
       "<div>\n",
       "<style scoped>\n",
       "    .dataframe tbody tr th:only-of-type {\n",
       "        vertical-align: middle;\n",
       "    }\n",
       "\n",
       "    .dataframe tbody tr th {\n",
       "        vertical-align: top;\n",
       "    }\n",
       "\n",
       "    .dataframe thead th {\n",
       "        text-align: right;\n",
       "    }\n",
       "</style>\n",
       "<table border=\"1\" class=\"dataframe\">\n",
       "  <thead>\n",
       "    <tr style=\"text-align: right;\">\n",
       "      <th></th>\n",
       "      <th>PassengerId</th>\n",
       "      <th>Survived</th>\n",
       "      <th>Pclass</th>\n",
       "      <th>Name</th>\n",
       "      <th>Sex</th>\n",
       "      <th>Age</th>\n",
       "      <th>SibSp</th>\n",
       "      <th>Parch</th>\n",
       "      <th>Ticket</th>\n",
       "      <th>Fare</th>\n",
       "      <th>Cabin</th>\n",
       "      <th>Embarked</th>\n",
       "    </tr>\n",
       "  </thead>\n",
       "  <tbody>\n",
       "    <tr>\n",
       "      <th>377</th>\n",
       "      <td>378</td>\n",
       "      <td>0</td>\n",
       "      <td>1</td>\n",
       "      <td>Widener, Mr. Harry Elkins</td>\n",
       "      <td>0</td>\n",
       "      <td>27</td>\n",
       "      <td>0</td>\n",
       "      <td>2</td>\n",
       "      <td>113503</td>\n",
       "      <td>211.5000</td>\n",
       "      <td>C82</td>\n",
       "      <td>C</td>\n",
       "    </tr>\n",
       "    <tr>\n",
       "      <th>527</th>\n",
       "      <td>528</td>\n",
       "      <td>0</td>\n",
       "      <td>1</td>\n",
       "      <td>Farthing, Mr. John</td>\n",
       "      <td>0</td>\n",
       "      <td>33</td>\n",
       "      <td>0</td>\n",
       "      <td>0</td>\n",
       "      <td>PC 17483</td>\n",
       "      <td>221.7792</td>\n",
       "      <td>C95</td>\n",
       "      <td>S</td>\n",
       "    </tr>\n",
       "  </tbody>\n",
       "</table>\n",
       "</div>"
      ],
      "text/plain": [
       "     PassengerId  Survived  Pclass                       Name  Sex  Age  \\\n",
       "377          378         0       1  Widener, Mr. Harry Elkins    0   27   \n",
       "527          528         0       1         Farthing, Mr. John    0   33   \n",
       "\n",
       "     SibSp  Parch    Ticket      Fare Cabin Embarked  \n",
       "377      0      2    113503  211.5000   C82        C  \n",
       "527      0      0  PC 17483  221.7792   C95        S  "
      ]
     },
     "execution_count": 1775,
     "metadata": {},
     "output_type": "execute_result"
    }
   ],
   "source": [
    "df_train[(df_train[\"Ticket\"]==\"113503\")|(df_train[\"Ticket\"]==\"PC 17483\")]"
   ]
  },
  {
   "cell_type": "markdown",
   "metadata": {},
   "source": [
    "O Ticket *113503* diz que tem 1 Parch, contudo mais ninguém tem esse ticket!<br>\n",
    "Ambos pagam acima de 210 de bilhete (o que me parece muito alto, mesmo para 1ª classe), portanto vamos observar a média, mediana e moda de preços da 1ª classe"
   ]
  },
  {
   "cell_type": "markdown",
   "metadata": {},
   "source": [
    "Temos uma média de $\\approx 78$, uma mediana $\\approx 57$ e por fim uma moda de $\\approx 27$.<br>\n",
    "\n",
    "Isto para todos da 1ª classe, ambas as amostras vão praticamente sozinhas, vamos filtrar tbm os SibSp e Parch para valores <= 1"
   ]
  },
  {
   "cell_type": "markdown",
   "metadata": {},
   "source": [
    "A moda mantém-se, já a média baixo para $\\approx 67$ e a mediana para $\\approx 55$<br><br>\n",
    "Vou remover ambas as amostras por parecerem outliers"
   ]
  },
  {
   "cell_type": "code",
   "execution_count": 1776,
   "metadata": {},
   "outputs": [],
   "source": [
    "# Dropar as 2 amostras\n",
    "df_train.drop(index=[377, 527], axis=0, inplace=True)"
   ]
  },
  {
   "cell_type": "code",
   "execution_count": 1777,
   "metadata": {},
   "outputs": [
    {
     "data": {
      "text/plain": [
       "<matplotlib.axes._subplots.AxesSubplot at 0x1cfdfb82348>"
      ]
     },
     "execution_count": 1777,
     "metadata": {},
     "output_type": "execute_result"
    },
    {
     "data": {
      "image/png": "[encoded data removed]",
      "text/plain": [
       "<Figure size 432x288 with 1 Axes>"
      ]
     },
     "metadata": {},
     "output_type": "display_data"
    }
   ],
   "source": [
    "sns.boxplot(df_train[\"Sex\"], df_train[\"Fare\"])"
   ]
  },
  {
   "cell_type": "markdown",
   "metadata": {},
   "source": [
    "Vou deixar uma análise mais detalhada dos preços quando falar da coluna preços"
   ]
  },
  {
   "cell_type": "code",
   "execution_count": 1778,
   "metadata": {},
   "outputs": [
    {
     "data": {
      "text/plain": [
       "0.26536537527426507"
      ]
     },
     "execution_count": 1778,
     "metadata": {},
     "output_type": "execute_result"
    }
   ],
   "source": [
    "df_train[\"Sex\"].corr(df_train[\"Fare\"], method=\"spearman\")"
   ]
  },
  {
   "cell_type": "markdown",
   "metadata": {},
   "source": [
    "Ou seja, sexo maior (no caso feminino porque é 1) maior o preço, o que bate certo com a estatística descritiva acima."
   ]
  },
  {
   "cell_type": "markdown",
   "metadata": {},
   "source": [
    "## Sexo e Preço do bilhete"
   ]
  },
  {
   "cell_type": "code",
   "execution_count": 1779,
   "metadata": {},
   "outputs": [
    {
     "name": "stdout",
     "output_type": "stream",
     "text": [
      "<class 'pandas.core.frame.DataFrame'>\n",
      "Int64Index: 886 entries, 0 to 890\n",
      "Data columns (total 12 columns):\n",
      " #   Column       Non-Null Count  Dtype  \n",
      "---  ------       --------------  -----  \n",
      " 0   PassengerId  886 non-null    int64  \n",
      " 1   Survived     886 non-null    int64  \n",
      " 2   Pclass       886 non-null    int64  \n",
      " 3   Name         886 non-null    object \n",
      " 4   Sex          886 non-null    int64  \n",
      " 5   Age          886 non-null    int32  \n",
      " 6   SibSp        886 non-null    int64  \n",
      " 7   Parch        886 non-null    int64  \n",
      " 8   Ticket       886 non-null    object \n",
      " 9   Fare         886 non-null    float64\n",
      " 10  Cabin        200 non-null    object \n",
      " 11  Embarked     884 non-null    object \n",
      "dtypes: float64(1), int32(1), int64(6), object(4)\n",
      "memory usage: 126.5+ KB\n"
     ]
    }
   ],
   "source": [
    "df_train.info()"
   ]
  },
  {
   "cell_type": "markdown",
   "metadata": {},
   "source": [
    "## Pclass e Preço do Bilhete\n",
    "\n",
    "Apesar de já ter estudado a variável *Pclass*, não cheguei a estudar a relação dela com o preço do bilhete"
   ]
  },
  {
   "cell_type": "code",
   "execution_count": 1780,
   "metadata": {},
   "outputs": [
    {
     "data": {
      "text/plain": [
       "<matplotlib.legend.Legend at 0x1cfdfc06e08>"
      ]
     },
     "execution_count": 1780,
     "metadata": {},
     "output_type": "execute_result"
    },
    {
     "data": {
      "image/png": "[encoded data removed]",
      "text/plain": [
       "<Figure size 720x432 with 3 Axes>"
      ]
     },
     "metadata": {},
     "output_type": "display_data"
    }
   ],
   "source": [
    "fig, ax = plt.subplots(1, 3, figsize=(10,6))\n",
    "\n",
    "colors = [\"teal\", \"lightcoral\", \"royalblue\"]\n",
    "\n",
    "for i in range(3):\n",
    "    sns.distplot(df_train[df_train[\"Pclass\"]==i+1][\"Fare\"], \n",
    "                 ax=ax[i], \n",
    "                 label=\"Classe {}\".format(i+1),\n",
    "                color=colors[i])\n",
    "\n",
    "fig.legend()"
   ]
  },
  {
   "cell_type": "markdown",
   "metadata": {},
   "source": [
    "Pelo gráfico podemos ver algo que parecem outliers, no entanto pelas análises acima, são apenas bilhetes familiares que não parece ser outliers"
   ]
  },
  {
   "cell_type": "code",
   "execution_count": 1781,
   "metadata": {},
   "outputs": [
    {
     "name": "stdout",
     "output_type": "stream",
     "text": [
      "Média de preços para a 1ª classe = 76.811\n",
      "Mediana de preços para a 1ª classe = 57.979\n",
      "Moda de preços para a 1ª classe = 26.550\n",
      "\n",
      "Média de preços para a 2ª classe = 20.662\n",
      "Mediana de preços para a 2ª classe = 14.250\n",
      "Moda de preços para a 2ª classe = 13.000\n",
      "\n",
      "Média de preços para a 3ª classe = 13.676\n",
      "Mediana de preços para a 3ª classe = 8.050\n",
      "Moda de preços para a 3ª classe = 8.050\n",
      "\n"
     ]
    }
   ],
   "source": [
    "for i in range(3):\n",
    "    print(\"Média de preços para a %dª classe = %.3f\" % (i+1, df_train[df_train[\"Pclass\"]==i+1][\"Fare\"].mean()))\n",
    "    print(\"Mediana de preços para a %dª classe = %.3f\" % (i+1, df_train[df_train[\"Pclass\"]==i+1][\"Fare\"].median()))\n",
    "    print(\"Moda de preços para a %dª classe = %.3f\" % (i+1, df_train[df_train[\"Pclass\"]==i+1][\"Fare\"].mode()))\n",
    "    print()"
   ]
  },
  {
   "cell_type": "markdown",
   "metadata": {},
   "source": [
    "As médias, medianas e modas de preços por classe aparentam ser bem distribuidas. Obviamente quanto maior a classe, mais elevado o preço do bilhete"
   ]
  },
  {
   "cell_type": "code",
   "execution_count": 1782,
   "metadata": {},
   "outputs": [
    {
     "data": {
      "text/plain": [
       "<matplotlib.axes._subplots.AxesSubplot at 0x1cfdff05d88>"
      ]
     },
     "execution_count": 1782,
     "metadata": {},
     "output_type": "execute_result"
    },
    {
     "data": {
      "image/png": "[encoded data removed]",
      "text/plain": [
       "<Figure size 720x360 with 1 Axes>"
      ]
     },
     "metadata": {},
     "output_type": "display_data"
    }
   ],
   "source": [
    "plt.figure(figsize=(10,5))\n",
    "sns.boxplot(df_train[\"Pclass\"], df_train[\"Fare\"])"
   ]
  },
  {
   "cell_type": "markdown",
   "metadata": {},
   "source": [
    "Os preços fora da distribuição, como já tinha dito anteriormente, são de de bilhetes familiares. E podemos observar que há muito mais na 3ª classe."
   ]
  },
  {
   "cell_type": "markdown",
   "metadata": {},
   "source": [
    "## Conclusão\n",
    "\n",
    "Talvez devesse estudar melhor as variáveis, mas para já, daquelas que estão prontas para serem estudadas, acho que consegui extrair e entender melhor as informações que elas passam!<br><br>\n",
    "\n",
    "O próximo passo é tratar as variáveis:<br>\n",
    "* Name\n",
    "* Cabin\n",
    "* Embarked\n",
    "* Ticket\n",
    "\n",
    "As 3 primeiras têm muitos dados faltantes e são categóricas, portanto teremos que preencher todas as amostras e arranjar forma de converter tudo para variáveis numéricas.<br><br>\n",
    "\n",
    "O ticket eu acho interessante agrupamos amostras que tenham tickets iguais (não sei se será uma boa hipótese, mas irei testar), já que isso significa que as amostras eram uma família, e isso pode influenciar na taxa de mortalidade.<br><br>\n",
    "\n",
    "As cabines (*Cabin*) podem influenciar também já que as primeira serão com certeza utilizadas pela 1ª classe, o que faz com que ficassem mais próximos da superfície (+ probabilidade de sobrevivência)<br><br>\n",
    "Os nomes(*Name*) podem nos ajudar a descobrir famílias e fora o sexo da pessoa<br><br>\n",
    "O porto onde embarcaram (*Embarked*) pode ser influenciado pela classe e também pode influenciar a sobrevivência, já que quem apanhou no primeiro porto talvez tenha tido uma maior chance de ficar numa cabine mais próxima da superfície, por exemplo."
   ]
  },
  {
   "cell_type": "markdown",
   "metadata": {},
   "source": [
    "# Tratamento de Dados\n",
    "\n",
    "Bem aqui vamos tratar os dados que faltam, não implica que não faça alguma análise no meio, mas o foco é o tratamento dos mesmos. E quem sabe criação de novas features mais ricas em informações."
   ]
  },
  {
   "cell_type": "code",
   "execution_count": 1783,
   "metadata": {},
   "outputs": [
    {
     "name": "stdout",
     "output_type": "stream",
     "text": [
      "<class 'pandas.core.frame.DataFrame'>\n",
      "Int64Index: 886 entries, 0 to 890\n",
      "Data columns (total 12 columns):\n",
      " #   Column       Non-Null Count  Dtype  \n",
      "---  ------       --------------  -----  \n",
      " 0   PassengerId  886 non-null    int64  \n",
      " 1   Survived     886 non-null    int64  \n",
      " 2   Pclass       886 non-null    int64  \n",
      " 3   Name         886 non-null    object \n",
      " 4   Sex          886 non-null    int64  \n",
      " 5   Age          886 non-null    int32  \n",
      " 6   SibSp        886 non-null    int64  \n",
      " 7   Parch        886 non-null    int64  \n",
      " 8   Ticket       886 non-null    object \n",
      " 9   Fare         886 non-null    float64\n",
      " 10  Cabin        200 non-null    object \n",
      " 11  Embarked     884 non-null    object \n",
      "dtypes: float64(1), int32(1), int64(6), object(4)\n",
      "memory usage: 126.5+ KB\n"
     ]
    }
   ],
   "source": [
    "df_train.info()"
   ]
  },
  {
   "cell_type": "code",
   "execution_count": 1784,
   "metadata": {},
   "outputs": [
    {
     "data": {
      "text/plain": [
       "0.7742663656884876"
      ]
     },
     "execution_count": 1784,
     "metadata": {},
     "output_type": "execute_result"
    }
   ],
   "source": [
    "df_train[\"Cabin\"].isnull().mean()"
   ]
  },
  {
   "cell_type": "markdown",
   "metadata": {},
   "source": [
    "O feature *Cabin* tem 77% de dados em falta, talvez o melhor neste caso é remover esta coluna já que imputar valores pode causar imprecisão nos resultados."
   ]
  },
  {
   "cell_type": "markdown",
   "metadata": {},
   "source": [
    "### Embarked\n",
    "\n",
    "Aqui vou apenas fazer um one hot encoding dropando a primeira coluna isso porque, dá para representar 3 valores possíveis com apenas 2 colunas, por exemplo:\n",
    "* 0 | 1\n",
    "* 1 | 0\n",
    "* 0 | 0\n",
    "\n",
    "Claro que antes disso vou imputar os 2 valores que faltam"
   ]
  },
  {
   "cell_type": "code",
   "execution_count": 1785,
   "metadata": {},
   "outputs": [
    {
     "data": {
      "text/html": [
       "<div>\n",
       "<style scoped>\n",
       "    .dataframe tbody tr th:only-of-type {\n",
       "        vertical-align: middle;\n",
       "    }\n",
       "\n",
       "    .dataframe tbody tr th {\n",
       "        vertical-align: top;\n",
       "    }\n",
       "\n",
       "    .dataframe thead th {\n",
       "        text-align: right;\n",
       "    }\n",
       "</style>\n",
       "<table border=\"1\" class=\"dataframe\">\n",
       "  <thead>\n",
       "    <tr style=\"text-align: right;\">\n",
       "      <th></th>\n",
       "      <th>PassengerId</th>\n",
       "      <th>Survived</th>\n",
       "      <th>Pclass</th>\n",
       "      <th>Name</th>\n",
       "      <th>Sex</th>\n",
       "      <th>Age</th>\n",
       "      <th>SibSp</th>\n",
       "      <th>Parch</th>\n",
       "      <th>Ticket</th>\n",
       "      <th>Fare</th>\n",
       "      <th>Cabin</th>\n",
       "      <th>Embarked</th>\n",
       "    </tr>\n",
       "  </thead>\n",
       "  <tbody>\n",
       "    <tr>\n",
       "      <th>61</th>\n",
       "      <td>62</td>\n",
       "      <td>1</td>\n",
       "      <td>1</td>\n",
       "      <td>Icard, Miss. Amelie</td>\n",
       "      <td>1</td>\n",
       "      <td>38</td>\n",
       "      <td>0</td>\n",
       "      <td>0</td>\n",
       "      <td>113572</td>\n",
       "      <td>80.0</td>\n",
       "      <td>B28</td>\n",
       "      <td>NaN</td>\n",
       "    </tr>\n",
       "    <tr>\n",
       "      <th>829</th>\n",
       "      <td>830</td>\n",
       "      <td>1</td>\n",
       "      <td>1</td>\n",
       "      <td>Stone, Mrs. George Nelson (Martha Evelyn)</td>\n",
       "      <td>1</td>\n",
       "      <td>62</td>\n",
       "      <td>0</td>\n",
       "      <td>0</td>\n",
       "      <td>113572</td>\n",
       "      <td>80.0</td>\n",
       "      <td>B28</td>\n",
       "      <td>NaN</td>\n",
       "    </tr>\n",
       "  </tbody>\n",
       "</table>\n",
       "</div>"
      ],
      "text/plain": [
       "     PassengerId  Survived  Pclass                                       Name  \\\n",
       "61            62         1       1                        Icard, Miss. Amelie   \n",
       "829          830         1       1  Stone, Mrs. George Nelson (Martha Evelyn)   \n",
       "\n",
       "     Sex  Age  SibSp  Parch  Ticket  Fare Cabin Embarked  \n",
       "61     1   38      0      0  113572  80.0   B28      NaN  \n",
       "829    1   62      0      0  113572  80.0   B28      NaN  "
      ]
     },
     "execution_count": 1785,
     "metadata": {},
     "output_type": "execute_result"
    }
   ],
   "source": [
    "## Vamos ver quem é que são as 2 amostras que faltam\n",
    "df_train[df_train[\"Embarked\"].isnull()]"
   ]
  },
  {
   "cell_type": "code",
   "execution_count": 1786,
   "metadata": {},
   "outputs": [
    {
     "data": {
      "text/html": [
       "<div>\n",
       "<style scoped>\n",
       "    .dataframe tbody tr th:only-of-type {\n",
       "        vertical-align: middle;\n",
       "    }\n",
       "\n",
       "    .dataframe tbody tr th {\n",
       "        vertical-align: top;\n",
       "    }\n",
       "\n",
       "    .dataframe thead th {\n",
       "        text-align: right;\n",
       "    }\n",
       "</style>\n",
       "<table border=\"1\" class=\"dataframe\">\n",
       "  <thead>\n",
       "    <tr style=\"text-align: right;\">\n",
       "      <th></th>\n",
       "      <th>PassengerId</th>\n",
       "      <th>Survived</th>\n",
       "      <th>Pclass</th>\n",
       "      <th>Name</th>\n",
       "      <th>Sex</th>\n",
       "      <th>Age</th>\n",
       "      <th>SibSp</th>\n",
       "      <th>Parch</th>\n",
       "      <th>Ticket</th>\n",
       "      <th>Fare</th>\n",
       "      <th>Cabin</th>\n",
       "      <th>Embarked</th>\n",
       "    </tr>\n",
       "  </thead>\n",
       "  <tbody>\n",
       "    <tr>\n",
       "      <th>61</th>\n",
       "      <td>62</td>\n",
       "      <td>1</td>\n",
       "      <td>1</td>\n",
       "      <td>Icard, Miss. Amelie</td>\n",
       "      <td>1</td>\n",
       "      <td>38</td>\n",
       "      <td>0</td>\n",
       "      <td>0</td>\n",
       "      <td>113572</td>\n",
       "      <td>80.0000</td>\n",
       "      <td>B28</td>\n",
       "      <td>NaN</td>\n",
       "    </tr>\n",
       "    <tr>\n",
       "      <th>218</th>\n",
       "      <td>219</td>\n",
       "      <td>1</td>\n",
       "      <td>1</td>\n",
       "      <td>Bazzani, Miss. Albina</td>\n",
       "      <td>1</td>\n",
       "      <td>32</td>\n",
       "      <td>0</td>\n",
       "      <td>0</td>\n",
       "      <td>11813</td>\n",
       "      <td>76.2917</td>\n",
       "      <td>D15</td>\n",
       "      <td>C</td>\n",
       "    </tr>\n",
       "    <tr>\n",
       "      <th>256</th>\n",
       "      <td>257</td>\n",
       "      <td>1</td>\n",
       "      <td>1</td>\n",
       "      <td>Thorne, Mrs. Gertrude Maybelle</td>\n",
       "      <td>1</td>\n",
       "      <td>37</td>\n",
       "      <td>0</td>\n",
       "      <td>0</td>\n",
       "      <td>PC 17585</td>\n",
       "      <td>79.2000</td>\n",
       "      <td>NaN</td>\n",
       "      <td>C</td>\n",
       "    </tr>\n",
       "  </tbody>\n",
       "</table>\n",
       "</div>"
      ],
      "text/plain": [
       "     PassengerId  Survived  Pclass                            Name  Sex  Age  \\\n",
       "61            62         1       1             Icard, Miss. Amelie    1   38   \n",
       "218          219         1       1           Bazzani, Miss. Albina    1   32   \n",
       "256          257         1       1  Thorne, Mrs. Gertrude Maybelle    1   37   \n",
       "\n",
       "     SibSp  Parch    Ticket     Fare Cabin Embarked  \n",
       "61       0      0    113572  80.0000   B28      NaN  \n",
       "218      0      0     11813  76.2917   D15        C  \n",
       "256      0      0  PC 17585  79.2000   NaN        C  "
      ]
     },
     "execution_count": 1786,
     "metadata": {},
     "output_type": "execute_result"
    }
   ],
   "source": [
    "df_train[(df_train[\"Pclass\"]==1)&\n",
    "         (df_train[\"Age\"]>=30)&\n",
    "         (df_train[\"Age\"]<=38)&\n",
    "         (df_train[\"SibSp\"]==0)&\n",
    "         (df_train[\"Parch\"]==0)&\n",
    "         (df_train[\"Fare\"]>=75)&\n",
    "         (df_train[\"Fare\"]<=85)]"
   ]
  },
  {
   "cell_type": "markdown",
   "metadata": {},
   "source": [
    "Encontramos 2 amostras idênticas à nossa outra de 38 anos, 1ª classe, perto de 80 de bilhete e não tem SibSp nem Parch"
   ]
  },
  {
   "cell_type": "code",
   "execution_count": 1787,
   "metadata": {},
   "outputs": [
    {
     "data": {
      "text/html": [
       "<div>\n",
       "<style scoped>\n",
       "    .dataframe tbody tr th:only-of-type {\n",
       "        vertical-align: middle;\n",
       "    }\n",
       "\n",
       "    .dataframe tbody tr th {\n",
       "        vertical-align: top;\n",
       "    }\n",
       "\n",
       "    .dataframe thead th {\n",
       "        text-align: right;\n",
       "    }\n",
       "</style>\n",
       "<table border=\"1\" class=\"dataframe\">\n",
       "  <thead>\n",
       "    <tr style=\"text-align: right;\">\n",
       "      <th></th>\n",
       "      <th>PassengerId</th>\n",
       "      <th>Survived</th>\n",
       "      <th>Pclass</th>\n",
       "      <th>Name</th>\n",
       "      <th>Sex</th>\n",
       "      <th>Age</th>\n",
       "      <th>SibSp</th>\n",
       "      <th>Parch</th>\n",
       "      <th>Ticket</th>\n",
       "      <th>Fare</th>\n",
       "      <th>Cabin</th>\n",
       "      <th>Embarked</th>\n",
       "    </tr>\n",
       "  </thead>\n",
       "  <tbody>\n",
       "    <tr>\n",
       "      <th>6</th>\n",
       "      <td>7</td>\n",
       "      <td>0</td>\n",
       "      <td>1</td>\n",
       "      <td>McCarthy, Mr. Timothy J</td>\n",
       "      <td>0</td>\n",
       "      <td>54</td>\n",
       "      <td>0</td>\n",
       "      <td>0</td>\n",
       "      <td>17463</td>\n",
       "      <td>51.8625</td>\n",
       "      <td>E46</td>\n",
       "      <td>S</td>\n",
       "    </tr>\n",
       "    <tr>\n",
       "      <th>185</th>\n",
       "      <td>186</td>\n",
       "      <td>0</td>\n",
       "      <td>1</td>\n",
       "      <td>Rood, Mr. Hugh Roscoe</td>\n",
       "      <td>0</td>\n",
       "      <td>52</td>\n",
       "      <td>0</td>\n",
       "      <td>0</td>\n",
       "      <td>113767</td>\n",
       "      <td>50.0000</td>\n",
       "      <td>A32</td>\n",
       "      <td>S</td>\n",
       "    </tr>\n",
       "  </tbody>\n",
       "</table>\n",
       "</div>"
      ],
      "text/plain": [
       "     PassengerId  Survived  Pclass                     Name  Sex  Age  SibSp  \\\n",
       "6              7         0       1  McCarthy, Mr. Timothy J    0   54      0   \n",
       "185          186         0       1    Rood, Mr. Hugh Roscoe    0   52      0   \n",
       "\n",
       "     Parch  Ticket     Fare Cabin Embarked  \n",
       "6        0   17463  51.8625   E46        S  \n",
       "185      0  113767  50.0000   A32        S  "
      ]
     },
     "execution_count": 1787,
     "metadata": {},
     "output_type": "execute_result"
    }
   ],
   "source": [
    "df_train[(df_train[\"Pclass\"]==1)&\n",
    "         (df_train[\"Age\"]>=50)&\n",
    "         (df_train[\"Age\"]<=70)&\n",
    "         (df_train[\"SibSp\"]==0)&\n",
    "         (df_train[\"Parch\"]==0)&\n",
    "         (df_train[\"Fare\"]>=50)&\n",
    "         (df_train[\"Fare\"]<=70)]"
   ]
  },
  {
   "cell_type": "markdown",
   "metadata": {},
   "source": [
    "O preço não é idêntico ao pago pela nossa outra amostra mas são as amostras mais próximas.<br><br>\n",
    "Portanto a amostra de índice 61 e 829 vão receber embarked *C* e *S*"
   ]
  },
  {
   "cell_type": "code",
   "execution_count": 1788,
   "metadata": {},
   "outputs": [],
   "source": [
    "df_train.loc[61, \"Embarked\"] = \"C\""
   ]
  },
  {
   "cell_type": "code",
   "execution_count": 1789,
   "metadata": {},
   "outputs": [],
   "source": [
    "df_train.loc[829, \"Embarked\"] = \"S\""
   ]
  },
  {
   "cell_type": "code",
   "execution_count": 1790,
   "metadata": {},
   "outputs": [
    {
     "name": "stdout",
     "output_type": "stream",
     "text": [
      "<class 'pandas.core.frame.DataFrame'>\n",
      "Int64Index: 886 entries, 0 to 890\n",
      "Data columns (total 12 columns):\n",
      " #   Column       Non-Null Count  Dtype  \n",
      "---  ------       --------------  -----  \n",
      " 0   PassengerId  886 non-null    int64  \n",
      " 1   Survived     886 non-null    int64  \n",
      " 2   Pclass       886 non-null    int64  \n",
      " 3   Name         886 non-null    object \n",
      " 4   Sex          886 non-null    int64  \n",
      " 5   Age          886 non-null    int32  \n",
      " 6   SibSp        886 non-null    int64  \n",
      " 7   Parch        886 non-null    int64  \n",
      " 8   Ticket       886 non-null    object \n",
      " 9   Fare         886 non-null    float64\n",
      " 10  Cabin        200 non-null    object \n",
      " 11  Embarked     886 non-null    object \n",
      "dtypes: float64(1), int32(1), int64(6), object(4)\n",
      "memory usage: 126.5+ KB\n"
     ]
    }
   ],
   "source": [
    "df_train.info()"
   ]
  },
  {
   "cell_type": "code",
   "execution_count": 1791,
   "metadata": {},
   "outputs": [],
   "source": [
    "# Aplicamos já em ambos os datasets\n",
    "df_train = pd.get_dummies(df_train, columns=[\"Embarked\"], drop_first=True)\n",
    "df_test = pd.get_dummies(df_test, columns=[\"Embarked\"], drop_first=True)"
   ]
  },
  {
   "cell_type": "code",
   "execution_count": 1792,
   "metadata": {},
   "outputs": [
    {
     "data": {
      "text/html": [
       "<div>\n",
       "<style scoped>\n",
       "    .dataframe tbody tr th:only-of-type {\n",
       "        vertical-align: middle;\n",
       "    }\n",
       "\n",
       "    .dataframe tbody tr th {\n",
       "        vertical-align: top;\n",
       "    }\n",
       "\n",
       "    .dataframe thead th {\n",
       "        text-align: right;\n",
       "    }\n",
       "</style>\n",
       "<table border=\"1\" class=\"dataframe\">\n",
       "  <thead>\n",
       "    <tr style=\"text-align: right;\">\n",
       "      <th></th>\n",
       "      <th>PassengerId</th>\n",
       "      <th>Survived</th>\n",
       "      <th>Pclass</th>\n",
       "      <th>Name</th>\n",
       "      <th>Sex</th>\n",
       "      <th>Age</th>\n",
       "      <th>SibSp</th>\n",
       "      <th>Parch</th>\n",
       "      <th>Ticket</th>\n",
       "      <th>Fare</th>\n",
       "      <th>Cabin</th>\n",
       "      <th>Embarked_Q</th>\n",
       "      <th>Embarked_S</th>\n",
       "    </tr>\n",
       "  </thead>\n",
       "  <tbody>\n",
       "    <tr>\n",
       "      <th>0</th>\n",
       "      <td>1</td>\n",
       "      <td>0</td>\n",
       "      <td>3</td>\n",
       "      <td>Braund, Mr. Owen Harris</td>\n",
       "      <td>0</td>\n",
       "      <td>22</td>\n",
       "      <td>1</td>\n",
       "      <td>0</td>\n",
       "      <td>A/5 21171</td>\n",
       "      <td>7.2500</td>\n",
       "      <td>NaN</td>\n",
       "      <td>0</td>\n",
       "      <td>1</td>\n",
       "    </tr>\n",
       "    <tr>\n",
       "      <th>1</th>\n",
       "      <td>2</td>\n",
       "      <td>1</td>\n",
       "      <td>1</td>\n",
       "      <td>Cumings, Mrs. John Bradley (Florence Briggs Th...</td>\n",
       "      <td>1</td>\n",
       "      <td>38</td>\n",
       "      <td>1</td>\n",
       "      <td>0</td>\n",
       "      <td>PC 17599</td>\n",
       "      <td>71.2833</td>\n",
       "      <td>C85</td>\n",
       "      <td>0</td>\n",
       "      <td>0</td>\n",
       "    </tr>\n",
       "    <tr>\n",
       "      <th>2</th>\n",
       "      <td>3</td>\n",
       "      <td>1</td>\n",
       "      <td>3</td>\n",
       "      <td>Heikkinen, Miss. Laina</td>\n",
       "      <td>1</td>\n",
       "      <td>26</td>\n",
       "      <td>0</td>\n",
       "      <td>0</td>\n",
       "      <td>STON/O2. 3101282</td>\n",
       "      <td>7.9250</td>\n",
       "      <td>NaN</td>\n",
       "      <td>0</td>\n",
       "      <td>1</td>\n",
       "    </tr>\n",
       "    <tr>\n",
       "      <th>3</th>\n",
       "      <td>4</td>\n",
       "      <td>1</td>\n",
       "      <td>1</td>\n",
       "      <td>Futrelle, Mrs. Jacques Heath (Lily May Peel)</td>\n",
       "      <td>1</td>\n",
       "      <td>35</td>\n",
       "      <td>1</td>\n",
       "      <td>0</td>\n",
       "      <td>113803</td>\n",
       "      <td>53.1000</td>\n",
       "      <td>C123</td>\n",
       "      <td>0</td>\n",
       "      <td>1</td>\n",
       "    </tr>\n",
       "    <tr>\n",
       "      <th>4</th>\n",
       "      <td>5</td>\n",
       "      <td>0</td>\n",
       "      <td>3</td>\n",
       "      <td>Allen, Mr. William Henry</td>\n",
       "      <td>0</td>\n",
       "      <td>35</td>\n",
       "      <td>0</td>\n",
       "      <td>0</td>\n",
       "      <td>373450</td>\n",
       "      <td>8.0500</td>\n",
       "      <td>NaN</td>\n",
       "      <td>0</td>\n",
       "      <td>1</td>\n",
       "    </tr>\n",
       "    <tr>\n",
       "      <th>...</th>\n",
       "      <td>...</td>\n",
       "      <td>...</td>\n",
       "      <td>...</td>\n",
       "      <td>...</td>\n",
       "      <td>...</td>\n",
       "      <td>...</td>\n",
       "      <td>...</td>\n",
       "      <td>...</td>\n",
       "      <td>...</td>\n",
       "      <td>...</td>\n",
       "      <td>...</td>\n",
       "      <td>...</td>\n",
       "      <td>...</td>\n",
       "    </tr>\n",
       "    <tr>\n",
       "      <th>886</th>\n",
       "      <td>887</td>\n",
       "      <td>0</td>\n",
       "      <td>2</td>\n",
       "      <td>Montvila, Rev. Juozas</td>\n",
       "      <td>0</td>\n",
       "      <td>27</td>\n",
       "      <td>0</td>\n",
       "      <td>0</td>\n",
       "      <td>211536</td>\n",
       "      <td>13.0000</td>\n",
       "      <td>NaN</td>\n",
       "      <td>0</td>\n",
       "      <td>1</td>\n",
       "    </tr>\n",
       "    <tr>\n",
       "      <th>887</th>\n",
       "      <td>888</td>\n",
       "      <td>1</td>\n",
       "      <td>1</td>\n",
       "      <td>Graham, Miss. Margaret Edith</td>\n",
       "      <td>1</td>\n",
       "      <td>19</td>\n",
       "      <td>0</td>\n",
       "      <td>0</td>\n",
       "      <td>112053</td>\n",
       "      <td>30.0000</td>\n",
       "      <td>B42</td>\n",
       "      <td>0</td>\n",
       "      <td>1</td>\n",
       "    </tr>\n",
       "    <tr>\n",
       "      <th>888</th>\n",
       "      <td>889</td>\n",
       "      <td>0</td>\n",
       "      <td>3</td>\n",
       "      <td>Johnston, Miss. Catherine Helen \"Carrie\"</td>\n",
       "      <td>1</td>\n",
       "      <td>24</td>\n",
       "      <td>1</td>\n",
       "      <td>2</td>\n",
       "      <td>W./C. 6607</td>\n",
       "      <td>23.4500</td>\n",
       "      <td>NaN</td>\n",
       "      <td>0</td>\n",
       "      <td>1</td>\n",
       "    </tr>\n",
       "    <tr>\n",
       "      <th>889</th>\n",
       "      <td>890</td>\n",
       "      <td>1</td>\n",
       "      <td>1</td>\n",
       "      <td>Behr, Mr. Karl Howell</td>\n",
       "      <td>0</td>\n",
       "      <td>26</td>\n",
       "      <td>0</td>\n",
       "      <td>0</td>\n",
       "      <td>111369</td>\n",
       "      <td>30.0000</td>\n",
       "      <td>C148</td>\n",
       "      <td>0</td>\n",
       "      <td>0</td>\n",
       "    </tr>\n",
       "    <tr>\n",
       "      <th>890</th>\n",
       "      <td>891</td>\n",
       "      <td>0</td>\n",
       "      <td>3</td>\n",
       "      <td>Dooley, Mr. Patrick</td>\n",
       "      <td>0</td>\n",
       "      <td>32</td>\n",
       "      <td>0</td>\n",
       "      <td>0</td>\n",
       "      <td>370376</td>\n",
       "      <td>7.7500</td>\n",
       "      <td>NaN</td>\n",
       "      <td>1</td>\n",
       "      <td>0</td>\n",
       "    </tr>\n",
       "  </tbody>\n",
       "</table>\n",
       "<p>886 rows × 13 columns</p>\n",
       "</div>"
      ],
      "text/plain": [
       "     PassengerId  Survived  Pclass  \\\n",
       "0              1         0       3   \n",
       "1              2         1       1   \n",
       "2              3         1       3   \n",
       "3              4         1       1   \n",
       "4              5         0       3   \n",
       "..           ...       ...     ...   \n",
       "886          887         0       2   \n",
       "887          888         1       1   \n",
       "888          889         0       3   \n",
       "889          890         1       1   \n",
       "890          891         0       3   \n",
       "\n",
       "                                                  Name  Sex  Age  SibSp  \\\n",
       "0                              Braund, Mr. Owen Harris    0   22      1   \n",
       "1    Cumings, Mrs. John Bradley (Florence Briggs Th...    1   38      1   \n",
       "2                               Heikkinen, Miss. Laina    1   26      0   \n",
       "3         Futrelle, Mrs. Jacques Heath (Lily May Peel)    1   35      1   \n",
       "4                             Allen, Mr. William Henry    0   35      0   \n",
       "..                                                 ...  ...  ...    ...   \n",
       "886                              Montvila, Rev. Juozas    0   27      0   \n",
       "887                       Graham, Miss. Margaret Edith    1   19      0   \n",
       "888           Johnston, Miss. Catherine Helen \"Carrie\"    1   24      1   \n",
       "889                              Behr, Mr. Karl Howell    0   26      0   \n",
       "890                                Dooley, Mr. Patrick    0   32      0   \n",
       "\n",
       "     Parch            Ticket     Fare Cabin  Embarked_Q  Embarked_S  \n",
       "0        0         A/5 21171   7.2500   NaN           0           1  \n",
       "1        0          PC 17599  71.2833   C85           0           0  \n",
       "2        0  STON/O2. 3101282   7.9250   NaN           0           1  \n",
       "3        0            113803  53.1000  C123           0           1  \n",
       "4        0            373450   8.0500   NaN           0           1  \n",
       "..     ...               ...      ...   ...         ...         ...  \n",
       "886      0            211536  13.0000   NaN           0           1  \n",
       "887      0            112053  30.0000   B42           0           1  \n",
       "888      2        W./C. 6607  23.4500   NaN           0           1  \n",
       "889      0            111369  30.0000  C148           0           0  \n",
       "890      0            370376   7.7500   NaN           1           0  \n",
       "\n",
       "[886 rows x 13 columns]"
      ]
     },
     "execution_count": 1792,
     "metadata": {},
     "output_type": "execute_result"
    }
   ],
   "source": [
    "df_train"
   ]
  },
  {
   "cell_type": "markdown",
   "metadata": {},
   "source": [
    "### Tickets\n",
    "\n",
    "A minha ideia seria colocar os bilhetes como família. Então contaria o número de bilhetes repetidos e guardaria, as amostras com o mesmo ticket seriam rotuladas como X família. Amostras com tickets únicos serião consideradas sozinhas. "
   ]
  },
  {
   "cell_type": "code",
   "execution_count": 1793,
   "metadata": {},
   "outputs": [
    {
     "name": "stdout",
     "output_type": "stream",
     "text": [
      "678\n",
      "363\n"
     ]
    }
   ],
   "source": [
    "\n",
    "for df in [df_train, df_test]:\n",
    "    \n",
    "    tickets = dict()\n",
    "    \n",
    "    for i in df[\"Ticket\"].values:\n",
    "        if i in tickets.keys():\n",
    "            tickets[i] += 1\n",
    "        else:\n",
    "            tickets[i] = 1\n",
    "\n",
    "    # Ordernar de forma descrecente pelo número de tickets iguais\n",
    "    tickets = dict(sorted(tickets.items(), key=lambda x: x[1], reverse=True))\n",
    "    \n",
    "    # Substituir valores da contagem por rótulos\n",
    "    for key, value in tickets.items():\n",
    "        if value == 1:\n",
    "            tickets[key] = \"Sozinho\"\n",
    "        else:\n",
    "            tickets[key] = \"Acompanhado\"\n",
    "\n",
    "    print( len(tickets) )\n",
    "    \n",
    "    df[\"Acompanhado\"] = df[\"Ticket\"].map(tickets)\n",
    "\n",
    "df_train = pd.get_dummies(df_train, columns=[\"Acompanhado\"], drop_first=True)\n",
    "df_test = pd.get_dummies(df_test, columns=[\"Acompanhado\"], drop_first=True)"
   ]
  },
  {
   "cell_type": "code",
   "execution_count": 1794,
   "metadata": {},
   "outputs": [
    {
     "data": {
      "text/plain": [
       "Survived               1.000000\n",
       "Pclass                -0.338045\n",
       "Sex                    0.545306\n",
       "Age                   -0.087174\n",
       "SibSp                 -0.034271\n",
       "Parch                  0.083776\n",
       "Fare                   0.276407\n",
       "Embarked_Q             0.004438\n",
       "Embarked_S            -0.148049\n",
       "Acompanhado_Sozinho   -0.217287\n",
       "Name: Survived, dtype: float64"
      ]
     },
     "execution_count": 1794,
     "metadata": {},
     "output_type": "execute_result"
    }
   ],
   "source": [
    "df_train[df_train.columns[1:]].corr()[\"Survived\"][:]"
   ]
  },
  {
   "cell_type": "markdown",
   "metadata": {},
   "source": [
    "A ideia era ter uma coluna que tivesse cada família ou no caso sozinho, mas isso faria que quando fizessemos one-hot-encoding, ficássemos com 140 features!! Estaria a complicar o modelo, desta forma temos uma variável que tem mais correlação que o SibSp e Parch, o que pode ser um bom sinal."
   ]
  },
  {
   "cell_type": "markdown",
   "metadata": {},
   "source": [
    "### Name\n",
    "\n",
    "Acho que vai ser redundante a minha ideia, mas vamos ver se terá o correlação elevada com a variável Sexo.<br>\n",
    "Isto porque vou tentar separar os nomes com base em Mr, Ms etc. Isso pode correlacionar fortemente com Sexo já que Ms é usado com uma pessoa do sexo feminino e Mr com sexo masculino.<br><br>\n",
    "Não há nada como testar para ver"
   ]
  },
  {
   "cell_type": "code",
   "execution_count": 1795,
   "metadata": {},
   "outputs": [
    {
     "name": "stdout",
     "output_type": "stream",
     "text": [
      "886\n",
      "{'Mr': 515, 'Mrs': 125, 'Miss': 181, 'Master': 40, 'Rev': 6, 'Dr': 7, 'Ms': 5, 'Major': 2, 'Col': 2, 'Capt': 1, 'the Countess': 1, 'Jonkheer': 1}\n",
      "418\n",
      "{'Mr': 240, 'Mrs': 72, 'Miss': 78, 'Master': 21, 'Ms': 1, 'Col': 2, 'Rev': 2, 'Dr': 1, 'Dona': 1}\n"
     ]
    }
   ],
   "source": [
    "# Já aplicamos esta tranformação em todos os datasets (treino e teste)\n",
    "\n",
    "for index, df in enumerate([df_train, df_test]):\n",
    "    names = dict()\n",
    "    names_list = []\n",
    "    for i, r in df.iterrows():\n",
    "\n",
    "        # Primeiro splitamos por vírgula e pegamos a parte do nome: Mr./Ms. qualquer coisa\n",
    "        # Depois splitamos pelo . e pegamos a primeira parte que é só o pronome\n",
    "        name = r[\"Name\"].split(\",\")[1].split(\".\")[0].strip()\n",
    "\n",
    "        # Ms é uma pessoa do sexo feminina casada ou não\n",
    "        # logo lady, mme (madamme), mlle (mademoiselle) ficam como Ms\n",
    "        if name == \"Lady\" or name == \"Mme\" or name == \"Mlle\":\n",
    "            name = \"Ms\"\n",
    "\n",
    "        # Sir ou Mr dá o mesmo portanto vamos colocar\n",
    "        # Sir como Mr\n",
    "        # Don -> prof na unviersidade Oxford ou Cambridge\n",
    "        if name == \"Sir\" or name == \"Don\":\n",
    "            name = \"Mr\"\n",
    "\n",
    "        names_list.append(name)\n",
    "\n",
    "        if name in names.keys():\n",
    "            names[name] += 1\n",
    "        else:\n",
    "            names[name] = 1\n",
    "    \n",
    "    print( sum(names.values()) )\n",
    "    print( names )\n",
    "    \n",
    "    # Se eu fizesse df = a qualquer coisa, não ia fazer nada no df_train ou df_test, porque\n",
    "    # para atribuir alguma coisa a eles tem que ser diretamente!\n",
    "    # Então obti os índices da lista de dfs e com base nos índices consigo saber\n",
    "    # qual deles usar para atribuir a lista de nomes\n",
    "    if index == 0:\n",
    "        df_train[\"Pron\"] = names_list\n",
    "    else:\n",
    "        df_test[\"Pron\"] = names_list"
   ]
  },
  {
   "cell_type": "markdown",
   "metadata": {},
   "source": [
    "Precisamos remover mais alguns \"títulos\"/\"pronomes\" para depois podermos fazer o one-hot.<br>\n",
    "Então agora eu vou analisar 1 a 1 sem ser Mr, Mrs, Miss, Ms e Master"
   ]
  },
  {
   "cell_type": "code",
   "execution_count": 1796,
   "metadata": {},
   "outputs": [
    {
     "name": "stdout",
     "output_type": "stream",
     "text": [
      "     PassengerId  Survived  Pclass                               Name  Sex  \\\n",
      "149          150         0       2  Byles, Rev. Thomas Roussel Davids    0   \n",
      "150          151         0       2         Bateman, Rev. Robert James    0   \n",
      "249          250         0       2      Carter, Rev. Ernest Courtenay    0   \n",
      "626          627         0       2     Kirkland, Rev. Charles Leonard    0   \n",
      "848          849         0       2                  Harper, Rev. John    0   \n",
      "886          887         0       2              Montvila, Rev. Juozas    0   \n",
      "\n",
      "     Age  SibSp  Parch       Ticket    Fare Cabin  Embarked_Q  Embarked_S  \\\n",
      "149   42      0      0       244310  13.000   NaN           0           1   \n",
      "150   51      0      0  S.O.P. 1166  12.525   NaN           0           1   \n",
      "249   54      1      0       244252  26.000   NaN           0           1   \n",
      "626   57      0      0       219533  12.350   NaN           1           0   \n",
      "848   28      0      1       248727  33.000   NaN           0           1   \n",
      "886   27      0      0       211536  13.000   NaN           0           1   \n",
      "\n",
      "     Acompanhado_Sozinho Pron  \n",
      "149                    1  Rev  \n",
      "150                    1  Rev  \n",
      "249                    0  Rev  \n",
      "626                    1  Rev  \n",
      "848                    0  Rev  \n",
      "886                    1  Rev  \n",
      "     PassengerId  Pclass                           Name  Sex  Age  SibSp  \\\n",
      "149         1041       2         Lahtinen, Rev. William    0   30      1   \n",
      "164         1056       2  Peruschitz, Rev. Joseph Maria    0   41      0   \n",
      "\n",
      "     Parch  Ticket  Fare Cabin  Embarked_Q  Embarked_S  Acompanhado_Sozinho  \\\n",
      "149      1  250651  26.0   NaN           0           1                    1   \n",
      "164      0  237393  13.0   NaN           0           1                    1   \n",
      "\n",
      "    Pron  \n",
      "149  Rev  \n",
      "164  Rev  \n"
     ]
    }
   ],
   "source": [
    "# Rev -> Reverendo \n",
    "print( df_train[df_train[\"Pron\"]==\"Rev\"] )\n",
    "print( df_test[df_test[\"Pron\"]==\"Rev\"] )"
   ]
  },
  {
   "cell_type": "markdown",
   "metadata": {},
   "source": [
    "Todos têm sexo masculino, logo serão atribuidos a Mr"
   ]
  },
  {
   "cell_type": "code",
   "execution_count": 1797,
   "metadata": {},
   "outputs": [],
   "source": [
    "# Substituir Rev por Mr\n",
    "df_train[\"Pron\"].replace(\"Rev\", \"Mr\", inplace=True)\n",
    "df_test[\"Pron\"].replace(\"Rev\", \"Mr\", inplace=True)"
   ]
  },
  {
   "cell_type": "code",
   "execution_count": 1798,
   "metadata": {},
   "outputs": [],
   "source": [
    "# Dr -> Doutor\n",
    "def convertDrPron(x):\n",
    "    if x[\"Sex\"] == 0:\n",
    "        if x[\"Pron\"] == \"Dr\":\n",
    "            return \"Mr\"\n",
    "    else:\n",
    "        if x[\"Pron\"] == \"Dr\":\n",
    "            return \"Ms\"\n",
    "    \n",
    "    return x\n",
    "\n",
    "df_train[\"Pron\"] = df_train.apply(convertDrPron, axis=1)[\"Pron\"]\n",
    "df_test[\"Pron\"] = df_test.apply(convertDrPron, axis=1)[\"Pron\"]"
   ]
  },
  {
   "cell_type": "code",
   "execution_count": 1799,
   "metadata": {},
   "outputs": [],
   "source": [
    "# Major\n",
    "df_train[\"Pron\"].replace(\"Major\", \"Mr\", inplace=True)"
   ]
  },
  {
   "cell_type": "code",
   "execution_count": 1800,
   "metadata": {},
   "outputs": [],
   "source": [
    "# Col\n",
    "df_train[\"Pron\"].replace(\"Col\", \"Mr\", inplace=True)\n",
    "df_test[\"Pron\"].replace(\"Col\", \"Mr\", inplace=True)"
   ]
  },
  {
   "cell_type": "code",
   "execution_count": 1801,
   "metadata": {},
   "outputs": [],
   "source": [
    "# Jonkheer\n",
    "df_train[\"Pron\"].replace(\"Jonkheer\", \"Mr\", inplace=True)"
   ]
  },
  {
   "cell_type": "code",
   "execution_count": 1802,
   "metadata": {},
   "outputs": [],
   "source": [
    "# Capt\n",
    "df_train[\"Pron\"].replace(\"Capt\", \"Mr\", inplace=True)"
   ]
  },
  {
   "cell_type": "code",
   "execution_count": 1803,
   "metadata": {},
   "outputs": [],
   "source": [
    "# the Countess\n",
    "df_train[\"Pron\"].replace(\"the Countess\", \"Mrs\", inplace=True)"
   ]
  },
  {
   "cell_type": "code",
   "execution_count": 1804,
   "metadata": {},
   "outputs": [],
   "source": [
    "# Dona\n",
    "df_test[\"Pron\"].replace(\"Dona\", \"Mrs\", inplace=True)"
   ]
  },
  {
   "cell_type": "code",
   "execution_count": 1805,
   "metadata": {},
   "outputs": [
    {
     "data": {
      "text/plain": [
       "Mr        533\n",
       "Miss      181\n",
       "Mrs       126\n",
       "Master     40\n",
       "Ms          6\n",
       "Name: Pron, dtype: int64"
      ]
     },
     "execution_count": 1805,
     "metadata": {},
     "output_type": "execute_result"
    }
   ],
   "source": [
    "df_train[\"Pron\"].value_counts()"
   ]
  },
  {
   "cell_type": "code",
   "execution_count": 1806,
   "metadata": {},
   "outputs": [
    {
     "data": {
      "text/plain": [
       "Mr        245\n",
       "Miss       78\n",
       "Mrs        73\n",
       "Master     21\n",
       "Ms          1\n",
       "Name: Pron, dtype: int64"
      ]
     },
     "execution_count": 1806,
     "metadata": {},
     "output_type": "execute_result"
    }
   ],
   "source": [
    "df_test[\"Pron\"].value_counts()"
   ]
  },
  {
   "cell_type": "code",
   "execution_count": 1807,
   "metadata": {},
   "outputs": [],
   "source": [
    "df_train = pd.get_dummies(df_train, columns=[\"Pron\"], drop_first=True)\n",
    "df_test = pd.get_dummies(df_test, columns=[\"Pron\"], drop_first=True)"
   ]
  },
  {
   "cell_type": "code",
   "execution_count": 1808,
   "metadata": {},
   "outputs": [],
   "source": [
    "# Vou dropar a variável Title, já que já extraimos as feature Acompanhado_Sozinho\n",
    "# E também a Name porque já extraimos as informações que queriamos\n",
    "df_train.drop([\"Name\", \"Ticket\"], axis=1, inplace=True)\n",
    "df_test.drop([\"Name\", \"Ticket\"], axis=1, inplace=True)"
   ]
  },
  {
   "cell_type": "code",
   "execution_count": 1809,
   "metadata": {},
   "outputs": [
    {
     "data": {
      "text/html": [
       "<div>\n",
       "<style scoped>\n",
       "    .dataframe tbody tr th:only-of-type {\n",
       "        vertical-align: middle;\n",
       "    }\n",
       "\n",
       "    .dataframe tbody tr th {\n",
       "        vertical-align: top;\n",
       "    }\n",
       "\n",
       "    .dataframe thead th {\n",
       "        text-align: right;\n",
       "    }\n",
       "</style>\n",
       "<table border=\"1\" class=\"dataframe\">\n",
       "  <thead>\n",
       "    <tr style=\"text-align: right;\">\n",
       "      <th></th>\n",
       "      <th>PassengerId</th>\n",
       "      <th>Survived</th>\n",
       "      <th>Pclass</th>\n",
       "      <th>Sex</th>\n",
       "      <th>Age</th>\n",
       "      <th>SibSp</th>\n",
       "      <th>Parch</th>\n",
       "      <th>Fare</th>\n",
       "      <th>Cabin</th>\n",
       "      <th>Embarked_Q</th>\n",
       "      <th>Embarked_S</th>\n",
       "      <th>Acompanhado_Sozinho</th>\n",
       "      <th>Pron_Miss</th>\n",
       "      <th>Pron_Mr</th>\n",
       "      <th>Pron_Mrs</th>\n",
       "      <th>Pron_Ms</th>\n",
       "    </tr>\n",
       "  </thead>\n",
       "  <tbody>\n",
       "    <tr>\n",
       "      <th>0</th>\n",
       "      <td>1</td>\n",
       "      <td>0</td>\n",
       "      <td>3</td>\n",
       "      <td>0</td>\n",
       "      <td>22</td>\n",
       "      <td>1</td>\n",
       "      <td>0</td>\n",
       "      <td>7.2500</td>\n",
       "      <td>NaN</td>\n",
       "      <td>0</td>\n",
       "      <td>1</td>\n",
       "      <td>1</td>\n",
       "      <td>0</td>\n",
       "      <td>1</td>\n",
       "      <td>0</td>\n",
       "      <td>0</td>\n",
       "    </tr>\n",
       "    <tr>\n",
       "      <th>1</th>\n",
       "      <td>2</td>\n",
       "      <td>1</td>\n",
       "      <td>1</td>\n",
       "      <td>1</td>\n",
       "      <td>38</td>\n",
       "      <td>1</td>\n",
       "      <td>0</td>\n",
       "      <td>71.2833</td>\n",
       "      <td>C85</td>\n",
       "      <td>0</td>\n",
       "      <td>0</td>\n",
       "      <td>1</td>\n",
       "      <td>0</td>\n",
       "      <td>0</td>\n",
       "      <td>1</td>\n",
       "      <td>0</td>\n",
       "    </tr>\n",
       "    <tr>\n",
       "      <th>2</th>\n",
       "      <td>3</td>\n",
       "      <td>1</td>\n",
       "      <td>3</td>\n",
       "      <td>1</td>\n",
       "      <td>26</td>\n",
       "      <td>0</td>\n",
       "      <td>0</td>\n",
       "      <td>7.9250</td>\n",
       "      <td>NaN</td>\n",
       "      <td>0</td>\n",
       "      <td>1</td>\n",
       "      <td>1</td>\n",
       "      <td>1</td>\n",
       "      <td>0</td>\n",
       "      <td>0</td>\n",
       "      <td>0</td>\n",
       "    </tr>\n",
       "    <tr>\n",
       "      <th>3</th>\n",
       "      <td>4</td>\n",
       "      <td>1</td>\n",
       "      <td>1</td>\n",
       "      <td>1</td>\n",
       "      <td>35</td>\n",
       "      <td>1</td>\n",
       "      <td>0</td>\n",
       "      <td>53.1000</td>\n",
       "      <td>C123</td>\n",
       "      <td>0</td>\n",
       "      <td>1</td>\n",
       "      <td>0</td>\n",
       "      <td>0</td>\n",
       "      <td>0</td>\n",
       "      <td>1</td>\n",
       "      <td>0</td>\n",
       "    </tr>\n",
       "    <tr>\n",
       "      <th>4</th>\n",
       "      <td>5</td>\n",
       "      <td>0</td>\n",
       "      <td>3</td>\n",
       "      <td>0</td>\n",
       "      <td>35</td>\n",
       "      <td>0</td>\n",
       "      <td>0</td>\n",
       "      <td>8.0500</td>\n",
       "      <td>NaN</td>\n",
       "      <td>0</td>\n",
       "      <td>1</td>\n",
       "      <td>1</td>\n",
       "      <td>0</td>\n",
       "      <td>1</td>\n",
       "      <td>0</td>\n",
       "      <td>0</td>\n",
       "    </tr>\n",
       "    <tr>\n",
       "      <th>...</th>\n",
       "      <td>...</td>\n",
       "      <td>...</td>\n",
       "      <td>...</td>\n",
       "      <td>...</td>\n",
       "      <td>...</td>\n",
       "      <td>...</td>\n",
       "      <td>...</td>\n",
       "      <td>...</td>\n",
       "      <td>...</td>\n",
       "      <td>...</td>\n",
       "      <td>...</td>\n",
       "      <td>...</td>\n",
       "      <td>...</td>\n",
       "      <td>...</td>\n",
       "      <td>...</td>\n",
       "      <td>...</td>\n",
       "    </tr>\n",
       "    <tr>\n",
       "      <th>886</th>\n",
       "      <td>887</td>\n",
       "      <td>0</td>\n",
       "      <td>2</td>\n",
       "      <td>0</td>\n",
       "      <td>27</td>\n",
       "      <td>0</td>\n",
       "      <td>0</td>\n",
       "      <td>13.0000</td>\n",
       "      <td>NaN</td>\n",
       "      <td>0</td>\n",
       "      <td>1</td>\n",
       "      <td>1</td>\n",
       "      <td>0</td>\n",
       "      <td>1</td>\n",
       "      <td>0</td>\n",
       "      <td>0</td>\n",
       "    </tr>\n",
       "    <tr>\n",
       "      <th>887</th>\n",
       "      <td>888</td>\n",
       "      <td>1</td>\n",
       "      <td>1</td>\n",
       "      <td>1</td>\n",
       "      <td>19</td>\n",
       "      <td>0</td>\n",
       "      <td>0</td>\n",
       "      <td>30.0000</td>\n",
       "      <td>B42</td>\n",
       "      <td>0</td>\n",
       "      <td>1</td>\n",
       "      <td>1</td>\n",
       "      <td>1</td>\n",
       "      <td>0</td>\n",
       "      <td>0</td>\n",
       "      <td>0</td>\n",
       "    </tr>\n",
       "    <tr>\n",
       "      <th>888</th>\n",
       "      <td>889</td>\n",
       "      <td>0</td>\n",
       "      <td>3</td>\n",
       "      <td>1</td>\n",
       "      <td>24</td>\n",
       "      <td>1</td>\n",
       "      <td>2</td>\n",
       "      <td>23.4500</td>\n",
       "      <td>NaN</td>\n",
       "      <td>0</td>\n",
       "      <td>1</td>\n",
       "      <td>0</td>\n",
       "      <td>1</td>\n",
       "      <td>0</td>\n",
       "      <td>0</td>\n",
       "      <td>0</td>\n",
       "    </tr>\n",
       "    <tr>\n",
       "      <th>889</th>\n",
       "      <td>890</td>\n",
       "      <td>1</td>\n",
       "      <td>1</td>\n",
       "      <td>0</td>\n",
       "      <td>26</td>\n",
       "      <td>0</td>\n",
       "      <td>0</td>\n",
       "      <td>30.0000</td>\n",
       "      <td>C148</td>\n",
       "      <td>0</td>\n",
       "      <td>0</td>\n",
       "      <td>1</td>\n",
       "      <td>0</td>\n",
       "      <td>1</td>\n",
       "      <td>0</td>\n",
       "      <td>0</td>\n",
       "    </tr>\n",
       "    <tr>\n",
       "      <th>890</th>\n",
       "      <td>891</td>\n",
       "      <td>0</td>\n",
       "      <td>3</td>\n",
       "      <td>0</td>\n",
       "      <td>32</td>\n",
       "      <td>0</td>\n",
       "      <td>0</td>\n",
       "      <td>7.7500</td>\n",
       "      <td>NaN</td>\n",
       "      <td>1</td>\n",
       "      <td>0</td>\n",
       "      <td>1</td>\n",
       "      <td>0</td>\n",
       "      <td>1</td>\n",
       "      <td>0</td>\n",
       "      <td>0</td>\n",
       "    </tr>\n",
       "  </tbody>\n",
       "</table>\n",
       "<p>886 rows × 16 columns</p>\n",
       "</div>"
      ],
      "text/plain": [
       "     PassengerId  Survived  Pclass  Sex  Age  SibSp  Parch     Fare Cabin  \\\n",
       "0              1         0       3    0   22      1      0   7.2500   NaN   \n",
       "1              2         1       1    1   38      1      0  71.2833   C85   \n",
       "2              3         1       3    1   26      0      0   7.9250   NaN   \n",
       "3              4         1       1    1   35      1      0  53.1000  C123   \n",
       "4              5         0       3    0   35      0      0   8.0500   NaN   \n",
       "..           ...       ...     ...  ...  ...    ...    ...      ...   ...   \n",
       "886          887         0       2    0   27      0      0  13.0000   NaN   \n",
       "887          888         1       1    1   19      0      0  30.0000   B42   \n",
       "888          889         0       3    1   24      1      2  23.4500   NaN   \n",
       "889          890         1       1    0   26      0      0  30.0000  C148   \n",
       "890          891         0       3    0   32      0      0   7.7500   NaN   \n",
       "\n",
       "     Embarked_Q  Embarked_S  Acompanhado_Sozinho  Pron_Miss  Pron_Mr  \\\n",
       "0             0           1                    1          0        1   \n",
       "1             0           0                    1          0        0   \n",
       "2             0           1                    1          1        0   \n",
       "3             0           1                    0          0        0   \n",
       "4             0           1                    1          0        1   \n",
       "..          ...         ...                  ...        ...      ...   \n",
       "886           0           1                    1          0        1   \n",
       "887           0           1                    1          1        0   \n",
       "888           0           1                    0          1        0   \n",
       "889           0           0                    1          0        1   \n",
       "890           1           0                    1          0        1   \n",
       "\n",
       "     Pron_Mrs  Pron_Ms  \n",
       "0           0        0  \n",
       "1           1        0  \n",
       "2           0        0  \n",
       "3           1        0  \n",
       "4           0        0  \n",
       "..        ...      ...  \n",
       "886         0        0  \n",
       "887         0        0  \n",
       "888         0        0  \n",
       "889         0        0  \n",
       "890         0        0  \n",
       "\n",
       "[886 rows x 16 columns]"
      ]
     },
     "execution_count": 1809,
     "metadata": {},
     "output_type": "execute_result"
    }
   ],
   "source": [
    "df_train"
   ]
  },
  {
   "cell_type": "markdown",
   "metadata": {},
   "source": [
    "Com isto ficámos apenas com Cabin, que pela falta de muitas amostras, irei dropar antes de utilizar as features para treinar os modelos. Talvez eu teste imputar e tratar essa variável só para testar o impacto no modelo."
   ]
  },
  {
   "cell_type": "code",
   "execution_count": 1810,
   "metadata": {},
   "outputs": [
    {
     "name": "stdout",
     "output_type": "stream",
     "text": [
      "Idade Std: 13.61\n",
      "Idade Média: 29.13\n",
      "Log Idade Std: 0.65\n",
      "Log Idade Média: 3.26\n",
      "\n",
      "Preço Std: 40.26\n",
      "Preço Média: 30.16\n",
      "Log Preço Std: 0.95\n",
      "Log Preço Média: 2.95\n"
     ]
    },
    {
     "data": {
      "image/png": "[encoded data removed]",
      "text/plain": [
       "<Figure size 432x288 with 4 Axes>"
      ]
     },
     "metadata": {},
     "output_type": "display_data"
    }
   ],
   "source": [
    "fig, ax = plt.subplots(2,2)\n",
    "\n",
    "sns.distplot(df_train[\"Age\"], ax=ax[0,0])\n",
    "sns.distplot(df_train[\"Fare\"], ax=ax[0,1])\n",
    "sns.distplot((df_train[\"Age\"]+1).transform(np.log), ax=ax[1,0])\n",
    "sns.distplot((df_train[\"Fare\"]+1).transform(np.log), ax=ax[1,1])\n",
    "\n",
    "print(\"Idade Std: %.2f\" % df_train[\"Age\"].std())\n",
    "print(\"Idade Média: %.2f\" % df_train[\"Age\"].mean())\n",
    "print(\"Log Idade Std: %.2f\" % (df_train[\"Age\"]+1).transform(np.log).std())\n",
    "print(\"Log Idade Média: %.2f\" % (df_train[\"Age\"]+1).transform(np.log).mean())\n",
    "print()\n",
    "print(\"Preço Std: %.2f\" % df_train[\"Fare\"].std())\n",
    "print(\"Preço Média: %.2f\" % df_train[\"Fare\"].mean())\n",
    "print(\"Log Preço Std: %.2f\" % (df_train[\"Fare\"]+1).transform(np.log).std())\n",
    "print(\"Log Preço Média: %.2f\" % (df_train[\"Fare\"]+1).transform(np.log).mean())"
   ]
  },
  {
   "cell_type": "markdown",
   "metadata": {},
   "source": [
    "# Criação de modelos preditivos"
   ]
  },
  {
   "cell_type": "code",
   "execution_count": 1811,
   "metadata": {},
   "outputs": [],
   "source": [
    "# Aqui vou deixar o Cabin e PassengerID de fora\n",
    "X = df_train.drop([\"Cabin\", \"PassengerId\", \"Survived\"], axis=1).values\n",
    "y = df_train[\"Survived\"].values"
   ]
  },
  {
   "cell_type": "code",
   "execution_count": 1812,
   "metadata": {},
   "outputs": [],
   "source": [
    "# Splitar os dados\n",
    "from sklearn.model_selection import train_test_split\n",
    "\n",
    "X_train, X_test, y_train, y_test = train_test_split(X, y, test_size=0.3, stratify=y)"
   ]
  },
  {
   "cell_type": "markdown",
   "metadata": {},
   "source": [
    "Função que treinará, preverá e retornará a acurácia do modelo assim como o objeto"
   ]
  },
  {
   "cell_type": "code",
   "execution_count": 1813,
   "metadata": {},
   "outputs": [],
   "source": [
    "from sklearn.pipeline import Pipeline\n",
    "from sklearn.preprocessing import StandardScaler\n",
    "from sklearn.discriminant_analysis import LinearDiscriminantAnalysis as LDA\n",
    "from sklearn.metrics import accuracy_score, confusion_matrix"
   ]
  },
  {
   "cell_type": "markdown",
   "metadata": {},
   "source": [
    "# Aplicar no Dataset de Teste"
   ]
  },
  {
   "cell_type": "code",
   "execution_count": 1814,
   "metadata": {},
   "outputs": [],
   "source": [
    "# Esta função é para ser usada na parte abaixo (em que treino os modelos preditivos e prevejo os valores)\n",
    "def createTestCSV(model, filename):\n",
    "\n",
    "    # Guardar os ids dos passageiros\n",
    "    passenger_id = df_test[\"PassengerId\"].values\n",
    "\n",
    "    # Aqui vou deixar o Cabin e o PassengerId de fora\n",
    "    X = df_test.drop([\"Cabin\", \"PassengerId\"], axis=1).values\n",
    "    \n",
    "    pred = model.predict(X)\n",
    "    \n",
    "    # Guardar os resultados num .csv\n",
    "    df = pd.DataFrame({\"PassengerId\": passenger_id, \"Survived\": pred})\n",
    "    df.to_csv(filename, index=False)"
   ]
  },
  {
   "cell_type": "markdown",
   "metadata": {},
   "source": [
    "## Regressão Logística"
   ]
  },
  {
   "cell_type": "code",
   "execution_count": 1815,
   "metadata": {},
   "outputs": [
    {
     "name": "stderr",
     "output_type": "stream",
     "text": [
      "c:\\users\\tigax\\appdata\\local\\programs\\python\\python37\\lib\\site-packages\\sklearn\\linear_model\\_sag.py:330: ConvergenceWarning: The max_iter was reached which means the coef_ did not converge\n",
      "  \"the coef_ did not converge\", ConvergenceWarning)\n"
     ]
    },
    {
     "data": {
      "image/png": "[encoded data removed]",
      "text/plain": [
       "<Figure size 720x360 with 1 Axes>"
      ]
     },
     "metadata": {},
     "output_type": "display_data"
    }
   ],
   "source": [
    "from sklearn.linear_model import LogisticRegression\n",
    "from sklearn.metrics import roc_auc_score, roc_curve\n",
    "\n",
    "plt.figure(figsize=(10,5))\n",
    "\n",
    "c_reg = [ 0.001, 0.01, 0.1, 1.0, 10.0, 100.0]\n",
    "\n",
    "for c in c_reg:\n",
    "    lr_clf = Pipeline(steps=[\n",
    "        (\"scale\", StandardScaler()),\n",
    "        #(\"lda\", LDA()),\n",
    "        (\"lr\", LogisticRegression(C=c, penalty=\"l1\", solver=\"saga\"))\n",
    "    ])\n",
    "\n",
    "    lr_clf.fit(X_train, y_train)\n",
    "\n",
    "    pred = lr_clf.predict(X_test)\n",
    "    \n",
    "    # Plotar ROC Curve\n",
    "\n",
    "    fpr = dict()\n",
    "    tpr = dict()\n",
    "    roc_auc = dict()\n",
    "    for i in range(0,2):\n",
    "        # Calcular probabilidades de a classe ser 1 (sobreviveu)\n",
    "        probs = lr_clf.predict_proba(X_test)[:, i]\n",
    "\n",
    "        # Calcular o AUC Score\n",
    "        roc_auc[i] = roc_auc_score(y_test, probs)\n",
    "\n",
    "        # Calcular cada tpr e fpr para plotar a roc_curve\n",
    "        fpr[i], tpr[i], _ = roc_curve(y_test, probs)\n",
    "    \n",
    "    plt.plot(fpr[1], tpr[1], label=\"C = \"+str(c))\n",
    "    plt.plot([0,1], [0,1], linestyle=\"--\")\n",
    "    plt.legend()"
   ]
  },
  {
   "cell_type": "code",
   "execution_count": 1816,
   "metadata": {},
   "outputs": [
    {
     "name": "stdout",
     "output_type": "stream",
     "text": [
      "Treino acurácia Regressão Logística (c/ hyperparams) = 0.832\n",
      "Teste acurácia Regressão Logística (c/ hyperparams) = 0.835\n",
      "\n",
      "Matriz de confusão (teste)\n",
      " [[144  20]\n",
      " [ 24  78]]\n"
     ]
    }
   ],
   "source": [
    "lr_clf = Pipeline(steps=[\n",
    "    (\"scale\", StandardScaler()),\n",
    "    #(\"lda\", LDA()),\n",
    "    (\"lr\", LogisticRegression(C=0.1, penalty=\"l1\", solver=\"saga\"))\n",
    "])\n",
    "\n",
    "lr_clf.fit(X_train, y_train)\n",
    "\n",
    "pred = lr_clf.predict(X_test)\n",
    "\n",
    "createTestCSV(lr_clf, \"lr.csv\")\n",
    "print(\"Treino acurácia Regressão Logística (c/ hyperparams) = %.3f\" % lr_clf.score(X_train, y_train))\n",
    "print(\"Teste acurácia Regressão Logística (c/ hyperparams) = %.3f\" % lr_clf.score(X_test, y_test))\n",
    "print(\"\\nMatriz de confusão (teste)\\n\",  confusion_matrix(y_test, pred))"
   ]
  },
  {
   "cell_type": "markdown",
   "metadata": {},
   "source": [
    "A regressão logística usa o método regularizador Lasso (L1) e o solver tem que ser o saga, porque o lbgfs só funciona com Ridge (L2). O porquê de usar Lasso é devido a ter várias features esparsas (onde grande parte dos valores são 0), devido a serem dummy variables."
   ]
  },
  {
   "cell_type": "code",
   "execution_count": 1817,
   "metadata": {},
   "outputs": [
    {
     "data": {
      "text/plain": [
       "array([0, 0, 0, 0, 0, 0, 0, 0, 0, 0, 0, 0, 0, 0, 0, 0, 0, 0, 0, 0, 0, 0,\n",
       "       0, 0, 0, 0, 0, 0, 0, 0, 0, 0, 0, 0, 0, 0, 0, 0, 0, 0, 0, 0, 0, 0,\n",
       "       0, 0, 0, 0, 0, 0, 0, 0, 0, 0, 0, 0, 0, 0, 0, 0, 0, 0, 0, 0, 0, 0,\n",
       "       0, 0, 0, 0, 0, 0, 0, 0, 0, 0, 0, 0, 0, 0, 0, 0, 0, 0, 0, 0, 0, 0,\n",
       "       0, 0, 0, 0, 0, 0, 0, 0, 0, 0, 0, 0, 0, 0, 0, 0, 0, 0, 0, 0, 0, 0,\n",
       "       0, 0, 0, 0, 0, 0, 0, 0, 0, 0, 0, 0, 0, 0, 0, 0, 0, 0, 0, 0, 0, 0,\n",
       "       0, 0, 0, 0, 0, 0, 0, 0, 0, 0, 0, 0, 0, 0, 0, 0, 0, 0, 0, 0, 0, 0,\n",
       "       0, 0, 0, 0, 0, 0, 0, 0, 0, 0], dtype=int64)"
      ]
     },
     "execution_count": 1817,
     "metadata": {},
     "output_type": "execute_result"
    }
   ],
   "source": [
    "y_test[y_test==0]"
   ]
  },
  {
   "cell_type": "markdown",
   "metadata": {},
   "source": [
    "## Naive Bayes Gaussiano (Normal)"
   ]
  },
  {
   "cell_type": "code",
   "execution_count": 1818,
   "metadata": {},
   "outputs": [
    {
     "name": "stdout",
     "output_type": "stream",
     "text": [
      "Acurácia dos dados de treino = 0.811\n",
      "Acurácia dos dados de teste = 0.801\n",
      "Acurácia da previsão = 0.801\n"
     ]
    }
   ],
   "source": [
    "from sklearn.naive_bayes import GaussianNB\n",
    "from sklearn.metrics import accuracy_score\n",
    "\n",
    "naive_clf = GaussianNB()\n",
    "\n",
    "naive_clf.fit(X_train, y_train)\n",
    "\n",
    "pred = naive_clf.predict(X_test)\n",
    "\n",
    "# Gerar .csv final\n",
    "createTestCSV(naive_clf, \"gaussian_naive.csv\")\n",
    "print(\"Acurácia dos dados de treino = %.3f\" % naive_clf.score(X_train, y_train))\n",
    "print(\"Acurácia dos dados de teste = %.3f\" % naive_clf.score(X_test, y_test))\n",
    "print(\"Acurácia da previsão = %.3f\" % accuracy_score(y_test, pred))"
   ]
  },
  {
   "cell_type": "markdown",
   "metadata": {},
   "source": [
    "## Naive Bayes Bernoulli\n",
    "\n",
    "A razão de usar este é devido a termos vários dados binários que podem ser considerados vetores booleanos"
   ]
  },
  {
   "cell_type": "code",
   "execution_count": 1819,
   "metadata": {},
   "outputs": [
    {
     "name": "stdout",
     "output_type": "stream",
     "text": [
      "Acurácia dos dados de treino = 0.789\n",
      "Acurácia dos dados de teste = 0.782\n",
      "Acurácia da previsão = 0.782\n"
     ]
    }
   ],
   "source": [
    "from sklearn.naive_bayes import BernoulliNB\n",
    "from sklearn.metrics import accuracy_score\n",
    "\n",
    "naiveb_clf = Pipeline(steps=[\n",
    "    (\"scaler\", StandardScaler()),\n",
    "    (\"estimator\", BernoulliNB())\n",
    "])\n",
    "\n",
    "naiveb_clf.fit(X_train, y_train)\n",
    "\n",
    "pred = naiveb_clf.predict(X_test)\n",
    "\n",
    "# Gerar .csv final\n",
    "createTestCSV(naiveb_clf, \"bernoulli_naive.csv\")\n",
    "print(\"Acurácia dos dados de treino = %.3f\" % naiveb_clf.score(X_train, y_train))\n",
    "print(\"Acurácia dos dados de teste = %.3f\" % naiveb_clf.score(X_test, y_test))\n",
    "print(\"Acurácia da previsão = %.3f\" % accuracy_score(y_test, pred))"
   ]
  },
  {
   "cell_type": "markdown",
   "metadata": {},
   "source": [
    "## KNN"
   ]
  },
  {
   "cell_type": "code",
   "execution_count": 1820,
   "metadata": {},
   "outputs": [
    {
     "data": {
      "text/plain": [
       "Text(0, 0.5, 'Taxa de Erro')"
      ]
     },
     "execution_count": 1820,
     "metadata": {},
     "output_type": "execute_result"
    },
    {
     "data": {
      "image/png": "[encoded data removed]",
      "text/plain": [
       "<Figure size 720x360 with 1 Axes>"
      ]
     },
     "metadata": {},
     "output_type": "display_data"
    }
   ],
   "source": [
    "from sklearn.neighbors import KNeighborsClassifier\n",
    "\n",
    "## Vou aplicar o método do cotovelo para verificar o melhor valor de K\n",
    "\n",
    "# Ficarão os erros de cada modelo com K diferente\n",
    "error_rate = []\n",
    "\n",
    "for i in range(7,12):\n",
    "    \n",
    "    clf_knn = Pipeline(steps=[\n",
    "        (\"scale\", StandardScaler()),\n",
    "        (\"estimator\", KNeighborsClassifier(n_neighbors=i))\n",
    "    ])\n",
    "    \n",
    "    clf_knn.fit(X_train, y_train)\n",
    "    \n",
    "    pred = clf_knn.predict(X_test)\n",
    "    \n",
    "    error_rate.append( np.mean(pred != y_test) )\n",
    "\n",
    "\n",
    "# Plotar o gráfico de cotovelo\n",
    "plt.figure(figsize=(10,5))\n",
    "plt.plot(range(7,12), error_rate, color=\"limegreen\", marker='o', markerfacecolor=\"darkgreen\")\n",
    "plt.title(\"Método do Cotovelo para encontrar K ótimo\")\n",
    "plt.xlabel(\"Valor de K\")\n",
    "plt.ylabel(\"Taxa de Erro\")"
   ]
  },
  {
   "cell_type": "markdown",
   "metadata": {},
   "source": [
    "Vou apostar no K = 8, pois por várias vezes que rodei train_test_split, 8 pareceu-me um bom valor para K"
   ]
  },
  {
   "cell_type": "code",
   "execution_count": 1822,
   "metadata": {},
   "outputs": [
    {
     "name": "stdout",
     "output_type": "stream",
     "text": [
      "Acurácia dos dados de treino = 0.837\n",
      "Acurácia dos dados de teste = 0.820\n",
      "Acurácia da previsão = 0.820\n"
     ]
    }
   ],
   "source": [
    "from sklearn.model_selection import GridSearchCV\n",
    "from sklearn.decomposition import PCA\n",
    "\n",
    "clf_knn = Pipeline(steps=[\n",
    "    (\"scale\", StandardScaler()),\n",
    "    (\"pca\", PCA(n_components=3)),\n",
    "    (\"clf\", KNeighborsClassifier(n_neighbors=8, metric=\"euclidean\"))\n",
    "])\n",
    "\n",
    "clf_knn.fit(X_train, y_train)\n",
    "\n",
    "pred = clf_knn.predict(X_test)\n",
    "\n",
    "# Gerar .csv final\n",
    "createTestCSV(clf_knn, \"knn.csv\")\n",
    "print(\"Acurácia dos dados de treino = %.3f\" % clf_knn.score(X_train, y_train))\n",
    "print(\"Acurácia dos dados de teste = %.3f\" % clf_knn.score(X_test, y_test))\n",
    "print(\"Acurácia da previsão = %.3f\" % accuracy_score(y_test, pred))"
   ]
  },
  {
   "cell_type": "markdown",
   "metadata": {},
   "source": [
    "## Árvore de Decisão"
   ]
  },
  {
   "cell_type": "code",
   "execution_count": 1824,
   "metadata": {},
   "outputs": [
    {
     "name": "stdout",
     "output_type": "stream",
     "text": [
      "Acurácia dos dados de treino = 0.989\n",
      "Acurácia dos dados de teste = 0.793\n",
      "Acurácia da previsão = 0.793\n"
     ]
    }
   ],
   "source": [
    "from sklearn.tree import DecisionTreeClassifier\n",
    "\n",
    "\n",
    "clf_tree = Pipeline(steps=[\n",
    "    (\"scale\", StandardScaler()),\n",
    "    (\"clf\", DecisionTreeClassifier(max_depth=5000, criterion=\"entropy\"))\n",
    "])\n",
    "\n",
    "clf_tree.fit(X_train, y_train)\n",
    "\n",
    "pred = clf_tree.predict(X_test)\n",
    "\n",
    "# Gerar .csv final\n",
    "createTestCSV(clf_tree, \"tree.csv\")\n",
    "print(\"Acurácia dos dados de treino = %.3f\" % clf_tree.score(X_train, y_train))\n",
    "print(\"Acurácia dos dados de teste = %.3f\" % clf_tree.score(X_test, y_test))\n",
    "print(\"Acurácia da previsão = %.3f\" % accuracy_score(y_test, pred))"
   ]
  },
  {
   "cell_type": "code",
   "execution_count": null,
   "metadata": {},
   "outputs": [],
   "source": []
  }
 ],
 "metadata": {
  "kernelspec": {
   "display_name": "Python 3",
   "language": "python",
   "name": "python3"
  },
  "language_info": {
   "codemirror_mode": {
    "name": "ipython",
    "version": 3
   },
   "file_extension": ".py",
   "mimetype": "text/x-python",
   "name": "python",
   "nbconvert_exporter": "python",
   "pygments_lexer": "ipython3",
   "version": "3.7.7"
  }
 },
 "nbformat": 4,
 "nbformat_minor": 4
}
